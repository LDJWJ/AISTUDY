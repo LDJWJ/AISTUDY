{
 "cells": [
  {
   "cell_type": "code",
   "execution_count": 15,
   "metadata": {
    "colab": {
     "base_uri": "https://localhost:8080/",
     "height": 36
    },
    "colab_type": "code",
    "executionInfo": {
     "elapsed": 705,
     "status": "ok",
     "timestamp": 1544714218947,
     "user": {
      "displayName": "K Joy",
      "photoUrl": "",
      "userId": "10088839989700781050"
     },
     "user_tz": -540
    },
    "id": "lmsain4iFOf5",
    "outputId": "9192194f-5c95-43ef-886b-3181eb5255fc"
   },
   "outputs": [
    {
     "name": "stdout",
     "output_type": "stream",
     "text": [
      "2.2.4\n"
     ]
    }
   ],
   "source": [
    "import keras\n",
    "print(keras.__version__)\n",
    "\n",
    "from keras.models import Sequential\n",
    "from keras.layers import Dense\n",
    "import numpy \n",
    "import tensorflow as tf"
   ]
  },
  {
   "cell_type": "markdown",
   "metadata": {
    "colab_type": "text",
    "id": "4kJH5TtrFk9c"
   },
   "source": [
    "## 데이터 다운로드\n",
    "## \n",
    "https://archive.ics.uci.edu/ml/datasets/iris\n",
    "  "
   ]
  },
  {
   "cell_type": "code",
   "execution_count": 21,
   "metadata": {
    "colab": {
     "base_uri": "https://localhost:8080/",
     "height": 499
    },
    "colab_type": "code",
    "executionInfo": {
     "elapsed": 1046,
     "status": "ok",
     "timestamp": 1544714506690,
     "user": {
      "displayName": "K Joy",
      "photoUrl": "",
      "userId": "10088839989700781050"
     },
     "user_tz": -540
    },
    "id": "8OdP13pdGz4Z",
    "outputId": "258a54a5-c22e-4406-b0e6-5d725faced74"
   },
   "outputs": [
    {
     "data": {
      "text/html": [
       "<div>\n",
       "<style scoped>\n",
       "    .dataframe tbody tr th:only-of-type {\n",
       "        vertical-align: middle;\n",
       "    }\n",
       "\n",
       "    .dataframe tbody tr th {\n",
       "        vertical-align: top;\n",
       "    }\n",
       "\n",
       "    .dataframe thead th {\n",
       "        text-align: right;\n",
       "    }\n",
       "</style>\n",
       "<table border=\"1\" class=\"dataframe\">\n",
       "  <thead>\n",
       "    <tr style=\"text-align: right;\">\n",
       "      <th></th>\n",
       "      <th>PassengerId</th>\n",
       "      <th>Survived</th>\n",
       "      <th>Pclass</th>\n",
       "      <th>Name</th>\n",
       "      <th>Sex</th>\n",
       "      <th>Age</th>\n",
       "      <th>SibSp</th>\n",
       "      <th>Parch</th>\n",
       "      <th>Ticket</th>\n",
       "      <th>Fare</th>\n",
       "      <th>Cabin</th>\n",
       "      <th>Embarked</th>\n",
       "    </tr>\n",
       "  </thead>\n",
       "  <tbody>\n",
       "    <tr>\n",
       "      <th>0</th>\n",
       "      <td>1</td>\n",
       "      <td>0</td>\n",
       "      <td>3</td>\n",
       "      <td>Braund, Mr. Owen Harris</td>\n",
       "      <td>male</td>\n",
       "      <td>22.0</td>\n",
       "      <td>1</td>\n",
       "      <td>0</td>\n",
       "      <td>A/5 21171</td>\n",
       "      <td>7.2500</td>\n",
       "      <td>NaN</td>\n",
       "      <td>S</td>\n",
       "    </tr>\n",
       "    <tr>\n",
       "      <th>1</th>\n",
       "      <td>2</td>\n",
       "      <td>1</td>\n",
       "      <td>1</td>\n",
       "      <td>Cumings, Mrs. John Bradley (Florence Briggs Th...</td>\n",
       "      <td>female</td>\n",
       "      <td>38.0</td>\n",
       "      <td>1</td>\n",
       "      <td>0</td>\n",
       "      <td>PC 17599</td>\n",
       "      <td>71.2833</td>\n",
       "      <td>C85</td>\n",
       "      <td>C</td>\n",
       "    </tr>\n",
       "    <tr>\n",
       "      <th>2</th>\n",
       "      <td>3</td>\n",
       "      <td>1</td>\n",
       "      <td>3</td>\n",
       "      <td>Heikkinen, Miss. Laina</td>\n",
       "      <td>female</td>\n",
       "      <td>26.0</td>\n",
       "      <td>0</td>\n",
       "      <td>0</td>\n",
       "      <td>STON/O2. 3101282</td>\n",
       "      <td>7.9250</td>\n",
       "      <td>NaN</td>\n",
       "      <td>S</td>\n",
       "    </tr>\n",
       "    <tr>\n",
       "      <th>3</th>\n",
       "      <td>4</td>\n",
       "      <td>1</td>\n",
       "      <td>1</td>\n",
       "      <td>Futrelle, Mrs. Jacques Heath (Lily May Peel)</td>\n",
       "      <td>female</td>\n",
       "      <td>35.0</td>\n",
       "      <td>1</td>\n",
       "      <td>0</td>\n",
       "      <td>113803</td>\n",
       "      <td>53.1000</td>\n",
       "      <td>C123</td>\n",
       "      <td>S</td>\n",
       "    </tr>\n",
       "    <tr>\n",
       "      <th>4</th>\n",
       "      <td>5</td>\n",
       "      <td>0</td>\n",
       "      <td>3</td>\n",
       "      <td>Allen, Mr. William Henry</td>\n",
       "      <td>male</td>\n",
       "      <td>35.0</td>\n",
       "      <td>0</td>\n",
       "      <td>0</td>\n",
       "      <td>373450</td>\n",
       "      <td>8.0500</td>\n",
       "      <td>NaN</td>\n",
       "      <td>S</td>\n",
       "    </tr>\n",
       "  </tbody>\n",
       "</table>\n",
       "</div>"
      ],
      "text/plain": [
       "   PassengerId  Survived  Pclass  \\\n",
       "0            1         0       3   \n",
       "1            2         1       1   \n",
       "2            3         1       3   \n",
       "3            4         1       1   \n",
       "4            5         0       3   \n",
       "\n",
       "                                                Name     Sex   Age  SibSp  \\\n",
       "0                            Braund, Mr. Owen Harris    male  22.0      1   \n",
       "1  Cumings, Mrs. John Bradley (Florence Briggs Th...  female  38.0      1   \n",
       "2                             Heikkinen, Miss. Laina  female  26.0      0   \n",
       "3       Futrelle, Mrs. Jacques Heath (Lily May Peel)  female  35.0      1   \n",
       "4                           Allen, Mr. William Henry    male  35.0      0   \n",
       "\n",
       "   Parch            Ticket     Fare Cabin Embarked  \n",
       "0      0         A/5 21171   7.2500   NaN        S  \n",
       "1      0          PC 17599  71.2833   C85        C  \n",
       "2      0  STON/O2. 3101282   7.9250   NaN        S  \n",
       "3      0            113803  53.1000  C123        S  \n",
       "4      0            373450   8.0500   NaN        S  "
      ]
     },
     "execution_count": 21,
     "metadata": {
      "tags": []
     },
     "output_type": "execute_result"
    }
   ],
   "source": [
    "import pandas as pd\n",
    "\n",
    "data = pd.read_csv(\"train_modified.csv\")\n",
    "data.head()"
   ]
  },
  {
   "cell_type": "code",
   "execution_count": 22,
   "metadata": {
    "colab": {
     "base_uri": "https://localhost:8080/",
     "height": 92
    },
    "colab_type": "code",
    "executionInfo": {
     "elapsed": 926,
     "status": "ok",
     "timestamp": 1544714508944,
     "user": {
      "displayName": "K Joy",
      "photoUrl": "",
      "userId": "10088839989700781050"
     },
     "user_tz": -540
    },
    "id": "ysbDA78LKBCx",
    "outputId": "d6dbb9f4-0f10-4347-9e14-c4ea36554e15"
   },
   "outputs": [
    {
     "name": "stdout",
     "output_type": "stream",
     "text": [
      "(891, 12)\n",
      "Index(['PassengerId', 'Survived', 'Pclass', 'Name', 'Sex', 'Age', 'SibSp',\n",
      "       'Parch', 'Ticket', 'Fare', 'Cabin', 'Embarked'],\n",
      "      dtype='object')\n"
     ]
    }
   ],
   "source": [
    "print(data.shape)\n",
    "print(data.columns)"
   ]
  },
  {
   "cell_type": "code",
   "execution_count": 0,
   "metadata": {
    "colab": {},
    "colab_type": "code",
    "id": "okOb4nk7KTlV"
   },
   "outputs": [],
   "source": [
    "input_col = ['Pclass', 'Age', 'SibSp', 'Parch']\n",
    "labeled_col = ['Survived']"
   ]
  },
  {
   "cell_type": "code",
   "execution_count": 0,
   "metadata": {
    "colab": {},
    "colab_type": "code",
    "id": "WwojZNOSHYLa"
   },
   "outputs": [],
   "source": [
    "X = data[ input_col ]\n",
    "Y = data[ labeled_col ]"
   ]
  },
  {
   "cell_type": "code",
   "execution_count": 0,
   "metadata": {
    "colab": {},
    "colab_type": "code",
    "id": "BH2_JkNaHf9c"
   },
   "outputs": [],
   "source": [
    "seed = 0\n",
    "numpy.random.seed(seed)\n",
    "tf.set_random_seed(seed)"
   ]
  },
  {
   "cell_type": "markdown",
   "metadata": {
    "colab_type": "text",
    "id": "IDiwqzWVHntt"
   },
   "source": [
    "## 딥러닝 구조 결정"
   ]
  },
  {
   "cell_type": "markdown",
   "metadata": {
    "colab_type": "text",
    "id": "MHBITHBKM5XW"
   },
   "source": [
    "* 케라스 라이브러리 중에서 Sequential 함수는 딥러닝의 구조를 한층 한층 쉽게 쌓아올릴 수 있다.\n",
    "* Sequential() 함수 선언 후, model.add() 함수를 사용한다\n",
    "* input_dim 입력층 노드\n",
    "* activation - 활성화 함수 선언 (relu, sigmoid)\n",
    "* Dense() 함수를 이용하여 각 층에 세부 내용을 설정해 준다."
   ]
  },
  {
   "cell_type": "code",
   "execution_count": 0,
   "metadata": {
    "colab": {},
    "colab_type": "code",
    "id": "uw8QTiwAH6im"
   },
   "outputs": [],
   "source": [
    "model = Sequential()\n",
    "model.add(Dense(30, input_dim=4, activation='relu'))\n",
    "model.add(Dense(1, activation='sigmoid'))"
   ]
  },
  {
   "cell_type": "markdown",
   "metadata": {
    "colab_type": "text",
    "id": "xKpQQSRUIOmN"
   },
   "source": [
    "## 딥러닝 실행"
   ]
  },
  {
   "cell_type": "code",
   "execution_count": 36,
   "metadata": {
    "colab": {
     "base_uri": "https://localhost:8080/",
     "height": 3769
    },
    "colab_type": "code",
    "executionInfo": {
     "elapsed": 9598,
     "status": "ok",
     "timestamp": 1544715026171,
     "user": {
      "displayName": "K Joy",
      "photoUrl": "",
      "userId": "10088839989700781050"
     },
     "user_tz": -540
    },
    "id": "StC_WRvXLgQx",
    "outputId": "90a9e4e8-5e4a-43b5-e6a6-a92162792c29"
   },
   "outputs": [
    {
     "name": "stdout",
     "output_type": "stream",
     "text": [
      "Epoch 1/100\n",
      "891/891 [==============================] - 0s 229us/step - loss: 0.1980 - acc: 0.7071\n",
      "Epoch 2/100\n",
      "891/891 [==============================] - 0s 94us/step - loss: 0.1961 - acc: 0.7183\n",
      "Epoch 3/100\n",
      "891/891 [==============================] - 0s 93us/step - loss: 0.1956 - acc: 0.7194\n",
      "Epoch 4/100\n",
      "891/891 [==============================] - 0s 92us/step - loss: 0.1951 - acc: 0.7127\n",
      "Epoch 5/100\n",
      "891/891 [==============================] - 0s 99us/step - loss: 0.1945 - acc: 0.7217\n",
      "Epoch 6/100\n",
      "891/891 [==============================] - 0s 93us/step - loss: 0.1943 - acc: 0.7149\n",
      "Epoch 7/100\n",
      "891/891 [==============================] - 0s 89us/step - loss: 0.1958 - acc: 0.6970\n",
      "Epoch 8/100\n",
      "891/891 [==============================] - 0s 100us/step - loss: 0.1960 - acc: 0.7059\n",
      "Epoch 9/100\n",
      "891/891 [==============================] - 0s 95us/step - loss: 0.1941 - acc: 0.7228\n",
      "Epoch 10/100\n",
      "891/891 [==============================] - 0s 95us/step - loss: 0.1947 - acc: 0.7239\n",
      "Epoch 11/100\n",
      "891/891 [==============================] - 0s 93us/step - loss: 0.1916 - acc: 0.7239\n",
      "Epoch 12/100\n",
      "891/891 [==============================] - 0s 95us/step - loss: 0.1954 - acc: 0.7228\n",
      "Epoch 13/100\n",
      "891/891 [==============================] - 0s 92us/step - loss: 0.1970 - acc: 0.7104\n",
      "Epoch 14/100\n",
      "891/891 [==============================] - 0s 96us/step - loss: 0.1958 - acc: 0.7127\n",
      "Epoch 15/100\n",
      "891/891 [==============================] - 0s 89us/step - loss: 0.1953 - acc: 0.7116\n",
      "Epoch 16/100\n",
      "891/891 [==============================] - 0s 96us/step - loss: 0.1920 - acc: 0.7250\n",
      "Epoch 17/100\n",
      "891/891 [==============================] - 0s 90us/step - loss: 0.1920 - acc: 0.7160\n",
      "Epoch 18/100\n",
      "891/891 [==============================] - 0s 90us/step - loss: 0.1927 - acc: 0.7217\n",
      "Epoch 19/100\n",
      "891/891 [==============================] - 0s 110us/step - loss: 0.1927 - acc: 0.7183\n",
      "Epoch 20/100\n",
      "891/891 [==============================] - 0s 108us/step - loss: 0.1950 - acc: 0.7026\n",
      "Epoch 21/100\n",
      "891/891 [==============================] - 0s 100us/step - loss: 0.1972 - acc: 0.7194\n",
      "Epoch 22/100\n",
      "891/891 [==============================] - 0s 100us/step - loss: 0.1921 - acc: 0.7183\n",
      "Epoch 23/100\n",
      "891/891 [==============================] - 0s 107us/step - loss: 0.1931 - acc: 0.7172\n",
      "Epoch 24/100\n",
      "891/891 [==============================] - 0s 108us/step - loss: 0.1910 - acc: 0.7160\n",
      "Epoch 25/100\n",
      "891/891 [==============================] - 0s 103us/step - loss: 0.1946 - acc: 0.7116\n",
      "Epoch 26/100\n",
      "891/891 [==============================] - 0s 96us/step - loss: 0.1964 - acc: 0.7026\n",
      "Epoch 27/100\n",
      "891/891 [==============================] - 0s 92us/step - loss: 0.1936 - acc: 0.7093\n",
      "Epoch 28/100\n",
      "891/891 [==============================] - 0s 93us/step - loss: 0.1919 - acc: 0.7194\n",
      "Epoch 29/100\n",
      "891/891 [==============================] - 0s 96us/step - loss: 0.1937 - acc: 0.7116\n",
      "Epoch 30/100\n",
      "891/891 [==============================] - 0s 92us/step - loss: 0.1919 - acc: 0.7228\n",
      "Epoch 31/100\n",
      "891/891 [==============================] - 0s 93us/step - loss: 0.1924 - acc: 0.7183\n",
      "Epoch 32/100\n",
      "891/891 [==============================] - 0s 93us/step - loss: 0.1930 - acc: 0.7284\n",
      "Epoch 33/100\n",
      "891/891 [==============================] - 0s 94us/step - loss: 0.1932 - acc: 0.7228\n",
      "Epoch 34/100\n",
      "891/891 [==============================] - 0s 94us/step - loss: 0.1917 - acc: 0.7160\n",
      "Epoch 35/100\n",
      "891/891 [==============================] - 0s 94us/step - loss: 0.1953 - acc: 0.7217\n",
      "Epoch 36/100\n",
      "891/891 [==============================] - 0s 96us/step - loss: 0.1909 - acc: 0.7250\n",
      "Epoch 37/100\n",
      "891/891 [==============================] - 0s 94us/step - loss: 0.1936 - acc: 0.7149\n",
      "Epoch 38/100\n",
      "891/891 [==============================] - 0s 95us/step - loss: 0.1971 - acc: 0.7082\n",
      "Epoch 39/100\n",
      "891/891 [==============================] - 0s 95us/step - loss: 0.1929 - acc: 0.7217\n",
      "Epoch 40/100\n",
      "891/891 [==============================] - 0s 96us/step - loss: 0.1920 - acc: 0.7183\n",
      "Epoch 41/100\n",
      "891/891 [==============================] - 0s 96us/step - loss: 0.1936 - acc: 0.7205\n",
      "Epoch 42/100\n",
      "891/891 [==============================] - 0s 96us/step - loss: 0.1914 - acc: 0.7183\n",
      "Epoch 43/100\n",
      "891/891 [==============================] - 0s 100us/step - loss: 0.1918 - acc: 0.7239\n",
      "Epoch 44/100\n",
      "891/891 [==============================] - 0s 94us/step - loss: 0.1946 - acc: 0.7172\n",
      "Epoch 45/100\n",
      "891/891 [==============================] - 0s 98us/step - loss: 0.1899 - acc: 0.7262\n",
      "Epoch 46/100\n",
      "891/891 [==============================] - 0s 91us/step - loss: 0.1936 - acc: 0.7239\n",
      "Epoch 47/100\n",
      "891/891 [==============================] - 0s 105us/step - loss: 0.1931 - acc: 0.7104\n",
      "Epoch 48/100\n",
      "891/891 [==============================] - 0s 91us/step - loss: 0.1967 - acc: 0.7149\n",
      "Epoch 49/100\n",
      "891/891 [==============================] - 0s 96us/step - loss: 0.1906 - acc: 0.7194\n",
      "Epoch 50/100\n",
      "891/891 [==============================] - 0s 95us/step - loss: 0.1917 - acc: 0.7127\n",
      "Epoch 51/100\n",
      "891/891 [==============================] - 0s 92us/step - loss: 0.1907 - acc: 0.7250\n",
      "Epoch 52/100\n",
      "891/891 [==============================] - 0s 95us/step - loss: 0.1924 - acc: 0.7239\n",
      "Epoch 53/100\n",
      "891/891 [==============================] - 0s 97us/step - loss: 0.1898 - acc: 0.7228\n",
      "Epoch 54/100\n",
      "891/891 [==============================] - 0s 94us/step - loss: 0.1935 - acc: 0.7183\n",
      "Epoch 55/100\n",
      "891/891 [==============================] - 0s 100us/step - loss: 0.1930 - acc: 0.7239\n",
      "Epoch 56/100\n",
      "891/891 [==============================] - 0s 91us/step - loss: 0.1898 - acc: 0.7205\n",
      "Epoch 57/100\n",
      "891/891 [==============================] - 0s 96us/step - loss: 0.1948 - acc: 0.7183\n",
      "Epoch 58/100\n",
      "891/891 [==============================] - 0s 93us/step - loss: 0.1918 - acc: 0.7217\n",
      "Epoch 59/100\n",
      "891/891 [==============================] - 0s 95us/step - loss: 0.1898 - acc: 0.7194\n",
      "Epoch 60/100\n",
      "891/891 [==============================] - 0s 95us/step - loss: 0.1920 - acc: 0.7239\n",
      "Epoch 61/100\n",
      "891/891 [==============================] - 0s 92us/step - loss: 0.1903 - acc: 0.7250\n",
      "Epoch 62/100\n",
      "891/891 [==============================] - 0s 92us/step - loss: 0.1960 - acc: 0.6970\n",
      "Epoch 63/100\n",
      "891/891 [==============================] - 0s 93us/step - loss: 0.1899 - acc: 0.7239\n",
      "Epoch 64/100\n",
      "891/891 [==============================] - 0s 94us/step - loss: 0.1899 - acc: 0.7295\n",
      "Epoch 65/100\n",
      "891/891 [==============================] - 0s 98us/step - loss: 0.1916 - acc: 0.7205\n",
      "Epoch 66/100\n",
      "891/891 [==============================] - 0s 99us/step - loss: 0.1929 - acc: 0.7239\n",
      "Epoch 67/100\n",
      "891/891 [==============================] - 0s 96us/step - loss: 0.1926 - acc: 0.7217\n",
      "Epoch 68/100\n",
      "891/891 [==============================] - 0s 99us/step - loss: 0.1897 - acc: 0.7306\n",
      "Epoch 69/100\n",
      "891/891 [==============================] - 0s 91us/step - loss: 0.1903 - acc: 0.7205\n",
      "Epoch 70/100\n",
      "891/891 [==============================] - 0s 90us/step - loss: 0.1926 - acc: 0.7183\n",
      "Epoch 71/100\n",
      "891/891 [==============================] - 0s 96us/step - loss: 0.1897 - acc: 0.7318\n",
      "Epoch 72/100\n",
      "891/891 [==============================] - 0s 94us/step - loss: 0.1911 - acc: 0.7205\n",
      "Epoch 73/100\n",
      "891/891 [==============================] - 0s 94us/step - loss: 0.1910 - acc: 0.7239\n",
      "Epoch 74/100\n",
      "891/891 [==============================] - 0s 94us/step - loss: 0.1930 - acc: 0.7250\n",
      "Epoch 75/100\n",
      "891/891 [==============================] - 0s 91us/step - loss: 0.1882 - acc: 0.7250\n",
      "Epoch 76/100\n",
      "891/891 [==============================] - 0s 93us/step - loss: 0.1911 - acc: 0.7228\n",
      "Epoch 77/100\n",
      "891/891 [==============================] - 0s 93us/step - loss: 0.1916 - acc: 0.7262\n",
      "Epoch 78/100\n",
      "891/891 [==============================] - 0s 93us/step - loss: 0.1897 - acc: 0.7262\n",
      "Epoch 79/100\n",
      "891/891 [==============================] - 0s 96us/step - loss: 0.1878 - acc: 0.7273\n",
      "Epoch 80/100\n",
      "891/891 [==============================] - 0s 93us/step - loss: 0.1953 - acc: 0.7003\n",
      "Epoch 81/100\n",
      "891/891 [==============================] - 0s 95us/step - loss: 0.1897 - acc: 0.7329\n",
      "Epoch 82/100\n",
      "891/891 [==============================] - 0s 94us/step - loss: 0.1906 - acc: 0.7239\n",
      "Epoch 83/100\n",
      "891/891 [==============================] - 0s 95us/step - loss: 0.1897 - acc: 0.7363\n",
      "Epoch 84/100\n",
      "891/891 [==============================] - 0s 92us/step - loss: 0.1894 - acc: 0.7262\n",
      "Epoch 85/100\n",
      "891/891 [==============================] - 0s 95us/step - loss: 0.1907 - acc: 0.7127\n",
      "Epoch 86/100\n",
      "891/891 [==============================] - 0s 89us/step - loss: 0.1934 - acc: 0.7149\n",
      "Epoch 87/100\n",
      "891/891 [==============================] - 0s 98us/step - loss: 0.1913 - acc: 0.7329\n",
      "Epoch 88/100\n",
      "891/891 [==============================] - 0s 94us/step - loss: 0.1911 - acc: 0.7116\n",
      "Epoch 89/100\n",
      "891/891 [==============================] - 0s 100us/step - loss: 0.1909 - acc: 0.7160\n",
      "Epoch 90/100\n",
      "891/891 [==============================] - 0s 93us/step - loss: 0.1903 - acc: 0.7239\n",
      "Epoch 91/100\n",
      "891/891 [==============================] - 0s 97us/step - loss: 0.1954 - acc: 0.7071\n",
      "Epoch 92/100\n",
      "891/891 [==============================] - 0s 94us/step - loss: 0.1898 - acc: 0.7306\n",
      "Epoch 93/100\n",
      "891/891 [==============================] - 0s 102us/step - loss: 0.1881 - acc: 0.7351\n",
      "Epoch 94/100\n",
      "891/891 [==============================] - 0s 93us/step - loss: 0.1909 - acc: 0.7273\n",
      "Epoch 95/100\n",
      "891/891 [==============================] - 0s 95us/step - loss: 0.1894 - acc: 0.7262\n",
      "Epoch 96/100\n",
      "891/891 [==============================] - 0s 98us/step - loss: 0.1919 - acc: 0.7295\n",
      "Epoch 97/100\n",
      "891/891 [==============================] - 0s 95us/step - loss: 0.1917 - acc: 0.7284\n",
      "Epoch 98/100\n",
      "891/891 [==============================] - 0s 93us/step - loss: 0.1892 - acc: 0.7374\n",
      "Epoch 99/100\n",
      "891/891 [==============================] - 0s 96us/step - loss: 0.1881 - acc: 0.7250\n",
      "Epoch 100/100\n",
      "891/891 [==============================] - 0s 92us/step - loss: 0.1902 - acc: 0.7194\n"
     ]
    },
    {
     "data": {
      "text/plain": [
       "<keras.callbacks.History at 0x7f58cf732ac8>"
      ]
     },
     "execution_count": 36,
     "metadata": {
      "tags": []
     },
     "output_type": "execute_result"
    }
   ],
   "source": [
    "model.compile(loss = 'mean_squared_error', optimizer='adam', metrics=['accuracy'])\n",
    "model.fit(X, Y, epochs=100, batch_size=10)"
   ]
  },
  {
   "cell_type": "markdown",
   "metadata": {
    "colab_type": "text",
    "id": "dObuGmqbLtlm"
   },
   "source": [
    "## 결과를 출력"
   ]
  },
  {
   "cell_type": "code",
   "execution_count": 38,
   "metadata": {
    "colab": {
     "base_uri": "https://localhost:8080/",
     "height": 55
    },
    "colab_type": "code",
    "executionInfo": {
     "elapsed": 956,
     "status": "ok",
     "timestamp": 1544715040619,
     "user": {
      "displayName": "K Joy",
      "photoUrl": "",
      "userId": "10088839989700781050"
     },
     "user_tz": -540
    },
    "id": "s-K8BCgAMO22",
    "outputId": "6489ad45-45cd-4063-ed40-4619d478565d"
   },
   "outputs": [
    {
     "name": "stdout",
     "output_type": "stream",
     "text": [
      "891/891 [==============================] - 0s 25us/step\n"
     ]
    },
    {
     "data": {
      "text/plain": [
       "[0.18687753961343156, 0.7407407404731553]"
      ]
     },
     "execution_count": 38,
     "metadata": {
      "tags": []
     },
     "output_type": "execute_result"
    }
   ],
   "source": [
    "model.evaluate(X, Y)"
   ]
  },
  {
   "cell_type": "code",
   "execution_count": 37,
   "metadata": {
    "colab": {
     "base_uri": "https://localhost:8080/",
     "height": 73
    },
    "colab_type": "code",
    "executionInfo": {
     "elapsed": 613,
     "status": "ok",
     "timestamp": 1544715030931,
     "user": {
      "displayName": "K Joy",
      "photoUrl": "",
      "userId": "10088839989700781050"
     },
     "user_tz": -540
    },
    "id": "Wk8ObFMSL80L",
    "outputId": "8e00c61f-1eda-4bf4-9bd5-2810c92429e1"
   },
   "outputs": [
    {
     "name": "stdout",
     "output_type": "stream",
     "text": [
      "891/891 [==============================] - 0s 63us/step\n",
      "\n",
      " Accuracy : 0.7407\n"
     ]
    }
   ],
   "source": [
    "print(\"\\n Accuracy : %.4f\" % (model.evaluate(X, Y)[1]))"
   ]
  },
  {
   "cell_type": "code",
   "execution_count": 0,
   "metadata": {
    "colab": {},
    "colab_type": "code",
    "id": "SZ7vXpgDMExe"
   },
   "outputs": [],
   "source": []
  }
 ],
 "metadata": {
  "colab": {
   "name": "Untitled0.ipynb",
   "provenance": [],
   "version": "0.3.2"
  },
  "kernelspec": {
   "display_name": "Python 3",
   "language": "python",
   "name": "python3"
  },
  "language_info": {
   "codemirror_mode": {
    "name": "ipython",
    "version": 3
   },
   "file_extension": ".py",
   "mimetype": "text/x-python",
   "name": "python",
   "nbconvert_exporter": "python",
   "pygments_lexer": "ipython3",
   "version": "3.6.5"
  }
 },
 "nbformat": 4,
 "nbformat_minor": 1
}
