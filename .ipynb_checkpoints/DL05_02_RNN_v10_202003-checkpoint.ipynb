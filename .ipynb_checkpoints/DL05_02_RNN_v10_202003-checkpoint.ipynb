{
 "cells": [
  {
   "cell_type": "markdown",
   "metadata": {},
   "source": [
    "#### colab로 시작하기\n",
    "\n",
    "<a href=\"https://colab.research.google.com/github/LDJWJ/AISTUDY/blob/master/DL05_02_RNN.ipynb\" target=\"_parent\"><img src=\"https://colab.research.google.com/assets/colab-badge.svg\" alt=\"Open In Colab\"/></a>"
   ]
  },
  {
   "cell_type": "markdown",
   "metadata": {},
   "source": [
    "### 02 RNN을 이용한 단어 자동 완성"
   ]
  },
  {
   "cell_type": "markdown",
   "metadata": {},
   "source": [
    "* 4개의 글자를 가진 단어를 학습시켜, 3글자만 주어지면 나머지 한글자를 추천하여 단어를 완성한다.\n",
    "* dynamic_rnn의 sequence_length 옵션을 사용하면 가변 길이의 단어를 학습 시킬 수 있다.\n",
    "* 학습시킬 데이터는 영문자로 구성된 임의의 단어를 사용함.\n",
    "* 한 글자 한글자가 한 단계의 입력값, **총 글자 수가 전체 단계**가 된다.\n",
    "* word : 4글자, w, o, r, d - 총 4단계"
   ]
  },
  {
   "cell_type": "code",
   "execution_count": 2,
   "metadata": {},
   "outputs": [],
   "source": [
    "import tensorflow as tf\n",
    "import numpy as np"
   ]
  },
  {
   "cell_type": "markdown",
   "metadata": {},
   "source": [
    "### 알파벳 \n",
    "* 각각의 알파벳에 대해 index를 구한다."
   ]
  },
  {
   "cell_type": "code",
   "execution_count": 3,
   "metadata": {},
   "outputs": [],
   "source": [
    "char_arr = ['a', 'b', 'c', 'd', 'e', 'f', 'g',\n",
    "            'h', 'i', 'j', 'k', 'l', 'm', 'n',\n",
    "            'o', 'p', 'q', 'r', 's', 't', 'u',\n",
    "            'v', 'w', 'x', 'y', 'z']"
   ]
  },
  {
   "cell_type": "code",
   "execution_count": 4,
   "metadata": {},
   "outputs": [
    {
     "name": "stdout",
     "output_type": "stream",
     "text": [
      "26\n"
     ]
    }
   ],
   "source": [
    "# one-hot 인코딩 사용 및 디코딩을 하기 위해 연관 배열을 만듭니다.\n",
    "# {'a': 0, 'b': 1, 'c': 2, ..., 'j': 9, 'k', 10, ...}\n",
    "num_dic = {n: i for i, n in enumerate(char_arr)}\n",
    "dic_len = len(num_dic)\n",
    "print(dic_len)"
   ]
  },
  {
   "cell_type": "markdown",
   "metadata": {},
   "source": [
    "### 순서를 갖는 데이터 준비\n",
    " * 네글자의 단어를 준비\n",
    " * 앞의 세글자는 입력(X)로 하고, \n",
    " * 네번째 글자는 출력(Y)로 구분할 것임."
   ]
  },
  {
   "cell_type": "code",
   "execution_count": 5,
   "metadata": {},
   "outputs": [],
   "source": [
    "# wor -> X, d -> Y\n",
    "# woo -> X, d -> Y"
   ]
  },
  {
   "cell_type": "code",
   "execution_count": 6,
   "metadata": {},
   "outputs": [],
   "source": [
    "seq_data = ['word', 'wood', 'deep', 'dive', 'cold', 'cool', \n",
    "            'load', 'love', 'kiss', 'kind']"
   ]
  },
  {
   "cell_type": "markdown",
   "metadata": {},
   "source": [
    "### 단어들을 전달받아, 데이터 전처리를 수행\n",
    "  * 앞의 세글자 : 원핫 인코딩 수행하여 반환\n",
    "  * 마지막 글자 : 알파벳의 인덱스 숫자로 반환"
   ]
  },
  {
   "cell_type": "code",
   "execution_count": 7,
   "metadata": {},
   "outputs": [],
   "source": [
    "def make_batch(seq_data):\n",
    "    input_batch = []\n",
    "    target_batch = []\n",
    "\n",
    "    # seq_data : 전체 단어들\n",
    "    # seq : 한 단어\n",
    "    # input : 단어의 마지막 글자를 제외한 글자들의 index(알파벳)\n",
    "    # target : 한 단어의 마지막 글자(인덱스 반환)\n",
    "    for seq in seq_data:\n",
    "        # 여기서 생성하는 input_batch 와 target_batch 는\n",
    "        # 알파벳 배열의 인덱스 번호 입니다.\n",
    "        # [22, 14, 17] [22, 14, 14] [3, 4, 4] [3, 8, 21] ...\n",
    "        input = [num_dic[n] for n in seq[:-1]]\n",
    "        # 3, 3, 15, 4, 3 ...\n",
    "        \n",
    "        target = num_dic[seq[-1]]  # 마지막 글자 인덱스\n",
    "        \n",
    "        # input의 값을 원핫 인코딩을 수행\n",
    "        # if input is [0, 1, 2]:\n",
    "        # [[ 1.  0.  0.  0.  0.  0.  0.  0.  0.  0.]\n",
    "        #  [ 0.  1.  0.  0.  0.  0.  0.  0.  0.  0.]\n",
    "        #  [ 0.  0.  1.  0.  0.  0.  0.  0.  0.  0.]]\n",
    "        \n",
    "        input_batch.append(np.eye(dic_len)[input])\n",
    "        \n",
    "        # 지금까지 손실함수로 사용하던 softmax_cross_entropy_with_logits 함수는\n",
    "        # label 값을 one-hot 인코딩으로 넘겨줘야 하지만,\n",
    "        # 이 예제에서 사용할 손실 함수인 \n",
    "        # sparse_softmax_cross_entropy_with_logits 는 원핫 인코딩을 사용하지 않음.\n",
    "        # index 를 그냥 넘겨주면 됩니다.\n",
    "        target_batch.append(target)\n",
    "\n",
    "    return input_batch, target_batch"
   ]
  },
  {
   "cell_type": "code",
   "execution_count": 8,
   "metadata": {},
   "outputs": [
    {
     "data": {
      "text/plain": [
       "([array([[0., 0., 0., 0., 0., 0., 0., 0., 0., 0., 0., 0., 0., 0., 0., 0.,\n",
       "          0., 0., 0., 0., 0., 0., 1., 0., 0., 0.],\n",
       "         [0., 0., 0., 0., 0., 0., 0., 0., 0., 0., 0., 0., 0., 0., 1., 0.,\n",
       "          0., 0., 0., 0., 0., 0., 0., 0., 0., 0.],\n",
       "         [0., 0., 0., 0., 0., 0., 0., 0., 0., 0., 0., 0., 0., 0., 0., 0.,\n",
       "          0., 1., 0., 0., 0., 0., 0., 0., 0., 0.]])], [3])"
      ]
     },
     "execution_count": 8,
     "metadata": {},
     "output_type": "execute_result"
    }
   ],
   "source": [
    "make_batch(['word'])"
   ]
  },
  {
   "cell_type": "markdown",
   "metadata": {},
   "source": [
    "### 데이터를 전처리\n",
    "```\n",
    "seq_data = ['word', 'wood', 'deep', 'dive', 'cold', 'cool', \n",
    "            'load', 'love', 'kiss', 'kind']\n",
    "```\n",
    " * 위의 단어들 각각 3글자를 인덱스로 변환 후, 원핫 인코딩\n",
    " * 위의 단어들 각각 마지막 글자를 인덱스로 반환"
   ]
  },
  {
   "cell_type": "code",
   "execution_count": 9,
   "metadata": {},
   "outputs": [
    {
     "name": "stdout",
     "output_type": "stream",
     "text": [
      "[[0. 0. 0. 0. 0. 0. 0. 0. 0. 0. 0. 0. 0. 0. 0. 0. 0. 0. 0. 0. 0. 0. 1. 0.\n",
      "  0. 0.]\n",
      " [0. 0. 0. 0. 0. 0. 0. 0. 0. 0. 0. 0. 0. 0. 1. 0. 0. 0. 0. 0. 0. 0. 0. 0.\n",
      "  0. 0.]\n",
      " [0. 0. 0. 0. 0. 0. 0. 0. 0. 0. 0. 0. 0. 0. 0. 0. 0. 1. 0. 0. 0. 0. 0. 0.\n",
      "  0. 0.]]\n",
      "3\n",
      "[3, 3, 15, 4, 3, 11, 3, 4, 18, 3]\n"
     ]
    }
   ],
   "source": [
    "# 전체 단어의 데이터 셋을 a(원핫 인코딩), b(숫자)\n",
    "# RNN 모델에 맞춰 데이터 변경.\n",
    "\n",
    "## word\n",
    "a, b= make_batch(seq_data)\n",
    "print(a[0])  # w, o, r - 원핫 인코딩\n",
    "print(b[0])  # d - 숫자로 \n",
    "print(b)"
   ]
  },
  {
   "cell_type": "markdown",
   "metadata": {},
   "source": [
    "### 하이퍼 파라미터 설정\n",
    " * 학습율, 은닉층 노드, 총 에폭수\n",
    " * RNN의 step은 입력 단어의 글자수이므로 3\n",
    " * 입력값은 원핫 인코딩되어 입력(알파벳의 개수 26) - n_input, n_class"
   ]
  },
  {
   "cell_type": "code",
   "execution_count": 10,
   "metadata": {},
   "outputs": [],
   "source": [
    "learning_rate = 0.01  # 학습률\n",
    "n_hidden = 128        # 은닉층 노드수 \n",
    "total_epoch = 30      # 총 에폭수 \n",
    "n_step = 3            # RNN 스텝\n",
    "\n",
    "# 입력값 크기. 알파벳에 대한 one-hot 인코딩이므로 26개가 됩니다.\n",
    "# 예) c => [0 0 1 0 0 0 0 0 0 0 0 ... 0]\n",
    "# 출력값도 입력값과 마찬가지로 26개의 알파벳으로 분류합니다.\n",
    "n_input = n_class = dic_len"
   ]
  },
  {
   "cell_type": "markdown",
   "metadata": {},
   "source": [
    "### 신경망 모델 구성\n",
    " * X, Y 변수 및 가중치 지정.\n",
    " * RNN 셀 생성(cell1, cell2) 및 멀티셀 생성(LSTM 셀)\n",
    " * tf.nn.dynamic_rnn 함수를 활용하여 심층 순환 신경망 생성\n",
    " * 손실함수 및 최적화 함수\n",
    " * 학습"
   ]
  },
  {
   "cell_type": "code",
   "execution_count": 11,
   "metadata": {},
   "outputs": [],
   "source": [
    "X = tf.placeholder(tf.float32, [None, n_step, n_input])\n",
    "\n",
    "# 비용함수에 sparse_softmax_cross_entropy_with_logits 을 사용하므로\n",
    "# 출력값과의 계산을 위한 원본값의 형태는 one-hot vector가 아니라 인덱스 숫자를 그대로 사용하기 때문에\n",
    "# 다음처럼 하나의 값만 있는 1차원 배열을 입력값으로 받습니다.\n",
    "# [3] [3] [15] [4] ...\n",
    "# 기존처럼 one-hot 인코딩을 사용한다면 입력값의 형태는 [None, n_class] 여야합니다.\n",
    "Y = tf.placeholder(tf.int32, [None])\n",
    "\n",
    "# 가중치와 Bias\n",
    "W = tf.Variable(tf.random_normal([n_hidden, n_class]))\n",
    "b = tf.Variable(tf.random_normal([n_class]))"
   ]
  },
  {
   "cell_type": "markdown",
   "metadata": {},
   "source": [
    "### RNN 셀을 생성\n",
    "* LSTM은 BasicRNNCell가 아닌 **BasicLSTMCell**의 함수를 사용\n",
    "* DropoutWrapper 함수 : RNN에도 DropoutWrapper 함수로 Dropout 기법 적용이 가능하다. "
   ]
  },
  {
   "cell_type": "code",
   "execution_count": 16,
   "metadata": {},
   "outputs": [
    {
     "name": "stdout",
     "output_type": "stream",
     "text": [
      "<tensorflow.python.ops.rnn_cell_impl.DropoutWrapper object at 0x0000024061EE4B70>\n",
      "<tensorflow.python.ops.rnn_cell_impl.BasicLSTMCell object at 0x0000024061EE4C50>\n"
     ]
    }
   ],
   "source": [
    "cell1 = tf.nn.rnn_cell.BasicLSTMCell(n_hidden) # RNN 셀을 생성\n",
    "cell1 = tf.nn.rnn_cell.DropoutWrapper(cell1, output_keep_prob=0.5) # 과적합 방지를 위한 Dropout 기법\n",
    "\n",
    "cell2 = tf.nn.rnn_cell.BasicLSTMCell(n_hidden) # 여러개의 셀을 조합해서 사용하기 위해 셀을 추가로 생성\n",
    "print(cell1)\n",
    "print(cell2)"
   ]
  },
  {
   "cell_type": "markdown",
   "metadata": {},
   "source": [
    "### 여러 셀을 조합"
   ]
  },
  {
   "cell_type": "code",
   "execution_count": 17,
   "metadata": {},
   "outputs": [
    {
     "name": "stdout",
     "output_type": "stream",
     "text": [
      "<tensorflow.python.ops.rnn_cell_impl.MultiRNNCell object at 0x0000024061EB6470>\n"
     ]
    }
   ],
   "source": [
    "multi_cell = tf.nn.rnn_cell.MultiRNNCell([cell1, cell2])\n",
    "print(multi_cell)"
   ]
  },
  {
   "cell_type": "markdown",
   "metadata": {},
   "source": [
    "### tf.nn.dynamic_rnn 함수를 이용해 순환 신경망"
   ]
  },
  {
   "cell_type": "code",
   "execution_count": 19,
   "metadata": {},
   "outputs": [
    {
     "name": "stdout",
     "output_type": "stream",
     "text": [
      "Tensor(\"rnn_1/transpose_1:0\", shape=(?, 3, 128), dtype=float32)\n",
      "\n",
      "(LSTMStateTuple(c=<tf.Tensor 'rnn_1/while/Exit_3:0' shape=(?, 128) dtype=float32>, h=<tf.Tensor 'rnn_1/while/Exit_4:0' shape=(?, 128) dtype=float32>), LSTMStateTuple(c=<tf.Tensor 'rnn_1/while/Exit_5:0' shape=(?, 128) dtype=float32>, h=<tf.Tensor 'rnn_1/while/Exit_6:0' shape=(?, 128) dtype=float32>))\n"
     ]
    }
   ],
   "source": [
    "# time_major=True\n",
    "outputs, states = tf.nn.dynamic_rnn(multi_cell, X, dtype=tf.float32)\n",
    "print(outputs)\n",
    "print()\n",
    "print(states)"
   ]
  },
  {
   "cell_type": "markdown",
   "metadata": {},
   "source": [
    "## 손실함수, 최적화 함수 적용\n",
    " * 앞의 것과 동일한 방식으로 하여 출력층을 만든다.\n",
    " * 순서 바꾸기\n",
    "   * [batch_size, n_step, n_hidden] -> [n_step, batch_size, n_hidden]\n",
    "   * -> [batch_size, n_hidden]\n",
    "     * shape=(3, ?, 128)  -> (?, 128)\n",
    "     * (?, 128) * (128, 26) -> (?, 26)"
   ]
  },
  {
   "cell_type": "code",
   "execution_count": 20,
   "metadata": {},
   "outputs": [
    {
     "name": "stdout",
     "output_type": "stream",
     "text": [
      "Tensor(\"add:0\", shape=(?, 26), dtype=float32)\n"
     ]
    }
   ],
   "source": [
    "# 최종 결과는 one-hot 인코딩 형식으로 만듭니다\n",
    "# \n",
    "outputs1 = tf.transpose(outputs, [1, 0, 2])\n",
    "outputs1 = outputs1[-1]\n",
    "model = tf.matmul(outputs1, W) + b\n",
    "print(model)\n",
    "cost = tf.reduce_mean(\n",
    "            tf.nn.sparse_softmax_cross_entropy_with_logits(\n",
    "                logits=model, labels=Y))\n",
    "\n",
    "optimizer = tf.train.AdamOptimizer(learning_rate).minimize(cost)"
   ]
  },
  {
   "cell_type": "markdown",
   "metadata": {},
   "source": [
    "### 신경망 실행 - 그래프 실행"
   ]
  },
  {
   "cell_type": "code",
   "execution_count": 21,
   "metadata": {},
   "outputs": [],
   "source": [
    "sess = tf.Session()\n",
    "sess.run(tf.global_variables_initializer())\n",
    "\n",
    "input_batch, target_batch = make_batch(seq_data)"
   ]
  },
  {
   "cell_type": "code",
   "execution_count": 22,
   "metadata": {},
   "outputs": [
    {
     "name": "stdout",
     "output_type": "stream",
     "text": [
      "Epoch: 0001 cost = 2.839599\n",
      "Epoch: 0002 cost = 2.060616\n",
      "Epoch: 0003 cost = 1.404584\n",
      "Epoch: 0004 cost = 0.888910\n",
      "Epoch: 0005 cost = 0.911129\n",
      "Epoch: 0006 cost = 0.457103\n",
      "Epoch: 0007 cost = 0.498594\n",
      "Epoch: 0008 cost = 0.397425\n",
      "Epoch: 0009 cost = 0.290067\n",
      "Epoch: 0010 cost = 0.380558\n",
      "Epoch: 0011 cost = 0.289656\n",
      "Epoch: 0012 cost = 0.145673\n",
      "Epoch: 0013 cost = 0.155696\n",
      "Epoch: 0014 cost = 0.177595\n",
      "Epoch: 0015 cost = 0.150806\n",
      "Epoch: 0016 cost = 0.073050\n",
      "Epoch: 0017 cost = 0.311992\n",
      "Epoch: 0018 cost = 0.106288\n",
      "Epoch: 0019 cost = 0.028718\n",
      "Epoch: 0020 cost = 0.063455\n",
      "Epoch: 0021 cost = 0.097836\n",
      "Epoch: 0022 cost = 0.029299\n",
      "Epoch: 0023 cost = 0.015738\n",
      "Epoch: 0024 cost = 0.021585\n",
      "Epoch: 0025 cost = 0.269463\n",
      "Epoch: 0026 cost = 0.024357\n",
      "Epoch: 0027 cost = 0.009378\n",
      "Epoch: 0028 cost = 0.087993\n",
      "Epoch: 0029 cost = 0.051703\n",
      "Epoch: 0030 cost = 0.025511\n",
      "최적화 완료!\n"
     ]
    }
   ],
   "source": [
    "for epoch in range(total_epoch):\n",
    "    _, loss = sess.run([optimizer, cost],\n",
    "                       feed_dict={X: input_batch, Y: target_batch})\n",
    "\n",
    "    print('Epoch:', '%04d' % (epoch + 1),\n",
    "          'cost =', '{:.6f}'.format(loss))\n",
    "\n",
    "print('최적화 완료!')"
   ]
  },
  {
   "cell_type": "markdown",
   "metadata": {},
   "source": [
    "### 결과 확인"
   ]
  },
  {
   "cell_type": "code",
   "execution_count": 23,
   "metadata": {},
   "outputs": [],
   "source": [
    "# 레이블값이 정수이므로 예측값도 정수로 변경해줍니다.\n",
    "prediction = tf.cast(tf.argmax(model, 1), tf.int32)\n",
    "\n",
    "# one-hot 인코딩이 아니므로 입력값을 그대로 비교합니다.\n",
    "prediction_check = tf.equal(prediction, Y)\n",
    "accuracy = tf.reduce_mean(tf.cast(prediction_check, tf.float32))\n",
    "\n",
    "input_batch, target_batch = make_batch(seq_data)\n",
    "\n",
    "predict, accuracy_val = sess.run([prediction, accuracy],\n",
    "                                 feed_dict={X: input_batch, Y: target_batch})"
   ]
  },
  {
   "cell_type": "code",
   "execution_count": 24,
   "metadata": {},
   "outputs": [
    {
     "name": "stdout",
     "output_type": "stream",
     "text": [
      "\n",
      "=== 예측 결과 ===\n",
      "입력값: ['wor ', 'woo ', 'dee ', 'div ', 'col ', 'coo ', 'loa ', 'lov ', 'kis ', 'kin ']\n",
      "예측값: ['word', 'wood', 'deep', 'dive', 'cold', 'cool', 'load', 'love', 'kiss', 'kind']\n",
      "정확도: 1.0\n"
     ]
    }
   ],
   "source": [
    "predict_words = []\n",
    "for idx, val in enumerate(seq_data):\n",
    "    last_char = char_arr[predict[idx]]\n",
    "    predict_words.append(val[:3] + last_char)\n",
    "\n",
    "print('\\n=== 예측 결과 ===')\n",
    "print('입력값:', [w[:3] + ' ' for w in seq_data])\n",
    "print('예측값:', predict_words)\n",
    "print('정확도:', accuracy_val)"
   ]
  }
 ],
 "metadata": {
  "kernelspec": {
   "display_name": "Python 3",
   "language": "python",
   "name": "python3"
  },
  "language_info": {
   "codemirror_mode": {
    "name": "ipython",
    "version": 3
   },
   "file_extension": ".py",
   "mimetype": "text/x-python",
   "name": "python",
   "nbconvert_exporter": "python",
   "pygments_lexer": "ipython3",
   "version": "3.6.5"
  }
 },
 "nbformat": 4,
 "nbformat_minor": 2
}
