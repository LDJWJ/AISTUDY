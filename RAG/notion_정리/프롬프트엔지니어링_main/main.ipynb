{
 "cells": [
  {
   "cell_type": "code",
   "outputs": [],
   "source": [
    "!pip -q install --upgrade pip"
   ],
   "metadata": {
    "collapsed": false
   },
   "id": "31f02b625d02532f",
   "execution_count": null
  },
  {
   "cell_type": "code",
   "outputs": [],
   "source": [
    "!pip -q install --upgrade langchain transformers sentence_transformers unstructured chromadb langchain-openai"
   ],
   "metadata": {
    "collapsed": true,
    "ExecuteTime": {
     "end_time": "2024-02-07T08:19:39.610563Z",
     "start_time": "2024-02-07T08:19:35.997584Z"
    }
   },
   "id": "initial_id",
   "execution_count": 5
  },
  {
   "cell_type": "code",
   "outputs": [
    {
     "name": "stdout",
     "output_type": "stream",
     "text": [
      "770\n"
     ]
    }
   ],
   "source": [
    "from langchain.text_splitter import CharacterTextSplitter\n",
    "from langchain_community.document_loaders import PyPDFDirectoryLoader\n",
    "import os\n",
    "# open ai key setting\n",
    "os.environ[\"OPENAI_API_KEY\"] = \"\"\n",
    "\n",
    "# 1. Document Loading\n",
    "# 수학 교재 로딩\n",
    "loader = PyPDFDirectoryLoader('./math')\n",
    "documents = loader.load()\n",
    "\n",
    "# 2. Splitting\n",
    "# 데이터를 불러와서 텍스트를 일정한 수로 나누고 구분자로 연결하는 작업\n",
    "text_splitter = CharacterTextSplitter(\n",
    "\tchunk_size=1000, \n",
    "    chunk_overlap=0, \n",
    "    separator=\"\\n\"\n",
    "    )\n",
    "texts = text_splitter.split_documents(documents)\n",
    "\n",
    "print(len(texts))"
   ],
   "metadata": {
    "collapsed": false,
    "ExecuteTime": {
     "end_time": "2024-02-07T08:20:42.123280Z",
     "start_time": "2024-02-07T08:20:18.447343Z"
    }
   },
   "id": "620451b7f1dce06d",
   "execution_count": 7
  },
  {
   "cell_type": "code",
   "outputs": [],
   "source": [
    "from langchain_community.vectorstores import Chroma\n",
    "from langchain_openai import OpenAIEmbeddings\n",
    "\n",
    "# 3. embedding\n",
    "# 문서에 있는 텍스트를 임베딩\n",
    "embeddings = OpenAIEmbeddings()\n",
    "db = Chroma.from_documents(\n",
    "        documents=texts,\n",
    "        embedding=embeddings,\n",
    "        persist_directory=\"./math_db\"\n",
    "\t)\n"
   ],
   "metadata": {
    "collapsed": false,
    "ExecuteTime": {
     "end_time": "2024-02-07T08:21:10.430223Z",
     "start_time": "2024-02-07T08:20:52.269585Z"
    }
   },
   "id": "3e7508e8c51d14f2",
   "execution_count": 8
  },
  {
   "cell_type": "code",
   "outputs": [],
   "source": [
    "## optional\n",
    "# query = \"미분이란\"\n",
    "# docs = db.similarity_search(query)\n",
    "# print(docs[0].page_content)"
   ],
   "metadata": {
    "collapsed": false
   },
   "id": "2ea7eeb30e947734"
  },
  {
   "cell_type": "code",
   "outputs": [],
   "source": [
    "from langchain.retrievers.document_compressors import EmbeddingsFilter\n",
    "from langchain.retrievers import ContextualCompressionRetriever\n",
    "\n",
    "\n",
    "# 4. retrieval with prompt\n",
    "# 문서 내용을 조작하지 않고 처음에 검색된 문서 중 필터링할 문서와 반환할 문서를 결정하는 약간 더 간단하지만 강력한 압축기\n",
    "# 유사도 0.7로 임베딩 필터를 저장\n",
    "embeddings_filter = EmbeddingsFilter(\n",
    "    embeddings=embeddings, \n",
    "    similarity_threshold=0.70\n",
    ")\n",
    "\n",
    "# 압축 검색기 생성\n",
    "# 검색된 문단에서 가장 관련성 높은 부분만 추출하는 방법\n",
    "# 쿼리와 가장 관련성이 높은 정보가 관련 없는 텍스트가 많이 포함된 문서에 묻혀 있을 수 있음 \n",
    "# 검색된 문서를 있는 그대로 즉시 반환하는 대신 주어진 쿼리의 컨텍스트를 사용하여 문서를 압축하여 관련 정보만 반환\n",
    "compression_retriever = ContextualCompressionRetriever(\n",
    "\t# embeddings_filter 설정\n",
    "    base_compressor=embeddings_filter, \n",
    "    # retriever 를 호출하여 검색쿼리와 유사한 텍스트를 찾음\n",
    "    base_retriever=db.as_retriever()\n",
    ")"
   ],
   "metadata": {
    "collapsed": false,
    "ExecuteTime": {
     "end_time": "2024-02-07T08:21:42.809756Z",
     "start_time": "2024-02-07T08:21:39.912881Z"
    }
   },
   "id": "986ec6095a6dc202",
   "execution_count": 9
  },
  {
   "cell_type": "code",
   "outputs": [],
   "source": [
    "from langchain.chains import RetrievalQA\n",
    "from langchain_openai import ChatOpenAI\n",
    "from langchain.prompts import (\n",
    "    ChatPromptTemplate,\n",
    "    SystemMessagePromptTemplate,\n",
    "    HumanMessagePromptTemplate,\n",
    ")\n",
    "\n",
    "# 5. prompt 설정 \n",
    "system_template = \"\"\"\n",
    "너는 수학 선생님이다. 개념에 대해서 간략하게 3줄로 요약 해줘.\n",
    "쉬운 예제 문제 작성해주고, 풀이도 적어줘.\n",
    "{context}\n",
    "\"\"\"\n",
    "\n",
    "system_message_prompt = SystemMessagePromptTemplate.from_template(system_template)\n",
    "human_message_prompt = HumanMessagePromptTemplate.from_template(\"{question}\")\n",
    "chat_prompt = ChatPromptTemplate.from_messages([system_message_prompt, human_message_prompt])\n",
    "\n",
    "llm = ChatOpenAI(model='gpt-4',temperature=0, max_tokens=2048)\n",
    "# RetrievalQA 클래스의 from_chain_type이라는 클래스 메서드를 호출하여 질의응답 객체를 생성\n",
    "chain = RetrievalQA.from_chain_type(\n",
    "    llm=llm, \n",
    "    chain_type=\"stuff\", \n",
    "    retriever=compression_retriever,\n",
    "    chain_type_kwargs={\n",
    "        \"prompt\": ChatPromptTemplate.from_messages([\n",
    "            SystemMessagePromptTemplate.from_template(system_template),\n",
    "            HumanMessagePromptTemplate.from_template(\"{question}\"),\n",
    "        ])\n",
    "    },\n",
    ")"
   ],
   "metadata": {
    "collapsed": false,
    "ExecuteTime": {
     "end_time": "2024-02-07T08:37:55.146658Z",
     "start_time": "2024-02-07T08:37:55.102516Z"
    }
   },
   "id": "1d358ce55f86efdf",
   "execution_count": 27
  },
  {
   "cell_type": "code",
   "outputs": [
    {
     "name": "stdout",
     "output_type": "stream",
     "text": [
      "{'query': '미분에 대해서 알려줘', 'result': \"1. 미분은 변화율을 수학적으로 표현하는 방법으로, 한 순간의 변화량을 나타냅니다.\\n2. 함수의 미분은 해당 함수 그래프의 접선의 기울기를 의미하며, 이는 함수가 어떻게 변화하는지를 보여줍니다.\\n3. 미분은 물리학, 공학, 경제학 등 다양한 분야에서 변화율이나 속도를 계산하는 데 사용됩니다.\\n\\n예제 문제: 함수 f(x) = x^2의 미분을 구하시오.\\n풀이: f'(x) = 2x\"}\n"
     ]
    }
   ],
   "source": [
    "print(chain({\"query\": \"미분에 대해서 알려줘\"})['result'])\n"
   ],
   "metadata": {
    "collapsed": false,
    "ExecuteTime": {
     "end_time": "2024-02-07T08:38:06.107518Z",
     "start_time": "2024-02-07T08:37:55.618791Z"
    }
   },
   "id": "b6baf464d7732902",
   "execution_count": 28
  }
 ],
 "metadata": {
  "kernelspec": {
   "display_name": "Python 3",
   "language": "python",
   "name": "python3"
  },
  "language_info": {
   "codemirror_mode": {
    "name": "ipython",
    "version": 2
   },
   "file_extension": ".py",
   "mimetype": "text/x-python",
   "name": "python",
   "nbconvert_exporter": "python",
   "pygments_lexer": "ipython2",
   "version": "2.7.6"
  }
 },
 "nbformat": 4,
 "nbformat_minor": 5
}
