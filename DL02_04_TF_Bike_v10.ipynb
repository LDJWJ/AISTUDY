{
 "cells": [
  {
   "cell_type": "markdown",
   "metadata": {
    "collapsed": true
   },
   "source": [
    "### 딥러닝 모델 구현하기\n",
    "* tensorflow를 활용하여 Bike데이터를 활용하여 딥러닝 모델을 구현해 보았음.\n",
    "* tensorflow 활용한 딥러닝 모델 구현\n",
    "* tf version(1.14.0)\n",
    "* 설치(로컬).CPU버전 : pip install tensorflow==1.14.0"
   ]
  },
  {
   "cell_type": "markdown",
   "metadata": {},
   "source": [
    "#### colab에서 시작하기\n",
    "\n",
    "<a href=\"https://colab.research.google.com/github/LDJWJ/00_TOTO_MLDL_CLASS/blob/master/DL02_04_TF_Bike.ipynb\" target=\"_parent\"><img src=\"https://colab.research.google.com/assets/colab-badge.svg\" alt=\"Open In Colab\"/></a>"
   ]
  },
  {
   "cell_type": "code",
   "execution_count": 9,
   "metadata": {},
   "outputs": [],
   "source": [
    "import pandas as pd\n",
    "import tensorflow as tf\n",
    "import numpy as np"
   ]
  },
  {
   "cell_type": "code",
   "execution_count": 10,
   "metadata": {},
   "outputs": [
    {
     "name": "stdout",
     "output_type": "stream",
     "text": [
      "1.15.0\n",
      "1.18.1\n",
      "0.25.3\n"
     ]
    }
   ],
   "source": [
    "print(tf.__version__)\n",
    "print(np.__version__)\n",
    "print(pd.__version__)"
   ]
  },
  {
   "cell_type": "code",
   "execution_count": 11,
   "metadata": {},
   "outputs": [
    {
     "name": "stderr",
     "output_type": "stream",
     "text": [
      "'ls'은(는) 내부 또는 외부 명령, 실행할 수 있는 프로그램, 또는\n",
      "배치 파일이 아닙니다.\n"
     ]
    }
   ],
   "source": [
    "# colab 에 환경에서 확인 가능\n",
    "!ls"
   ]
  },
  {
   "cell_type": "code",
   "execution_count": 12,
   "metadata": {},
   "outputs": [],
   "source": [
    "# colab 환경의 경우 데이터 셋 업로드 필요\n",
    "train = pd.read_csv(\"./train_bike.csv\", parse_dates=['datetime'])\n",
    "test = pd.read_csv(\"./test_bike.csv\", parse_dates=['datetime'])\n",
    "sub = pd.read_csv(\"./sampleSubmission_bike.csv\")"
   ]
  },
  {
   "cell_type": "code",
   "execution_count": 13,
   "metadata": {},
   "outputs": [
    {
     "name": "stdout",
     "output_type": "stream",
     "text": [
      "Index(['datetime', 'season', 'holiday', 'workingday', 'weather', 'temp',\n",
      "       'atemp', 'humidity', 'windspeed', 'casual', 'registered', 'count'],\n",
      "      dtype='object')\n",
      "Index(['datetime', 'season', 'holiday', 'workingday', 'weather', 'temp',\n",
      "       'atemp', 'humidity', 'windspeed'],\n",
      "      dtype='object')\n",
      "Index(['datetime', 'count'], dtype='object')\n",
      "(10886, 12)\n",
      "(6493, 9)\n",
      "(6493, 2)\n"
     ]
    }
   ],
   "source": [
    "print(train.columns)\n",
    "print(test.columns)\n",
    "print(sub.columns)\n",
    "\n",
    "print(train.shape)\n",
    "print(test.shape)\n",
    "print(sub.shape)"
   ]
  },
  {
   "cell_type": "code",
   "execution_count": 16,
   "metadata": {},
   "outputs": [],
   "source": [
    "# input_col = [ 'temp', 'atemp']\n",
    "# input(컬럼1개), target(컬럼1개)\n",
    "input_col = ['temp']\n",
    "labeled_col = ['count']"
   ]
  },
  {
   "cell_type": "code",
   "execution_count": 17,
   "metadata": {},
   "outputs": [
    {
     "name": "stdout",
     "output_type": "stream",
     "text": [
      "<class 'pandas.core.frame.DataFrame'>\n",
      "<class 'numpy.ndarray'>\n"
     ]
    }
   ],
   "source": [
    "x_data = train[input_col]    # 입력 X\n",
    "y_data = train[labeled_col]  # 출력 Y (target)\n",
    "x_test = test[input_col]     # test을 위한 입력 X\n",
    "print(type(x_data))\n",
    "\n",
    "# 자료형을 numpy로 변환\n",
    "x_data = np.array(x_data)   \n",
    "x_test = np.array(x_test)\n",
    "y_data = np.array(y_data)\n",
    "print(type(x_data))"
   ]
  },
  {
   "cell_type": "code",
   "execution_count": 18,
   "metadata": {},
   "outputs": [],
   "source": [
    "# weight와 bias 지정\n",
    "W1 = tf.Variable(tf.random_uniform([1], -1.0, 1.0))\n",
    "b = tf.Variable(tf.random_uniform([1], -1.0, 1.0))"
   ]
  },
  {
   "cell_type": "code",
   "execution_count": 19,
   "metadata": {},
   "outputs": [],
   "source": [
    "# X의 값, Y의 값 플레이스홀더 지정\n",
    "X1 = tf.placeholder(tf.float32, name=\"X1\")\n",
    "Y = tf.placeholder(tf.float32, name=\"Y\")"
   ]
  },
  {
   "cell_type": "code",
   "execution_count": 20,
   "metadata": {},
   "outputs": [],
   "source": [
    "# hypothesis = W1 * X1 + W2 * X2 + b\n",
    "hypothesis = W1 * X1 + b"
   ]
  },
  {
   "cell_type": "code",
   "execution_count": 21,
   "metadata": {},
   "outputs": [],
   "source": [
    "### 비용함수, 최적화 함수\n",
    "cost = tf.reduce_mean(tf.square(hypothesis - Y))\n",
    "optimizer = tf.train.GradientDescentOptimizer(learning_rate=0.001)\n",
    "train_op = optimizer.minimize(cost)"
   ]
  },
  {
   "cell_type": "markdown",
   "metadata": {},
   "source": [
    "### 학습하기"
   ]
  },
  {
   "cell_type": "code",
   "execution_count": 22,
   "metadata": {},
   "outputs": [
    {
     "name": "stdout",
     "output_type": "stream",
     "text": [
      "0 77376.39 [8.794364] [0.8694137]\n",
      "10 27708.63 [9.391758] [0.9084262]\n",
      "20 27708.617 [9.391189] [0.9216579]\n",
      "30 27708.602 [9.390621] [0.9348556]\n",
      "40 27708.584 [9.390053] [0.9480193]\n",
      "50 27708.566 [9.389488] [0.96114916]\n",
      "60 27708.543 [9.388925] [0.97424525]\n",
      "70 27708.531 [9.388362] [0.9873074]\n",
      "80 27708.514 [9.387801] [1.0003362]\n",
      "90 27708.502 [9.387242] [1.0133313]\n",
      "(6493, 1)\n",
      "<class 'numpy.ndarray'>\n",
      "[[101.08765]\n",
      " [101.08765]\n",
      " [101.08765]\n",
      " [101.08765]\n",
      " [101.08765]]\n"
     ]
    },
    {
     "data": {
      "text/plain": [
       "(6493,)"
      ]
     },
     "execution_count": 22,
     "metadata": {},
     "output_type": "execute_result"
    }
   ],
   "source": [
    "with tf.Session() as sess:\n",
    "    sess.run(tf.global_variables_initializer())\n",
    "    for step in range(100):\n",
    "        _, cost_val = sess.run([train_op, cost], feed_dict={X1:x_data, Y:y_data})\n",
    "        \n",
    "        if step%10==0:\n",
    "            print(step, cost_val, sess.run(W1), sess.run(b))\n",
    "            \n",
    "        \n",
    "    pred = sess.run(hypothesis, feed_dict={X1:x_test})\n",
    "    \n",
    "print(pred.shape)\n",
    "print(type(pred))\n",
    "print(pred[0:5])\n",
    "pred = pred.reshape(-1,)\n",
    "pred.shape"
   ]
  },
  {
   "cell_type": "markdown",
   "metadata": {},
   "source": [
    "### 값을 예측하고, csv파일 만들기"
   ]
  },
  {
   "cell_type": "code",
   "execution_count": 23,
   "metadata": {},
   "outputs": [
    {
     "name": "stdout",
     "output_type": "stream",
     "text": [
      "Index(['datetime', 'count'], dtype='object')\n"
     ]
    }
   ],
   "source": [
    "dat = pd.DataFrame({'count':pred})\n",
    "print(sub.columns)\n",
    "sub['count'] = dat['count']\n",
    "sub.to_csv(\"tf_pred.csv\", index=False)"
   ]
  },
  {
   "cell_type": "markdown",
   "metadata": {},
   "source": [
    "### 제출하고 확인해 보기"
   ]
  },
  {
   "cell_type": "markdown",
   "metadata": {},
   "source": [
    "### 실습과제 : 변수를 두개를 가지고 수행해 보기"
   ]
  },
  {
   "cell_type": "markdown",
   "metadata": {},
   "source": [
    "### 그렇다면 변수가 계속 늘어난다면 식을 하나 하나 구현해야만 할까?"
   ]
  },
  {
   "cell_type": "markdown",
   "metadata": {},
   "source": [
    "### 행렬 연산을 활용한 딥러닝 모델 만들어보기"
   ]
  },
  {
   "cell_type": "code",
   "execution_count": 24,
   "metadata": {},
   "outputs": [
    {
     "name": "stdout",
     "output_type": "stream",
     "text": [
      "(10886, 2) (10886, 1)\n"
     ]
    }
   ],
   "source": [
    "input_col = [ 'temp', 'atemp']\n",
    "labeled_col = ['count']\n",
    "\n",
    "x_data = train[input_col]\n",
    "y_data = train[labeled_col]\n",
    "\n",
    "x_test = test[input_col]\n",
    "\n",
    "x_data = np.array(x_data)\n",
    "y_data = np.array(y_data)\n",
    "print(x_data.shape, y_data.shape)"
   ]
  },
  {
   "cell_type": "code",
   "execution_count": 25,
   "metadata": {},
   "outputs": [],
   "source": [
    "X1 = tf.placeholder(tf.float32, [None, 2], name=\"X1\")\n",
    "Y = tf.placeholder(tf.float32, [None, 1], name=\"Y\")\n",
    "\n",
    "W1 = tf.Variable(tf.random_uniform([2, 1], -1.0, 1.0))\n",
    "b = tf.Variable(tf.random_uniform([1], -1.0, 1.0))"
   ]
  },
  {
   "cell_type": "code",
   "execution_count": 26,
   "metadata": {},
   "outputs": [
    {
     "data": {
      "text/plain": [
       "<tf.Tensor 'add_1:0' shape=(?, 1) dtype=float32>"
      ]
     },
     "execution_count": 26,
     "metadata": {},
     "output_type": "execute_result"
    }
   ],
   "source": [
    "# X = tf.placeholder(tf.float32, [None, 2])   # [? * 2] X [2 * 1] => ? X 1 \n",
    "# W = tf.Variable(tf.random_normal([2,1]))\n",
    "\n",
    "hypothesis = tf.matmul(X1, W1) + b\n",
    "hypothesis"
   ]
  },
  {
   "cell_type": "code",
   "execution_count": 27,
   "metadata": {},
   "outputs": [],
   "source": [
    "### 비용함수, 최적화 함수\n",
    "cost = tf.reduce_mean(tf.square(hypothesis - Y))\n",
    "optimizer = tf.train.GradientDescentOptimizer(learning_rate=0.0001)\n",
    "train_op = optimizer.minimize(cost)"
   ]
  },
  {
   "cell_type": "code",
   "execution_count": 28,
   "metadata": {},
   "outputs": [
    {
     "name": "stdout",
     "output_type": "stream",
     "text": [
      "0 75635.35 [1.3542566] [0.19988072]\n",
      "10 28056.486 [4.4403777] [3.7634976]\n",
      "20 27727.686 [4.7034364] [4.0540667]\n",
      "30 27725.324 [4.7318287] [4.072593]\n",
      "40 27725.219 [4.7406993] [4.06852]\n",
      "50 27725.135 [4.7479324] [4.0625806]\n",
      "60 27725.045 [4.755015] [4.0564995]\n",
      "70 27724.957 [4.76207] [4.050419]\n",
      "80 27724.873 [4.769109] [4.044351]\n",
      "90 27724.781 [4.776131] [4.038296]\n",
      "Wall time: 819 ms\n"
     ]
    }
   ],
   "source": [
    "%%time\n",
    "\n",
    "sess = tf.Session()\n",
    "sess.run(tf.global_variables_initializer())\n",
    "\n",
    "for step in range(100):\n",
    "    _, cost_val = sess.run([train_op, cost], feed_dict={X1:x_data, Y:y_data})\n",
    "    \n",
    "    if step%10==0:\n",
    "        print(step, cost_val, sess.run(W1[0]), sess.run(W1[1]))\n",
    "\n",
    "        \n",
    "pred = sess.run(hypothesis, feed_dict={X1:x_test})\n",
    "pred = pred.reshape(-1,)\n",
    "\n",
    "sess.close()"
   ]
  },
  {
   "cell_type": "code",
   "execution_count": 40,
   "metadata": {},
   "outputs": [],
   "source": [
    "## 행렬 이용 컬럼 2개(input) 536ms\n",
    "## 행렬 사용 안함 컬럼 2개(input) : 1m 44s"
   ]
  },
  {
   "cell_type": "code",
   "execution_count": null,
   "metadata": {},
   "outputs": [],
   "source": []
  }
 ],
 "metadata": {
  "kernelspec": {
   "display_name": "Python 3",
   "language": "python",
   "name": "python3"
  },
  "language_info": {
   "codemirror_mode": {
    "name": "ipython",
    "version": 3
   },
   "file_extension": ".py",
   "mimetype": "text/x-python",
   "name": "python",
   "nbconvert_exporter": "python",
   "pygments_lexer": "ipython3",
   "version": "3.6.5"
  }
 },
 "nbformat": 4,
 "nbformat_minor": 2
}
