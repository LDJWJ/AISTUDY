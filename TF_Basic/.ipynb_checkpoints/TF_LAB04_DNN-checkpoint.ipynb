{
 "cells": [
  {
   "cell_type": "markdown",
   "metadata": {
    "colab_type": "text",
    "id": "wKh-S6w-EEJL"
   },
   "source": [
    "## 심층 신경망 구현하기"
   ]
  },
  {
   "cell_type": "code",
   "execution_count": 0,
   "metadata": {
    "colab": {},
    "colab_type": "code",
    "id": "4MVheFAMGaZR"
   },
   "outputs": [],
   "source": [
    "import numpy as np\n",
    "import tensorflow as tf"
   ]
  },
  {
   "cell_type": "code",
   "execution_count": 0,
   "metadata": {
    "colab": {},
    "colab_type": "code",
    "id": "hQRAeykpJChf"
   },
   "outputs": [],
   "source": [
    "# [털, 날개]\n",
    "# Tarket : 어떤 종류의 동물인지.\n",
    "x_data = np.array( [[0, 0], [1, 0], [1, 1], [0, 0], [0, 0], [0, 1]])\n",
    "\n",
    "# Tarket : 원핫인코딩(one-hot encoding)\n",
    "# 데이터가 가질 수 있는 값들을 일렬로 나열한 배열로 만들고, \n",
    "# 그중의 표현하려는 값을 인덱스의 원소만 1로 표현하고, 나머지는 0으로 채우는 표기법\n",
    "\n",
    "# [털, 날개]\n",
    "\n",
    "\n",
    "# [기타, 포유류, 조류]\n",
    "# 다음과 같은 형식을 one-hot 형식의 데이터라고 합니다.\n",
    "y_data = np.array([\n",
    "    [1, 0, 0],  # 기타\n",
    "    [0, 1, 0],  # 포유류\n",
    "    [0, 0, 1],  # 조류\n",
    "    [1, 0, 0],\n",
    "    [1, 0, 0],\n",
    "    [0, 0, 1]\n",
    "])"
   ]
  },
  {
   "cell_type": "code",
   "execution_count": 0,
   "metadata": {
    "colab": {},
    "colab_type": "code",
    "id": "edYVlb_2Hn_8"
   },
   "outputs": [],
   "source": [
    "X = tf.placeholder(tf.float32)   #  X에 들어갈 값(공간)\n",
    "Y = tf.placeholder(tf.float32)   #  Y에 들어갈 값(공간)"
   ]
  },
  {
   "cell_type": "code",
   "execution_count": 0,
   "metadata": {
    "colab": {},
    "colab_type": "code",
    "id": "XTV4_eW7EMwS"
   },
   "outputs": [],
   "source": [
    "# W1 : [2,10] -> [특징, 은닉층의 뉴런 수]\n",
    "# W2 : [10,3] -> [은닉층의 뉴런 수, 분류 수]\n",
    "W1 = tf.Variable(tf.random_uniform([2,10],-1.0, 1.0))\n",
    "W2 = tf.Variable(tf.random_uniform([10,3],-1.0, 1.0))\n",
    "\n",
    "# 편향\n",
    "# b1 = [10] -> 은닉층의 뉴런 수\n",
    "# b2 = [3]  -> 분류 수 \n",
    "b1 = tf.Variable(tf.zeros([10]))\n",
    "b2 = tf.Variable(tf.zeros([3]))"
   ]
  },
  {
   "cell_type": "code",
   "execution_count": 0,
   "metadata": {
    "colab": {},
    "colab_type": "code",
    "id": "cKklZewyE9Jq"
   },
   "outputs": [],
   "source": [
    "# 첫 번째 가중치와 편향, 활성화 함수를 적용 \n",
    "L1 = tf.add(tf.matmul(X, W1), b1)\n",
    "L1 = tf.nn.relu(L1)"
   ]
  },
  {
   "cell_type": "code",
   "execution_count": 0,
   "metadata": {
    "colab": {},
    "colab_type": "code",
    "id": "Wd05IDlJHY2R"
   },
   "outputs": [],
   "source": [
    "# 두 번째 가중치와 편향,\n",
    "model = tf.add(tf.matmul(L1, W2), b2)"
   ]
  },
  {
   "cell_type": "code",
   "execution_count": 0,
   "metadata": {
    "colab": {},
    "colab_type": "code",
    "id": "FS4DWl2DH0o5"
   },
   "outputs": [],
   "source": [
    "# 교차 엔트로피 함수 사용\n",
    "# 최적화 함수 : AdamOptimizer 함수\n",
    "# AdamOptimizer는 GradientDescentOptimizer보다 보편적으로 성능이 더 좋다.\n",
    "# Tf가 제공하는 다양한 최적화 함수 : https://www.tensorflow.org/api_guides/python/train\n",
    "cost = tf.reduce_mean(\n",
    "      tf.nn.softmax_cross_entropy_with_logits_v2(labels=Y, logits=model)) # 버전 변경\n",
    "optimizer = tf.train.AdamOptimizer(learning_rate=0.01)\n",
    "train_op = optimizer.minimize(cost)"
   ]
  },
  {
   "cell_type": "code",
   "execution_count": 29,
   "metadata": {
    "colab": {
     "base_uri": "https://localhost:8080/",
     "height": 196
    },
    "colab_type": "code",
    "executionInfo": {
     "elapsed": 658,
     "status": "ok",
     "timestamp": 1547566336635,
     "user": {
      "displayName": "K Joy",
      "photoUrl": "",
      "userId": "10088839989700781050"
     },
     "user_tz": -540
    },
    "id": "JKNgNWIfIExp",
    "outputId": "f86e6b43-9bc3-4fa3-c496-8df9f85613f9"
   },
   "outputs": [
    {
     "name": "stdout",
     "output_type": "stream",
     "text": [
      "10 0.9271534\n",
      "20 0.6812835\n",
      "30 0.51234275\n",
      "40 0.3851327\n",
      "50 0.28330165\n",
      "60 0.19858724\n",
      "70 0.13136534\n",
      "80 0.08565382\n",
      "90 0.057365503\n",
      "100 0.040310636\n"
     ]
    }
   ],
   "source": [
    "# 텐서플로 세션 초기화\n",
    "init = tf.global_variables_initializer()\n",
    "sess = tf.Session()\n",
    "sess.run(init)\n",
    "\n",
    "# 레이블 데이터를 이용하여 학습을 진행\n",
    "for step in range(100):\n",
    "  sess.run(train_op,feed_dict={X:x_data, Y:y_data})\n",
    "  \n",
    "  # 학습도중 10번씩 손실값을 출력\n",
    "  if (step+1)%10 == 0:\n",
    "    print(step+1, sess.run(cost, feed_dict={X:x_data, Y:y_data}))\n"
   ]
  },
  {
   "cell_type": "code",
   "execution_count": 32,
   "metadata": {
    "colab": {
     "base_uri": "https://localhost:8080/",
     "height": 71
    },
    "colab_type": "code",
    "executionInfo": {
     "elapsed": 1001,
     "status": "ok",
     "timestamp": 1547566365974,
     "user": {
      "displayName": "K Joy",
      "photoUrl": "",
      "userId": "10088839989700781050"
     },
     "user_tz": -540
    },
    "id": "HmgVFELcJEdc",
    "outputId": "131ca297-29e9-41c9-e47a-05989cf4589f"
   },
   "outputs": [
    {
     "name": "stdout",
     "output_type": "stream",
     "text": [
      "예측값: [0 1 2 0 0 2]\n",
      "실제값: [0 1 2 0 0 2]\n",
      "정확도: 100.00\n"
     ]
    }
   ],
   "source": [
    "#########\n",
    "# 결과 확인\n",
    "# 0: 기타 1: 포유류, 2: 조류\n",
    "######\n",
    "# tf.argmax: 예측값과 실제값의 행렬에서 tf.argmax 를 이용해 가장 큰 값을 가져옵니다.\n",
    "# 예) [[0 1 0] [1 0 0]] -> [1 0]\n",
    "#    [[0.2 0.7 0.1] [0.9 0.1 0.]] -> [1 0]\n",
    "prediction = tf.argmax(model, 1)\n",
    "target = tf.argmax(Y, 1)\n",
    "print('예측값:', sess.run(prediction, feed_dict={X: x_data}))\n",
    "print('실제값:', sess.run(target, feed_dict={Y: y_data}))\n",
    "\n",
    "is_correct = tf.equal(prediction, target)\n",
    "accuracy = tf.reduce_mean(tf.cast(is_correct, tf.float32))\n",
    "print('정확도: %.2f' % sess.run(accuracy * 100, feed_dict={X: x_data, Y: y_data}))"
   ]
  },
  {
   "cell_type": "code",
   "execution_count": 0,
   "metadata": {
    "colab": {},
    "colab_type": "code",
    "id": "APlnqh8uJJFB"
   },
   "outputs": [],
   "source": []
  }
 ],
 "metadata": {
  "colab": {
   "name": "TF_LAB04_DNN.ipynb",
   "provenance": [],
   "version": "0.3.2"
  },
  "kernelspec": {
   "display_name": "Python 3",
   "language": "python",
   "name": "python3"
  },
  "language_info": {
   "codemirror_mode": {
    "name": "ipython",
    "version": 3
   },
   "file_extension": ".py",
   "mimetype": "text/x-python",
   "name": "python",
   "nbconvert_exporter": "python",
   "pygments_lexer": "ipython3",
   "version": "3.6.4"
  }
 },
 "nbformat": 4,
 "nbformat_minor": 1
}
