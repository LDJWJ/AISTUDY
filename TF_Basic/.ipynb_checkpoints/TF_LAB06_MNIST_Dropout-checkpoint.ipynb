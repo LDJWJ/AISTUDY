{
 "cells": [
  {
   "cell_type": "markdown",
   "metadata": {
    "colab_type": "text",
    "id": "GLfQLuykORO7"
   },
   "source": [
    "## MNIST 데이터를 이용한 신경망 문제 풀이- 드롭아웃(Dropout)"
   ]
  },
  {
   "cell_type": "markdown",
   "metadata": {
    "colab_type": "text",
    "id": "syfrJGLqOeJP"
   },
   "source": [
    "### 01. MNIST 데이터 셋 설명\n",
    " * 0 ~ 9까지의 숫자를 28 X 28 픽셀 크기의 이미지로 구성.\n",
    " * 머신러닝계의 Hello World!\n",
    " * 기본 내장된 mnist 모듈을 이용하여 데이터를 로드"
   ]
  },
  {
   "cell_type": "markdown",
   "metadata": {},
   "source": [
    "### 02. Dropout(드롭아웃) 설명\n",
    " * 과적합의 이해 - 학습한 결과가 학습 데이터에는 매우 잘 맞지만, 학습 데이터에만 너무 꼭 맞춰져 있어, 그 외의 데이터에는 잘 맞지 않음.\n",
    " * 학습시 전체 신경망 중 일부만을 사용하도록 하는 것.\n",
    " * 즉, 학습 단계마다 일부 뉴런을 제거(사용하지 않도록)함으로써, 일부 특징이 특정 뉴런에 고정되는 것을 막아 가중치의 균형을 잡도록 한다.\n",
    " * 학습 시 일부 뉴런을 학습시키지 않기 때문에 신경망이 충분히 학습되기까지의 시간은 조금 더 오래 걸리는 편이다."
   ]
  },
  {
   "cell_type": "code",
   "execution_count": 2,
   "metadata": {
    "colab": {},
    "colab_type": "code",
    "id": "P7hUux1TOhCu"
   },
   "outputs": [
    {
     "name": "stderr",
     "output_type": "stream",
     "text": [
      "C:\\Users\\WITHJS\\Anaconda3\\lib\\site-packages\\h5py\\__init__.py:36: FutureWarning: Conversion of the second argument of issubdtype from `float` to `np.floating` is deprecated. In future, it will be treated as `np.float64 == np.dtype(float).type`.\n",
      "  from ._conv import register_converters as _register_converters\n"
     ]
    }
   ],
   "source": [
    "import tensorflow as tf\n",
    "import numpy as np\n",
    "\n",
    "from tensorflow.examples.tutorials.mnist import input_data"
   ]
  },
  {
   "cell_type": "code",
   "execution_count": 3,
   "metadata": {
    "colab": {
     "base_uri": "https://localhost:8080/",
     "height": 556
    },
    "colab_type": "code",
    "executionInfo": {
     "elapsed": 1604,
     "status": "ok",
     "timestamp": 1547634986502,
     "user": {
      "displayName": "K Joy",
      "photoUrl": "",
      "userId": "10088839989700781050"
     },
     "user_tz": -540
    },
    "id": "zuIhgT2COwrM",
    "outputId": "7fa8abc4-908b-435b-cd75-b620c6c0255f"
   },
   "outputs": [
    {
     "name": "stdout",
     "output_type": "stream",
     "text": [
      "WARNING:tensorflow:From <ipython-input-3-6fa84048fdd1>:1: read_data_sets (from tensorflow.contrib.learn.python.learn.datasets.mnist) is deprecated and will be removed in a future version.\n",
      "Instructions for updating:\n",
      "Please use alternatives such as official/mnist/dataset.py from tensorflow/models.\n",
      "WARNING:tensorflow:From C:\\Users\\WITHJS\\Anaconda3\\lib\\site-packages\\tensorflow\\contrib\\learn\\python\\learn\\datasets\\mnist.py:260: maybe_download (from tensorflow.contrib.learn.python.learn.datasets.base) is deprecated and will be removed in a future version.\n",
      "Instructions for updating:\n",
      "Please write your own downloading logic.\n",
      "WARNING:tensorflow:From C:\\Users\\WITHJS\\Anaconda3\\lib\\site-packages\\tensorflow\\contrib\\learn\\python\\learn\\datasets\\base.py:252: _internal_retry.<locals>.wrap.<locals>.wrapped_fn (from tensorflow.contrib.learn.python.learn.datasets.base) is deprecated and will be removed in a future version.\n",
      "Instructions for updating:\n",
      "Please use urllib or similar directly.\n",
      "Successfully downloaded train-images-idx3-ubyte.gz 9912422 bytes.\n",
      "WARNING:tensorflow:From C:\\Users\\WITHJS\\Anaconda3\\lib\\site-packages\\tensorflow\\contrib\\learn\\python\\learn\\datasets\\mnist.py:262: extract_images (from tensorflow.contrib.learn.python.learn.datasets.mnist) is deprecated and will be removed in a future version.\n",
      "Instructions for updating:\n",
      "Please use tf.data to implement this functionality.\n",
      "Extracting ./mnist/data/train-images-idx3-ubyte.gz\n",
      "Successfully downloaded train-labels-idx1-ubyte.gz 28881 bytes.\n",
      "WARNING:tensorflow:From C:\\Users\\WITHJS\\Anaconda3\\lib\\site-packages\\tensorflow\\contrib\\learn\\python\\learn\\datasets\\mnist.py:267: extract_labels (from tensorflow.contrib.learn.python.learn.datasets.mnist) is deprecated and will be removed in a future version.\n",
      "Instructions for updating:\n",
      "Please use tf.data to implement this functionality.\n",
      "Extracting ./mnist/data/train-labels-idx1-ubyte.gz\n",
      "WARNING:tensorflow:From C:\\Users\\WITHJS\\Anaconda3\\lib\\site-packages\\tensorflow\\contrib\\learn\\python\\learn\\datasets\\mnist.py:110: dense_to_one_hot (from tensorflow.contrib.learn.python.learn.datasets.mnist) is deprecated and will be removed in a future version.\n",
      "Instructions for updating:\n",
      "Please use tf.one_hot on tensors.\n",
      "Successfully downloaded t10k-images-idx3-ubyte.gz 1648877 bytes.\n",
      "Extracting ./mnist/data/t10k-images-idx3-ubyte.gz\n",
      "Successfully downloaded t10k-labels-idx1-ubyte.gz 4542 bytes.\n",
      "Extracting ./mnist/data/t10k-labels-idx1-ubyte.gz\n",
      "WARNING:tensorflow:From C:\\Users\\WITHJS\\Anaconda3\\lib\\site-packages\\tensorflow\\contrib\\learn\\python\\learn\\datasets\\mnist.py:290: DataSet.__init__ (from tensorflow.contrib.learn.python.learn.datasets.mnist) is deprecated and will be removed in a future version.\n",
      "Instructions for updating:\n",
      "Please use alternatives such as official/mnist/dataset.py from tensorflow/models.\n"
     ]
    }
   ],
   "source": [
    "mnist = input_data.read_data_sets(\"./mnist/data/\", one_hot=True)"
   ]
  },
  {
   "cell_type": "markdown",
   "metadata": {
    "colab_type": "text",
    "id": "x40iZHYuO8eA"
   },
   "source": [
    "## 02. 신경망 모델 구성\n",
    "* 28 X 28 픽셀 -> 784개의 특징\n",
    "* Label은 0~9까지 10개의 분류\n",
    "* 입력 X, 출력 Y\n",
    "* None에는 이미지의 개수를 지정하는 값이 들어간다."
   ]
  },
  {
   "cell_type": "code",
   "execution_count": 4,
   "metadata": {
    "colab": {},
    "colab_type": "code",
    "id": "FMeH6axIPjv8"
   },
   "outputs": [],
   "source": [
    "X = tf.placeholder(tf.float32, [None, 784])\n",
    "Y = tf.placeholder(tf.float32, [None, 10])"
   ]
  },
  {
   "cell_type": "code",
   "execution_count": 5,
   "metadata": {},
   "outputs": [],
   "source": [
    "keep_prob = tf.placeholder(tf.float32)   # 학습시에는 0.8을 넣어 드롭 아웃을 사용, 예측 시에는 1을 넣어 신경망 전체를 사용."
   ]
  },
  {
   "cell_type": "markdown",
   "metadata": {
    "colab_type": "text",
    "id": "n8Wn_eWzPs8R"
   },
   "source": [
    "### 우리가 만들 신경망\n",
    " * 784개의 특징(입력)\n",
    " * 256 (첫번째 은닉층의 뉴런 개수)\n",
    " * 256 (두번째 은닉층의 뉴런 개수)\n",
    " * 10 ( 결과값 0-9 분류 개수)"
   ]
  },
  {
   "cell_type": "code",
   "execution_count": 6,
   "metadata": {
    "colab": {},
    "colab_type": "code",
    "id": "TUsfkNONQNZ3"
   },
   "outputs": [],
   "source": [
    "# 784개 입력, 256개의 뉴런 \n",
    "# 표준편차가 0.01인 정규 분포를 가지는 임의의 뉴런을 초기화 시킨다.\n",
    "W1 = tf.Variable(tf.random_normal([784, 256], stddev=0.01))\n",
    "\n",
    "# X(입력값)에 가중치를 곱하고, 이후 ReLU 함수를 이용하여 레이어를 만든다.\n",
    "L1 = tf.nn.relu(tf.matmul(X, W1))  # 데이터수 X 784 * 784 X 256 => 데이터수 X 256\n",
    "L1 = tf.nn.dropout(L1, keep_prob)  # tf.nn.dropout()를 이용하여 DROPOUT 기법 적용이 가능하다.\n",
    "\n",
    "W2 = tf.Variable(tf.random_normal([256,256], stddev=0.01))\n",
    "# L1(입력값)에 가중치를 곱하고, 이후 ReLU 함수를 이용하여 레이어를 만든다.\n",
    "L2 = tf.nn.relu(tf.matmul(L1, W2)) # 데이터수 X 256 * 256 X 256 => 데이터수 X 256\n",
    "L2 = tf.nn.dropout(L2, keep_prob) \n",
    "\n",
    "W3 = tf.Variable(tf.random_normal([256, 10], stddev=0.01))\n",
    "model = tf.matmul(L2, W3) # 데이터수 X 256 * 256 X 10 => 데이터수 X 10"
   ]
  },
  {
   "cell_type": "markdown",
   "metadata": {
    "colab_type": "text",
    "id": "RcxMz7R7QmiR"
   },
   "source": [
    "### 03. 미니배치의 평균 손실값을 구한다.\n",
    "* 미니배치의 평균 손실값을 구한다.\n",
    "* tf.train.AdamOptimizer 함수 이용 최적화를 수행"
   ]
  },
  {
   "cell_type": "code",
   "execution_count": 7,
   "metadata": {
    "colab": {},
    "colab_type": "code",
    "id": "UoQepDP7Rywg"
   },
   "outputs": [],
   "source": [
    "cost = tf.reduce_mean(\n",
    "          tf.nn.softmax_cross_entropy_with_logits_v2(logits=model, labels=Y))  # 최신버전 변경 부분\n",
    "optimizer = tf.train.AdamOptimizer(0.001).minimize(cost)"
   ]
  },
  {
   "cell_type": "markdown",
   "metadata": {},
   "source": [
    "### 신경망 모델 학습"
   ]
  },
  {
   "cell_type": "code",
   "execution_count": 8,
   "metadata": {
    "colab": {},
    "colab_type": "code",
    "id": "a-a8aVX5S2_P"
   },
   "outputs": [],
   "source": [
    "init = tf.global_variables_initializer()\n",
    "sess = tf.Session()\n",
    "sess.run(init)"
   ]
  },
  {
   "cell_type": "markdown",
   "metadata": {
    "colab_type": "text",
    "id": "7z1TKPBxTPSR"
   },
   "source": [
    "### 04. 테스트용 데이터와 학습 데이터의 분류"
   ]
  },
  {
   "cell_type": "markdown",
   "metadata": {
    "colab_type": "text",
    "id": "uUVBNExqTt0g"
   },
   "source": [
    "* 머신러닝을 위한 데이터는 항상 학습용과 테스트용으로 분리해서 사용\n",
    "* 학습 데이터는 학습을 시킬 때 사용.\n",
    "* 테스트 데이터는 학습이 잘되었는지 확인하는데 사용.\n",
    "* 분류하는 이유 : 별도의 테스트 데이터를 사용하는 이유는 학습 데이터로 예측을 하면 예측 정확도가 매우 높게 나오지만, 학습 데이터에 포함되지 않은 새로운 데이터를 예측할 때는 정확도가 매우 떨어지는 경우가 많기 때문. \n",
    "* 이런 현상을 우리는 과적합이라 한다."
   ]
  },
  {
   "cell_type": "code",
   "execution_count": 9,
   "metadata": {
    "colab": {},
    "colab_type": "code",
    "id": "IMQBmZrkUFiv"
   },
   "outputs": [],
   "source": [
    "batch_size = 100\n",
    "total_batch = int(mnist.train.num_examples / batch_size)"
   ]
  },
  {
   "cell_type": "code",
   "execution_count": 10,
   "metadata": {
    "colab": {
     "base_uri": "https://localhost:8080/",
     "height": 554
    },
    "colab_type": "code",
    "executionInfo": {
     "elapsed": 37350,
     "status": "ok",
     "timestamp": 1547636749305,
     "user": {
      "displayName": "K Joy",
      "photoUrl": "",
      "userId": "10088839989700781050"
     },
     "user_tz": -540
    },
    "id": "zDZVPTakUXSQ",
    "outputId": "2926e126-e531-49ef-c14b-65162e54b5aa"
   },
   "outputs": [
    {
     "name": "stdout",
     "output_type": "stream",
     "text": [
      "(100, 784) (100, 10)\n",
      "Epoch 1, Avg. cost = 0.422382107661529\n",
      "(100, 784) (100, 10)\n",
      "Epoch 2, Avg. cost = 0.16178126987069846\n",
      "(100, 784) (100, 10)\n",
      "Epoch 3, Avg. cost = 0.11106827651912515\n",
      "(100, 784) (100, 10)\n",
      "Epoch 4, Avg. cost = 0.08679323284463449\n",
      "(100, 784) (100, 10)\n",
      "Epoch 5, Avg. cost = 0.07213178769939325\n",
      "(100, 784) (100, 10)\n",
      "Epoch 6, Avg. cost = 0.060250531117516486\n",
      "(100, 784) (100, 10)\n",
      "Epoch 7, Avg. cost = 0.05222327719865875\n",
      "(100, 784) (100, 10)\n",
      "Epoch 8, Avg. cost = 0.046215800569943066\n",
      "(100, 784) (100, 10)\n",
      "Epoch 9, Avg. cost = 0.04108418627218766\n",
      "(100, 784) (100, 10)\n",
      "Epoch 10, Avg. cost = 0.03864069186320359\n",
      "(100, 784) (100, 10)\n",
      "Epoch 11, Avg. cost = 0.03285767755407671\n",
      "(100, 784) (100, 10)\n",
      "Epoch 12, Avg. cost = 0.031716899113009935\n",
      "(100, 784) (100, 10)\n",
      "Epoch 13, Avg. cost = 0.0297970265251669\n",
      "(100, 784) (100, 10)\n",
      "Epoch 14, Avg. cost = 0.026619224710262974\n",
      "(100, 784) (100, 10)\n",
      "Epoch 15, Avg. cost = 0.025721379598570904\n",
      "(100, 784) (100, 10)\n",
      "Epoch 16, Avg. cost = 0.02225306106429674\n",
      "(100, 784) (100, 10)\n",
      "Epoch 17, Avg. cost = 0.02445726358691569\n",
      "(100, 784) (100, 10)\n",
      "Epoch 18, Avg. cost = 0.02272003052761482\n",
      "(100, 784) (100, 10)\n",
      "Epoch 19, Avg. cost = 0.020639550468873825\n",
      "(100, 784) (100, 10)\n",
      "Epoch 20, Avg. cost = 0.021150246850791685\n",
      "(100, 784) (100, 10)\n",
      "Epoch 21, Avg. cost = 0.021148089979859917\n",
      "(100, 784) (100, 10)\n",
      "Epoch 22, Avg. cost = 0.018578996791118036\n",
      "(100, 784) (100, 10)\n",
      "Epoch 23, Avg. cost = 0.018214320528336842\n",
      "(100, 784) (100, 10)\n",
      "Epoch 24, Avg. cost = 0.018434117139470553\n",
      "(100, 784) (100, 10)\n",
      "Epoch 25, Avg. cost = 0.017848555111612024\n",
      "(100, 784) (100, 10)\n",
      "Epoch 26, Avg. cost = 0.015746865395128474\n",
      "(100, 784) (100, 10)\n",
      "Epoch 27, Avg. cost = 0.017815726379558326\n",
      "(100, 784) (100, 10)\n",
      "Epoch 28, Avg. cost = 0.017824648096522486\n",
      "(100, 784) (100, 10)\n",
      "Epoch 29, Avg. cost = 0.01689858251320402\n",
      "(100, 784) (100, 10)\n",
      "Epoch 30, Avg. cost = 0.01619280996633196\n"
     ]
    }
   ],
   "source": [
    "for epoch in range(30):\n",
    "  total_cost = 0\n",
    "  for i in range(total_batch):\n",
    "    batch_xs, batch_ys = mnist.train.next_batch(batch_size) # 학습할 데이터를 가져온다.\n",
    "    \n",
    "    \n",
    "    # 입력 X, 출력 Y에 각각의 데이터 넣고 실행\n",
    "    _, cost_val = sess.run([optimizer,cost],\n",
    "                          feed_dict={X:batch_xs, Y:batch_ys, keep_prob:0.8 })\n",
    "    total_cost += cost_val\n",
    "  print(batch_xs.shape, batch_ys.shape)\n",
    "  print('Epoch {}, Avg. cost = {}'.format(epoch+1, total_cost/total_batch))\n",
    "               "
   ]
  },
  {
   "cell_type": "markdown",
   "metadata": {
    "colab_type": "text",
    "id": "-fUvw6eXVVrI"
   },
   "source": [
    "### 05. 학습 후, 결과 출력"
   ]
  },
  {
   "cell_type": "code",
   "execution_count": 11,
   "metadata": {
    "colab": {
     "base_uri": "https://localhost:8080/",
     "height": 35
    },
    "colab_type": "code",
    "executionInfo": {
     "elapsed": 565,
     "status": "ok",
     "timestamp": 1547636921406,
     "user": {
      "displayName": "K Joy",
      "photoUrl": "",
      "userId": "10088839989700781050"
     },
     "user_tz": -540
    },
    "id": "-QobmLzUVr-u",
    "outputId": "99a1dc5b-6fc3-45c4-a399-8d78c25170f6"
   },
   "outputs": [
    {
     "data": {
      "text/plain": [
       "<tf.Tensor 'Mean_1:0' shape=() dtype=float32>"
      ]
     },
     "execution_count": 11,
     "metadata": {},
     "output_type": "execute_result"
    }
   ],
   "source": [
    "# tf.argmax(model, 1)는 1번인덱스(두번째)값 중에서 최대값을 뽑기\n",
    "# tf.argmax(Y,1)는 1번 인덱스(두번째)값 중에서 최대값 뽑기\n",
    "# 결과는 10개 레이블중에 확률이 가장 높은 값이 된다.\n",
    "is_correct = tf.equal(tf.argmax(model, 1), tf.argmax(Y,1)) \n",
    "is_correct\n",
    "accuracy = tf.reduce_mean(tf.cast(is_correct, tf.float32))\n",
    "accuracy"
   ]
  },
  {
   "cell_type": "code",
   "execution_count": 12,
   "metadata": {
    "colab": {
     "base_uri": "https://localhost:8080/",
     "height": 53
    },
    "colab_type": "code",
    "executionInfo": {
     "elapsed": 367,
     "status": "ok",
     "timestamp": 1547637012447,
     "user": {
      "displayName": "K Joy",
      "photoUrl": "",
      "userId": "10088839989700781050"
     },
     "user_tz": -540
    },
    "id": "siWgTtUCWjTU",
    "outputId": "f5a0af88-cfe0-4270-caea-5942cf09cda9"
   },
   "outputs": [
    {
     "name": "stdout",
     "output_type": "stream",
     "text": [
      "(10000, 784)\n",
      "(10000, 10)\n"
     ]
    }
   ],
   "source": [
    "print(mnist.test.images.shape)\n",
    "print(mnist.test.labels.shape)"
   ]
  },
  {
   "cell_type": "code",
   "execution_count": 14,
   "metadata": {
    "colab": {
     "base_uri": "https://localhost:8080/",
     "height": 35
    },
    "colab_type": "code",
    "executionInfo": {
     "elapsed": 545,
     "status": "ok",
     "timestamp": 1547636973642,
     "user": {
      "displayName": "K Joy",
      "photoUrl": "",
      "userId": "10088839989700781050"
     },
     "user_tz": -540
    },
    "id": "gNAQ8ml4V2KZ",
    "outputId": "66b23761-7f6f-40bf-c536-a1064c4fffa5"
   },
   "outputs": [
    {
     "name": "stdout",
     "output_type": "stream",
     "text": [
      "정확도 0.9819\n"
     ]
    }
   ],
   "source": [
    "print('정확도', sess.run(accuracy, feed_dict={X:mnist.test.images,\n",
    "                                              Y:mnist.test.labels,\n",
    "                                          keep_prob:1}))"
   ]
  },
  {
   "cell_type": "code",
   "execution_count": 15,
   "metadata": {
    "colab": {},
    "colab_type": "code",
    "id": "LOpr6p8lWh3L"
   },
   "outputs": [
    {
     "ename": "NameError",
     "evalue": "name 'plt' is not defined",
     "output_type": "error",
     "traceback": [
      "\u001b[1;31m---------------------------------------------------------------------------\u001b[0m",
      "\u001b[1;31mNameError\u001b[0m                                 Traceback (most recent call last)",
      "\u001b[1;32m<ipython-input-15-6bbe40074833>\u001b[0m in \u001b[0;36m<module>\u001b[1;34m()\u001b[0m\n\u001b[0;32m      7\u001b[0m                              keep_prob: 1})\n\u001b[0;32m      8\u001b[0m \u001b[1;33m\u001b[0m\u001b[0m\n\u001b[1;32m----> 9\u001b[1;33m \u001b[0mfig\u001b[0m \u001b[1;33m=\u001b[0m \u001b[0mplt\u001b[0m\u001b[1;33m.\u001b[0m\u001b[0mfigure\u001b[0m\u001b[1;33m(\u001b[0m\u001b[1;33m)\u001b[0m\u001b[1;33m\u001b[0m\u001b[0m\n\u001b[0m\u001b[0;32m     10\u001b[0m \u001b[1;32mfor\u001b[0m \u001b[0mi\u001b[0m \u001b[1;32min\u001b[0m \u001b[0mrange\u001b[0m\u001b[1;33m(\u001b[0m\u001b[1;36m10\u001b[0m\u001b[1;33m)\u001b[0m\u001b[1;33m:\u001b[0m\u001b[1;33m\u001b[0m\u001b[0m\n\u001b[0;32m     11\u001b[0m     \u001b[0msubplot\u001b[0m \u001b[1;33m=\u001b[0m \u001b[0mfig\u001b[0m\u001b[1;33m.\u001b[0m\u001b[0madd_subplot\u001b[0m\u001b[1;33m(\u001b[0m\u001b[1;36m2\u001b[0m\u001b[1;33m,\u001b[0m \u001b[1;36m5\u001b[0m\u001b[1;33m,\u001b[0m \u001b[0mi\u001b[0m \u001b[1;33m+\u001b[0m \u001b[1;36m1\u001b[0m\u001b[1;33m)\u001b[0m\u001b[1;33m\u001b[0m\u001b[0m\n",
      "\u001b[1;31mNameError\u001b[0m: name 'plt' is not defined"
     ]
    }
   ],
   "source": [
    "#########\n",
    "# 결과 확인 (matplot)\n",
    "######\n",
    "labels = sess.run(model,\n",
    "                  feed_dict={X: mnist.test.images,\n",
    "                             Y: mnist.test.labels,\n",
    "                             keep_prob: 1})\n",
    "\n",
    "fig = plt.figure()\n",
    "for i in range(10):\n",
    "    subplot = fig.add_subplot(2, 5, i + 1)\n",
    "    subplot.set_xticks([])\n",
    "    subplot.set_yticks([])\n",
    "    subplot.set_title('%d' % np.argmax(labels[i]))\n",
    "    subplot.imshow(mnist.test.images[i].reshape((28, 28)),\n",
    "                   cmap=plt.cm.gray_r)\n",
    "\n",
    "plt.show()"
   ]
  },
  {
   "cell_type": "code",
   "execution_count": null,
   "metadata": {},
   "outputs": [],
   "source": []
  }
 ],
 "metadata": {
  "colab": {
   "name": "TF_LAB05_MNIST.ipynb",
   "provenance": [],
   "version": "0.3.2"
  },
  "kernelspec": {
   "display_name": "Python 3",
   "language": "python",
   "name": "python3"
  },
  "language_info": {
   "codemirror_mode": {
    "name": "ipython",
    "version": 3
   },
   "file_extension": ".py",
   "mimetype": "text/x-python",
   "name": "python",
   "nbconvert_exporter": "python",
   "pygments_lexer": "ipython3",
   "version": "3.6.4"
  }
 },
 "nbformat": 4,
 "nbformat_minor": 1
}
