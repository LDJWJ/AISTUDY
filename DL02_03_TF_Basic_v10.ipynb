{
 "cells": [
  {
   "cell_type": "markdown",
   "metadata": {
    "collapsed": true
   },
   "source": [
    "### Tensorflow 시작하기\n",
    "* Tensorflow 자료형 선언\n",
    "* 텐서플로워 연산\n",
    "* 텐서플로워 그래프 생성 및 실행에 대한 알아보기"
   ]
  },
  {
   "cell_type": "markdown",
   "metadata": {},
   "source": [
    "* 텐서란? 수학적인 개념이며, 기본적인 데이터의 배열로 볼 수 있음."
   ]
  },
  {
   "cell_type": "markdown",
   "metadata": {},
   "source": [
    "#### colab에서 시작하기\n",
    "<a href=\"https://colab.research.google.com/github/LDJWJ/00_TOTO_MLDL_CLASS/blob/master/DL02_03_TF_Basic.ipynb\" target=\"_parent\"><img src=\"https://colab.research.google.com/assets/colab-badge.svg\" alt=\"Open In Colab\"/></a>"
   ]
  },
  {
   "cell_type": "markdown",
   "metadata": {},
   "source": [
    "### 01. 라이브러리 임포트"
   ]
  },
  {
   "cell_type": "code",
   "execution_count": 1,
   "metadata": {},
   "outputs": [
    {
     "name": "stderr",
     "output_type": "stream",
     "text": [
      "C:\\Users\\front\\Anaconda3\\lib\\site-packages\\h5py\\__init__.py:36: FutureWarning: Conversion of the second argument of issubdtype from `float` to `np.floating` is deprecated. In future, it will be treated as `np.float64 == np.dtype(float).type`.\n",
      "  from ._conv import register_converters as _register_converters\n"
     ]
    }
   ],
   "source": [
    "import tensorflow as tf"
   ]
  },
  {
   "cell_type": "code",
   "execution_count": 3,
   "metadata": {},
   "outputs": [
    {
     "name": "stdout",
     "output_type": "stream",
     "text": [
      "1.15.0\n"
     ]
    }
   ],
   "source": [
    "print(tf.__version__)"
   ]
  },
  {
   "cell_type": "markdown",
   "metadata": {},
   "source": [
    "### 02. 값을 저장하기\n",
    "* Tensor라는 자료형\n",
    "* Rank(), Shape() : 랭크는 차원의 수\n",
    "   * 랭크가 0이면 스칼라, 1이면 벡터, 2이면 행렬, 3이상이면 n-Tensor 또는 n차원 텐서\n",
    "* dtype(자료형) : 문자열"
   ]
  },
  {
   "cell_type": "code",
   "execution_count": 4,
   "metadata": {},
   "outputs": [
    {
     "name": "stdout",
     "output_type": "stream",
     "text": [
      "Tensor(\"Const:0\", shape=(), dtype=string)\n"
     ]
    }
   ],
   "source": [
    "hello = tf.constant(\"Hello, Tensorflow\")  # 상수값 저장\n",
    "print(hello)"
   ]
  },
  {
   "cell_type": "code",
   "execution_count": 5,
   "metadata": {},
   "outputs": [
    {
     "name": "stdout",
     "output_type": "stream",
     "text": [
      "b'Hello, Tensorflow'\n"
     ]
    }
   ],
   "source": [
    "sess = tf.Session()\n",
    "sess.run(tf.global_variables_initializer())\n",
    "print( sess.run(hello) )\n",
    "sess.close()"
   ]
  },
  {
   "cell_type": "markdown",
   "metadata": {},
   "source": [
    "### 03. 텐서플로워 연산\n",
    "* 그래프의 생성과 그래프의 실행\n",
    "  * (1) 그래프의 생성 : 텐서와 텐서의 연산을 먼저 정의하여 그래프를 생성하는 1단계\n",
    "  * (2) 그래프의 실행 : 실행이 필요할 때, \n",
    "   * 연산을 실행하는 코드를 넣어 '원하는 시점'에 실제 연산을 수행하도록 한다.(지연실행) \n",
    "\n",
    "### 3-1 그래프의 생성\n",
    "* 그래프는 간단하게 말하면 텐서들의 연산 모음.\n",
    "* 텐서와 텐서의 연산들을 먼저 정의하여 그래프를 만든다."
   ]
  },
  {
   "cell_type": "code",
   "execution_count": 6,
   "metadata": {},
   "outputs": [
    {
     "name": "stdout",
     "output_type": "stream",
     "text": [
      "Tensor(\"Add:0\", shape=(), dtype=int32)\n",
      "<class 'tensorflow.python.framework.ops.Tensor'>\n"
     ]
    }
   ],
   "source": [
    "# 값의 선언과 연산\n",
    "a = tf.constant(10)\n",
    "b = tf.constant(25)\n",
    "c = tf.add(a,b)\n",
    "print(c)\n",
    "print(type(c))"
   ]
  },
  {
   "cell_type": "markdown",
   "metadata": {},
   "source": [
    "### 3-2 그래프의 실행\n",
    "\n",
    "* 실제 연산 부분 C++로 구현한 코어 라이브러리에서 수행\n",
    "* 모델 구성과 실행을 분리하여 **프로그램을 깔끔**하게 작성"
   ]
  },
  {
   "cell_type": "markdown",
   "metadata": {},
   "source": [
    "### 데이터을 실행시에 넣을 공간(placeholder)\n",
    " * 플레이스 홀더(placeholder) 선언\n",
    " * 그래프에 사용할 입력값을 받기 위해 사용하는 매개변수(parameter)"
   ]
  },
  {
   "cell_type": "code",
   "execution_count": 8,
   "metadata": {},
   "outputs": [
    {
     "name": "stdout",
     "output_type": "stream",
     "text": [
      "Tensor(\"Placeholder_1:0\", shape=(?, 3), dtype=float32)\n"
     ]
    }
   ],
   "source": [
    "# None은 크기가 정해져 있지 않음을 의미\n",
    "# tf.placeholder([자료형], 데이터의 크기)\n",
    "X = tf.placeholder(tf.float32, [None, 3])\n",
    "print(X)"
   ]
  },
  {
   "cell_type": "markdown",
   "metadata": {},
   "source": [
    "### 테스트 데이터 준비\n",
    " * 추후에 플레이스 홀더에 넣을 값을 준비"
   ]
  },
  {
   "cell_type": "code",
   "execution_count": 9,
   "metadata": {},
   "outputs": [
    {
     "name": "stdout",
     "output_type": "stream",
     "text": [
      "[[1, 2, 3], [4, 5, 6]]\n"
     ]
    }
   ],
   "source": [
    "x_data = [[1,2,3], \n",
    "          [4,5,6]]\n",
    "print(x_data)"
   ]
  },
  {
   "cell_type": "markdown",
   "metadata": {},
   "source": [
    "### 변수 정의\n",
    "* tf.random_normal 함수를 이용한 정규 분포의 무작위 행렬 3,2 생성"
   ]
  },
  {
   "cell_type": "code",
   "execution_count": 10,
   "metadata": {},
   "outputs": [
    {
     "name": "stdout",
     "output_type": "stream",
     "text": [
      "<tf.Variable 'Variable:0' shape=(3, 2) dtype=float32_ref>\n",
      "<tf.Variable 'Variable_1:0' shape=(2, 1) dtype=float32_ref>\n"
     ]
    }
   ],
   "source": [
    "W = tf.Variable(tf.random_normal([3,2]))\n",
    "b = tf.Variable(tf.random_normal([2,1]))\n",
    "print(W)\n",
    "print(b)"
   ]
  },
  {
   "cell_type": "markdown",
   "metadata": {},
   "source": [
    "### 수식계산\n",
    " * 행렬 곱 연산시에, 앞의 행렬(열)과 뒤의 행렬(행)를 맞추어 주어야 한다. "
   ]
  },
  {
   "cell_type": "code",
   "execution_count": 11,
   "metadata": {},
   "outputs": [
    {
     "data": {
      "text/plain": [
       "<tf.Tensor 'add_1:0' shape=(2, 2) dtype=float32>"
      ]
     },
     "execution_count": 11,
     "metadata": {},
     "output_type": "execute_result"
    }
   ],
   "source": [
    "# X = tf.placeholder(tf.float32, [None, 3])   # [? * 3] X [3 * 2] => ? X 2 \n",
    "# W = tf.Variable(tf.random_normal([3,2]))\n",
    "\n",
    "expr = tf.matmul(X, W) + b\n",
    "expr"
   ]
  },
  {
   "cell_type": "markdown",
   "metadata": {},
   "source": [
    "### TF의 그래프 실행 및 값의 출력\n",
    " * 세션을 맺는다. sess = tf.Session()\n",
    " * 변수 값들의 초기화 ( sess.run(tf.global_variables_initializer()) )\n",
    " * 변수의 값 확인(sess.run())\n",
    " * placeholder의 변수는 feed_dict속성을 이용하여 실행시에 데이터를 넣어 실행한다."
   ]
  },
  {
   "cell_type": "code",
   "execution_count": 13,
   "metadata": {},
   "outputs": [
    {
     "name": "stdout",
     "output_type": "stream",
     "text": [
      "=== x_data ===\n",
      "[[1, 2, 3], [4, 5, 6]]\n",
      "=== W matrix ===\n",
      "[[ 0.20658784  1.2486207 ]\n",
      " [ 0.6107594   1.1854067 ]\n",
      " [-1.1355447  -0.6041919 ]]\n",
      "=== b ===\n",
      "[[0.62496626]\n",
      " [2.4411209 ]]\n",
      "=== expr ===\n",
      "[[-1.353561    2.4318247 ]\n",
      " [-0.49199867  9.737486  ]]\n"
     ]
    }
   ],
   "source": [
    "sess = tf.Session()\n",
    "sess.run(tf.global_variables_initializer())\n",
    "\n",
    "print(\"=== x_data ===\")   # 테스트용 데이터 \n",
    "print(x_data)\n",
    "print(\"=== W matrix ===\") # 가중치 데이터  \n",
    "print(sess.run(W))\n",
    "print(\"=== b ===\")        \n",
    "print(sess.run(b)) \n",
    "print(\"=== expr ===\")\n",
    "print(sess.run(expr, feed_dict={X:x_data}))  # placeholder 변수는 feed_dict를 이용\n",
    "\n",
    "sess.close()"
   ]
  },
  {
   "cell_type": "markdown",
   "metadata": {},
   "source": [
    "### REF\n",
    "* Tensor(텐서)의 개념 정리 : https://rekt77.tistory.com/102\n",
    "* Tensorflow 기본 동작 원리 : SungKim교수님의 모두의 딥러닝 http://bitly.kr/TqlLfoQs"
   ]
  }
 ],
 "metadata": {
  "kernelspec": {
   "display_name": "Python 3",
   "language": "python",
   "name": "python3"
  },
  "language_info": {
   "codemirror_mode": {
    "name": "ipython",
    "version": 3
   },
   "file_extension": ".py",
   "mimetype": "text/x-python",
   "name": "python",
   "nbconvert_exporter": "python",
   "pygments_lexer": "ipython3",
   "version": "3.6.5"
  }
 },
 "nbformat": 4,
 "nbformat_minor": 2
}
