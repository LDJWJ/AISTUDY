{
 "cells": [
  {
   "cell_type": "markdown",
   "metadata": {
    "collapsed": true
   },
   "source": [
    "### MNIST로 딥러닝 스타트\n",
    "* 학습 내용\n",
    "  * 01. Tensorflow를 활용하여 MNIST 모델을 구현해 본다.\n",
    "  * 02. 배치 사이즈에 대해 이해해 본다. \n",
    "  * 03. 활성화 함수에 대해 이해해 본다."
   ]
  },
  {
   "cell_type": "markdown",
   "metadata": {},
   "source": [
    "#### colab에서 시작하기\n",
    "\n",
    "<a href=\"https://colab.research.google.com/github/LDJWJ/00_TOTO_MLDL_CLASS/blob/master/DL02_04_TF_MNIST.ipynb\" target=\"_parent\"><img src=\"https://colab.research.google.com/assets/colab-badge.svg\" alt=\"Open In Colab\"/></a>"
   ]
  },
  {
   "cell_type": "code",
   "execution_count": 5,
   "metadata": {},
   "outputs": [],
   "source": [
    "import tensorflow as tf"
   ]
  },
  {
   "cell_type": "code",
   "execution_count": 6,
   "metadata": {},
   "outputs": [
    {
     "name": "stdout",
     "output_type": "stream",
     "text": [
      "Extracting ./mnist/data/train-images-idx3-ubyte.gz\n",
      "Extracting ./mnist/data/train-labels-idx1-ubyte.gz\n",
      "Extracting ./mnist/data/t10k-images-idx3-ubyte.gz\n",
      "Extracting ./mnist/data/t10k-labels-idx1-ubyte.gz\n"
     ]
    }
   ],
   "source": [
    "from tensorflow.examples.tutorials.mnist import input_data\n",
    "mnist = input_data.read_data_sets(\"./mnist/data/\", one_hot=True)"
   ]
  },
  {
   "cell_type": "markdown",
   "metadata": {},
   "source": [
    "### 01-02 신경망 모델 구성하기\n",
    "* MNIST의 손글씨는 28 X 28로 구성되어 있다.\n",
    "* 784개의 특징으로 구성되어 있음.(784pixel)\n",
    "* 레이블은 0~9까지의 10개의 분류. (숫자0부터 9까지)"
   ]
  },
  {
   "cell_type": "code",
   "execution_count": 7,
   "metadata": {},
   "outputs": [],
   "source": [
    "X = tf.placeholder(tf.float32, [None, 784])\n",
    "Y = tf.placeholder(tf.float32, [None, 10])"
   ]
  },
  {
   "cell_type": "markdown",
   "metadata": {},
   "source": [
    "### 미니배치의 이해\n",
    "* 이미지를 하나씩 학습시키는 것보다 여러 개를 한꺼번에 학습시키는 쪽이 효과가 좋다.\n",
    "* 많은 메모리와 높은 컴퓨터 성능이 필요하므로 일반적으로 데이터를 적당한 크기로 잘라서 학습시킨다. 미니배치라고 한다.\n",
    "* tf.float32, [None, 784] => None의 자리에는 한번에 학습시킬 이미지의 개수를 지정하는 값이 들어감., 즉 배치 크기를 지정하는 자리이다."
   ]
  },
  {
   "cell_type": "markdown",
   "metadata": {},
   "source": [
    "### 신경망의 구성\n",
    " * 784(입력, 특징 개수) -> \n",
    "             256(첫번째 은닉층 뉴런) -> 256(두번째 은닉층 뉴런)\n",
    "                                               -> 10(결과값 0~9 분류 개수 ) "
   ]
  },
  {
   "cell_type": "code",
   "execution_count": 8,
   "metadata": {},
   "outputs": [
    {
     "name": "stdout",
     "output_type": "stream",
     "text": [
      "<tf.Variable 'Variable_2:0' shape=(256, 10) dtype=float32_ref>\n",
      "Tensor(\"MatMul_2:0\", shape=(?, 10), dtype=float32)\n"
     ]
    }
   ],
   "source": [
    "# 입력층 - 첫번째 은닉층\n",
    "W1 = tf.Variable(tf.random_normal([784, 256], stddev=0.01))\n",
    "L1 = tf.nn.relu(tf.matmul(X, W1))\n",
    "\n",
    "# 첫번째 은닉층 - 두번째 은닉층\n",
    "W2 = tf.Variable(tf.random_normal([256, 256], stddev=0.01))\n",
    "L2 = tf.nn.relu(tf.matmul(L1, W2))\n",
    "\n",
    "# 마지막 은닉층 - 출력층\n",
    "W3 = tf.Variable(tf.random_normal([256, 10], stddev=0.01))\n",
    "model = tf.matmul(L2, W3)\n",
    "\n",
    "print(W3)\n",
    "print(model)"
   ]
  },
  {
   "cell_type": "markdown",
   "metadata": {},
   "source": [
    "### 설명\n",
    "* tf.random_normal([784, 256], stddev=0.01) => 표준편차가 0.01인 정규 분포를 가지는 임의의 값으로 뉴런을 초기화\n",
    "* tf.matmul(X, W1) : 각 계층으로 들어오는 입력값에 가중치를 곱하고, tf.nn.relu함수를 이용하여 활성화 함수를 ReLU를 사용.\n",
    "* 마지막 계층인 model 텐서에 W3를 곱함으로 요소 10개짜리 배열이 출력된다.\n",
    "* 10개의 요소는 0부터 9까지의 숫자를 나타낸다.\n",
    "* 가장 큰 값을 가진 인덱스(결과 항목)이 예측 결과에 가까운 숫자이다.\n",
    "* 출력층은 보통 활성화 함수를 사용하지 않는다."
   ]
  },
  {
   "cell_type": "code",
   "execution_count": 10,
   "metadata": {},
   "outputs": [],
   "source": [
    "cost = tf.reduce_mean(tf.nn.softmax_cross_entropy_with_logits_v2(logits=model, labels=Y))\n",
    "optimizer = tf.train.AdamOptimizer(0.001).minimize(cost)"
   ]
  },
  {
   "cell_type": "markdown",
   "metadata": {},
   "source": [
    "### 세션 열기"
   ]
  },
  {
   "cell_type": "code",
   "execution_count": 11,
   "metadata": {},
   "outputs": [],
   "source": [
    "init = tf.global_variables_initializer()\n",
    "sess = tf.Session()\n",
    "sess.run(init)"
   ]
  },
  {
   "cell_type": "markdown",
   "metadata": {},
   "source": [
    "### 배치 사이즈 지정\n",
    "* 미니배치의 크기 100개 설정.\n",
    "* 학습 데이터의 총 개수 train.num_examples 를 배치 크기로 나눈다.\n",
    "* 총 배치 크기가 몇개인지 확인"
   ]
  },
  {
   "cell_type": "code",
   "execution_count": 12,
   "metadata": {},
   "outputs": [
    {
     "data": {
      "text/plain": [
       "550"
      ]
     },
     "execution_count": 12,
     "metadata": {},
     "output_type": "execute_result"
    }
   ],
   "source": [
    "batch_size = 100\n",
    "total_batch = int(mnist.train.num_examples / batch_size)\n",
    "total_batch"
   ]
  },
  {
   "cell_type": "code",
   "execution_count": 13,
   "metadata": {},
   "outputs": [
    {
     "name": "stdout",
     "output_type": "stream",
     "text": [
      "Epoch :     1 평균 Cost =  0.396\n",
      "Epoch :     2 평균 Cost =  0.142\n",
      "Epoch :     3 평균 Cost =  0.092\n",
      "Epoch :     4 평균 Cost =  0.065\n",
      "Epoch :     5 평균 Cost =  0.049\n",
      "Epoch :     6 평균 Cost =  0.039\n",
      "Epoch :     7 평균 Cost =  0.030\n",
      "Epoch :     8 평균 Cost =  0.025\n",
      "Epoch :     9 평균 Cost =  0.019\n",
      "Epoch :    10 평균 Cost =  0.015\n",
      "Epoch :    11 평균 Cost =  0.015\n",
      "Epoch :    12 평균 Cost =  0.014\n",
      "Epoch :    13 평균 Cost =  0.013\n",
      "Epoch :    14 평균 Cost =  0.014\n",
      "Epoch :    15 평균 Cost =  0.008\n",
      "최적화 완료!\n"
     ]
    }
   ],
   "source": [
    "# MNIST 데이터 전체를 학습하는 일을 15번 반복함.\n",
    "# 학습 데이터 전체를 한 바퀴를 도는 일을 에포크(epoch)라 한다.\n",
    "for epoch in range(15):\n",
    "    total_cost = 0\n",
    "\n",
    "    for i in range(total_batch):\n",
    "        # 배치 사이즈만큼 데이터 가져오기 \n",
    "        batch_xs, batch_ys = mnist.train.next_batch(batch_size)\n",
    "        # 입력값 : batch_xs, 출력값 : batch_ys\n",
    "        # 최적화를 수행 후, 손실을 구한다.\n",
    "        _ , cost_val = sess.run([optimizer, cost],\n",
    "                                feed_dict =  {X: batch_xs, Y: batch_ys})\n",
    "\n",
    "        # 총 손실 계산\n",
    "        total_cost = total_cost + cost_val\n",
    "\n",
    "    print(\"Epoch : \", \"%4d\" %(epoch + 1), \n",
    "                '평균 Cost = ', \"{:.3f}\".format(total_cost/total_batch))\n",
    "    \n",
    "print(\"최적화 완료!\")"
   ]
  },
  {
   "cell_type": "markdown",
   "metadata": {},
   "source": [
    "### 정확도 확인"
   ]
  },
  {
   "cell_type": "code",
   "execution_count": 14,
   "metadata": {},
   "outputs": [
    {
     "data": {
      "text/plain": [
       "<tf.Tensor 'Equal:0' shape=(?,) dtype=bool>"
      ]
     },
     "execution_count": 14,
     "metadata": {},
     "output_type": "execute_result"
    }
   ],
   "source": [
    "is_correct = tf.equal(tf.argmax(model, 1), tf.argmax(Y, 1))   # 매번 결과가 맞는가 확인.\n",
    "is_correct"
   ]
  },
  {
   "cell_type": "code",
   "execution_count": 15,
   "metadata": {},
   "outputs": [],
   "source": [
    "accuracy = tf.reduce_mean(tf.cast(is_correct, tf.float32))"
   ]
  },
  {
   "cell_type": "code",
   "execution_count": 16,
   "metadata": {},
   "outputs": [
    {
     "name": "stdout",
     "output_type": "stream",
     "text": [
      "정확도 : 0.9785\n"
     ]
    }
   ],
   "source": [
    "print('정확도 :', sess.run(accuracy, \n",
    "                       feed_dict = {X:mnist.test.images,\n",
    "                                    Y:mnist.test.labels}))"
   ]
  },
  {
   "cell_type": "markdown",
   "metadata": {},
   "source": [
    "### REF \n",
    "* Activation Function(활성화 함수) : https://towardsdatascience.com/activation-functions-neural-networks-1cbd9f8d91d6"
   ]
  }
 ],
 "metadata": {
  "kernelspec": {
   "display_name": "Python 3",
   "language": "python",
   "name": "python3"
  },
  "language_info": {
   "codemirror_mode": {
    "name": "ipython",
    "version": 3
   },
   "file_extension": ".py",
   "mimetype": "text/x-python",
   "name": "python",
   "nbconvert_exporter": "python",
   "pygments_lexer": "ipython3",
   "version": "3.6.5"
  }
 },
 "nbformat": 4,
 "nbformat_minor": 2
}
