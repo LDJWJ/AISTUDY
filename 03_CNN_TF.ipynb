{
  "nbformat": 4,
  "nbformat_minor": 0,
  "metadata": {
    "colab": {
      "name": "03_CNN_TF.ipynb",
      "version": "0.3.2",
      "provenance": []
    },
    "kernelspec": {
      "name": "python3",
      "display_name": "Python 3"
    },
    "accelerator": "TPU"
  },
  "cells": [
    {
      "metadata": {
        "id": "JLtaykjZaAO6",
        "colab_type": "code",
        "colab": {}
      },
      "cell_type": "code",
      "source": [
        "import time"
      ],
      "execution_count": 0,
      "outputs": []
    },
    {
      "metadata": {
        "id": "gEp5JwixaAPZ",
        "colab_type": "code",
        "colab": {
          "base_uri": "https://localhost:8080/",
          "height": 89
        },
        "outputId": "8fe14dc5-aad5-4d88-da7d-930f70b54ca0"
      },
      "cell_type": "code",
      "source": [
        "import tensorflow as tf\n",
        "\n",
        "from tensorflow.examples.tutorials.mnist import input_data\n",
        "mnist = input_data.read_data_sets(\"./mnist/data/\", one_hot=True)"
      ],
      "execution_count": 19,
      "outputs": [
        {
          "output_type": "stream",
          "text": [
            "Extracting ./mnist/data/train-images-idx3-ubyte.gz\n",
            "Extracting ./mnist/data/train-labels-idx1-ubyte.gz\n",
            "Extracting ./mnist/data/t10k-images-idx3-ubyte.gz\n",
            "Extracting ./mnist/data/t10k-labels-idx1-ubyte.gz\n"
          ],
          "name": "stdout"
        }
      ]
    },
    {
      "metadata": {
        "id": "m4ky-ONCaAPo",
        "colab_type": "text"
      },
      "cell_type": "markdown",
      "source": [
        "### 입력, 출력\n",
        " * 28 * 28 * 1 \n",
        " * 마지막 1은 특징의 개수이다. (MNIST 데이터는 회색조 이미지라 채널에 색상이 하나)\n",
        " * 출력값 10개 분류\n",
        " * 드롭아웃을 위한 keep_prob 플레이스 홀더로 정의."
      ]
    },
    {
      "metadata": {
        "id": "QFNyxApBaAP5",
        "colab_type": "code",
        "colab": {}
      },
      "cell_type": "code",
      "source": [
        "X = tf.placeholder(tf.float32, [None, 28, 28, 1])\n",
        "Y = tf.placeholder(tf.float32, [None, 10])\n",
        "keep_prob = tf.placeholder(tf.float32)"
      ],
      "execution_count": 0,
      "outputs": []
    },
    {
      "metadata": {
        "id": "JSqIsLX_aAQI",
        "colab_type": "text"
      },
      "cell_type": "markdown",
      "source": [
        "### CNN계층 구성"
      ]
    },
    {
      "metadata": {
        "id": "W8DnX5yKaAQL",
        "colab_type": "code",
        "colab": {}
      },
      "cell_type": "code",
      "source": [
        "W1 = tf.Variable(tf.random_normal([3,3,1,32], stddev=0.01))\n",
        "L1 = tf.nn.conv2d(X, W1, strides=[1,1,1,1], padding='SAME')\n",
        "L1 = tf.nn.relu(L1)"
      ],
      "execution_count": 0,
      "outputs": []
    },
    {
      "metadata": {
        "id": "OlB_Qs_CaAQR",
        "colab_type": "text"
      },
      "cell_type": "markdown",
      "source": [
        "* X와 첫 번째 계층의 가중치 W1을 가진다.\n",
        "* 오른쪽과 아래쪽으로 한 칸씩 움직이는 32개의 커널을 가진 컨볼루션 계층을 만들겠다.\n",
        "* padding = \"SAME\"은 커널 슬라이딩 시 이미지의 가장 외곽에서 한 칸 밖으로 움직이는 옵션이다.\n",
        "* tf.nn.relu(L1) : 활성화 함수 'relu'로 지정"
      ]
    },
    {
      "metadata": {
        "id": "IqTB5scQaAQT",
        "colab_type": "code",
        "colab": {}
      },
      "cell_type": "code",
      "source": [
        "L1 = tf.nn.max_pool(L1, ksize=[1,2,2,1], strides=[1,2,2,1],\n",
        "                   padding = 'SAME')"
      ],
      "execution_count": 0,
      "outputs": []
    },
    {
      "metadata": {
        "id": "W9uIJMGJaAQX",
        "colab_type": "text"
      },
      "cell_type": "markdown",
      "source": [
        "* 앞에서 만든 컨볼루션 계층을 입력층으로 사용 후, 커널 크기를 2 X 2로 하는 풀링 계층을 만든다.\n",
        "* strides=[1,2,2,1]값은 슬라이딩 시 두 칸씩 움직이겠다는 옵션"
      ]
    },
    {
      "metadata": {
        "id": "emNNQYI5aAQf",
        "colab_type": "text"
      },
      "cell_type": "markdown",
      "source": [
        "### 두번째 층을 만들기 W2, L2"
      ]
    },
    {
      "metadata": {
        "id": "Pg2PVgLsaAQr",
        "colab_type": "code",
        "colab": {}
      },
      "cell_type": "code",
      "source": [
        "# [3,3,32,64] 32는 컨볼루션 계층의 커널 수\n",
        "# 이것은 또한 출력층의 개수, 첫번째 컨볼루션이 찾아낸 이미지의 특징개수 \n",
        "W2 = tf.Variable(tf.random_normal([3,3,32,64], stddev=0.01))\n",
        "L2 = tf.nn.conv2d(L1, W2, strides=[1,1,1,1], padding='SAME')\n",
        "L2 = tf.nn.relu(L2)\n",
        "L2 = tf.nn.max_pool(L2, ksize=[1,2,2,1], strides=[1,2,2,1],\n",
        "                   padding='SAME')\n"
      ],
      "execution_count": 0,
      "outputs": []
    },
    {
      "metadata": {
        "id": "_0xPV507aAQ0",
        "colab_type": "text"
      },
      "cell_type": "markdown",
      "source": [
        "* 7 X 7 X 64 \n",
        "* 7 X 7 X 64를 tf.reshape를 이용하여 1차원 계층으로 만든다\n",
        "* 이 배열 전체를 최종 출력값의 중간 단계인 256개 뉴런으로 연결하는 신경망을 만들어준다.\n",
        "* 인접한 계측의 모든 뉴런과 상호 연결된 계층을 완전 연결 계측"
      ]
    },
    {
      "metadata": {
        "id": "UYw18Hv7aAQ3",
        "colab_type": "code",
        "colab": {}
      },
      "cell_type": "code",
      "source": [
        "## W3\n",
        "W3 = tf.Variable(tf.random_normal([7*7*64, 256], stddev=0.01))\n",
        "L3 = tf.reshape(L2, [-1, 7 * 7* 64])\n",
        "L3 = tf.matmul(L3, W3)\n",
        "L3 = tf.nn.relu(L3)\n",
        "L3 = tf.nn.dropout(L3, keep_prob)"
      ],
      "execution_count": 0,
      "outputs": []
    },
    {
      "metadata": {
        "id": "sHASnXuBaARL",
        "colab_type": "code",
        "colab": {}
      },
      "cell_type": "code",
      "source": [
        "W4 = tf.Variable(tf.random_normal([256, 10], stddev=0.01))\n",
        "model = tf.matmul(L3 , W4)"
      ],
      "execution_count": 0,
      "outputs": []
    },
    {
      "metadata": {
        "id": "Wr_9uKzraARd",
        "colab_type": "text"
      },
      "cell_type": "markdown",
      "source": [
        "### 손실함수와 AdamOptimizer를 이용한 최적의 함수를 만든다."
      ]
    },
    {
      "metadata": {
        "id": "kXJbP9-IaARh",
        "colab_type": "code",
        "colab": {}
      },
      "cell_type": "code",
      "source": [
        "cost = tf.reduce_mean(tf.nn.softmax_cross_entropy_with_logits_v2( \n",
        "                      logits=model, labels=Y))\n",
        "optimizer = tf.train.AdamOptimizer(0.001).minimize(cost)"
      ],
      "execution_count": 0,
      "outputs": []
    },
    {
      "metadata": {
        "id": "XOkcMY6BaARp",
        "colab_type": "code",
        "colab": {}
      },
      "cell_type": "code",
      "source": [
        "optimizer1 = tf.train.RMSPropOptimizer(0.001, 0.9).minimize(cost)"
      ],
      "execution_count": 0,
      "outputs": []
    },
    {
      "metadata": {
        "id": "dAWOu3E-aARv",
        "colab_type": "code",
        "colab": {
          "base_uri": "https://localhost:8080/",
          "height": 307
        },
        "outputId": "bd7516be-ed35-45c5-8f43-9eb4aad170d1"
      },
      "cell_type": "code",
      "source": [
        "start = time.time()\n",
        "\n",
        "init = tf.global_variables_initializer()\n",
        "sess = tf.Session()\n",
        "sess.run(init)\n",
        "\n",
        "batch_size=100\n",
        "total_batch = int(mnist.train.num_examples / batch_size)\n",
        "\n",
        "for epoch in range(15):\n",
        "    total_cost = 0\n",
        "    \n",
        "    for i in range(total_batch):\n",
        "        batch_xs, batch_ys = mnist.train.next_batch(batch_size)\n",
        "        batch_xs = batch_xs.reshape(-1, 28, 28, 1)\n",
        "        \n",
        "        _, cost_val = sess.run([optimizer, cost], \n",
        "                              feed_dict={X:batch_xs, \n",
        "                                         Y:batch_ys, \n",
        "                                         keep_prob:0.7})\n",
        "        total_cost += cost_val\n",
        "    print(\"Epoch: %04d\" % (epoch + 1), \n",
        "          \"AVG. cost = {:.3f}\".format(total_cost/total_batch))\n",
        "print(\"최적화 완료!\")\n",
        "\n",
        "is_correct = tf.equal(tf.argmax(model, 1), tf.argmax(Y, 1))\n",
        "accuracy = tf.reduce_mean(tf.cast(is_correct, tf.float32))\n",
        "\n",
        "end = time.time() - start"
      ],
      "execution_count": 14,
      "outputs": [
        {
          "output_type": "stream",
          "text": [
            "Epoch: 0001 AVG. cost = 0.364\n",
            "Epoch: 0002 AVG. cost = 0.115\n",
            "Epoch: 0003 AVG. cost = 0.084\n",
            "Epoch: 0004 AVG. cost = 0.065\n",
            "Epoch: 0005 AVG. cost = 0.055\n",
            "Epoch: 0006 AVG. cost = 0.046\n",
            "Epoch: 0007 AVG. cost = 0.040\n",
            "Epoch: 0008 AVG. cost = 0.035\n",
            "Epoch: 0009 AVG. cost = 0.031\n",
            "Epoch: 0010 AVG. cost = 0.028\n",
            "Epoch: 0011 AVG. cost = 0.023\n",
            "Epoch: 0012 AVG. cost = 0.022\n",
            "Epoch: 0013 AVG. cost = 0.021\n",
            "Epoch: 0014 AVG. cost = 0.017\n",
            "Epoch: 0015 AVG. cost = 0.018\n",
            "최적화 완료!\n"
          ],
          "name": "stdout"
        }
      ]
    },
    {
      "metadata": {
        "id": "fHanIQgEa5DE",
        "colab_type": "code",
        "colab": {
          "base_uri": "https://localhost:8080/",
          "height": 71
        },
        "outputId": "950edfdd-9e30-450a-f821-f1d2f3b49a04"
      },
      "cell_type": "code",
      "source": [
        "print(\"소요 시간 : \", end)\n",
        "###########\n",
        "# 결과 확인\n",
        "###########\n",
        "is_correct = tf.equal(tf.argmax(model, 1), tf.argmax(Y, 1))\n",
        "accuracy = tf.reduce_mean(tf.cast(is_correct, tf.float32))\n",
        "print(\"정확도 :\", sess.run(accuracy, \n",
        "                           feed_dict={X:mnist.test.images.reshape(\n",
        "                           -1, 28, 28, 1),\n",
        "                                     Y:mnist.test.labels,\n",
        "                                     keep_prob:False}))"
      ],
      "execution_count": 16,
      "outputs": [
        {
          "output_type": "stream",
          "text": [
            "소요 시간 :  906.3740820884705\n",
            "걸린시간 :  906.3740820884705\n",
            "정확도 : 0.098\n"
          ],
          "name": "stdout"
        }
      ]
    },
    {
      "metadata": {
        "id": "vkN2J7NUaAR0",
        "colab_type": "text"
      },
      "cell_type": "markdown",
      "source": [
        "## 고수준 API 사용하기 "
      ]
    },
    {
      "metadata": {
        "id": "_CMdUlQYaAR2",
        "colab_type": "code",
        "colab": {}
      },
      "cell_type": "code",
      "source": [
        "'''\n",
        "W1 = tf.Variable(tf.random_normal([3,3,1,32], stddev=0.01))\n",
        "L1 = tf.nn.conv2d(X, W1, strides=[1,1,1,1], padding='SAME')\n",
        "L1 = tf.nn.relu(L1)\n",
        "L1 = tf.nn.max_pool(L1, ksize=[1,2,2,1], strides=[1,2,2,1],\n",
        "                   padding='SAME')\n",
        "\n",
        "-->\n",
        "L1 = tf.layers.conv2d(X, 32, [3,3])\n",
        "L1 = tf.layers.max_pooling2d(L1, [2,2], [2,2])\n",
        "\n",
        "W3 = tf.Variable(tf.random_normal([7*7*64, 256], stddev=0.01))\n",
        "L3 = tf.reshape(L2, [-1, 7 * 7* 64])\n",
        "L3 = tf.matmul(L3, W3)\n",
        "L3 = tf.nn.relu(L3)\n",
        "\n",
        "--> \n",
        "L3 = tf.contrib.layers.flatten(L2)\n",
        "L3 = tf.layers.dense(L3, 256, activation=tf.nn.relu)\n",
        "'''\n",
        "X = tf.placeholder(tf.float32, [None, 28, 28, 1])\n",
        "Y = tf.placeholder(tf.float32, [None, 10])\n",
        "is_training = tf.placeholder(tf.float32)\n",
        "\n",
        "L1 = tf.layers.conv2d(X, 32, [3,3])\n",
        "L1 = tf.layers.max_pooling2d(L1, [2,2], [2,2])\n",
        "L1 = tf.layers.dropout(L1, 0.7, is_training)\n",
        "\n",
        "L2 = tf.layers.conv2d(X, 64, [3,3])\n",
        "L2 = tf.layers.max_pooling2d(L2, [2,2], [2,2])\n",
        "L2 = tf.layers.dropout(L2, 0.7, is_training)\n",
        "\n",
        "L3 = tf.contrib.layers.flatten(L2)\n",
        "L3 = tf.layers.dense(L3, 256, activation=tf.nn.relu)\n",
        "L3 = tf.layers.dropout(L3, 0.5, is_training)\n",
        "\n",
        "model = tf.layers.dense(L3, 10, activation=None)\n",
        "\n",
        "cost = tf.reduce_mean(tf.nn.softmax_cross_entropy_with_logits(logits=model,\n",
        "                                                             labels=Y))\n",
        "optimizer = tf.train.AdamOptimizer(0.001).minimize(cost)\n",
        "\n",
        "\n"
      ],
      "execution_count": 0,
      "outputs": []
    },
    {
      "metadata": {
        "id": "24LFsyzXaASP",
        "colab_type": "code",
        "colab": {
          "base_uri": "https://localhost:8080/",
          "height": 1026
        },
        "outputId": "7bfe98df-f467-4d5e-cdd3-921e474883c1"
      },
      "cell_type": "code",
      "source": [
        "start = time.time()\n",
        "\n",
        "init = tf.global_variables_initializer()\n",
        "sess = tf.Session()\n",
        "sess.run(init)\n",
        "\n",
        "batch_size=100\n",
        "total_batch = int(mnist.train.num_examples / batch_size)\n",
        "\n",
        "for epoch in range(15):\n",
        "    total_cost = 0\n",
        "    \n",
        "    for i in range(total_batch):\n",
        "        batch_xs, batch_ys = mnist.train.next_batch(batch_size)\n",
        "        batch_xs = batch_xs.reshape(-1, 28, 28, 1)\n",
        "        \n",
        "        _, cost_val = sess.run([optimizer, cost], \n",
        "                              feed_dict={X:batch_xs, \n",
        "                                         Y:batch_ys, \n",
        "                                         is_training:0.7})\n",
        "        total_cost += cost_val\n",
        "    print(\"Epoch: %04d\" % (epoch + 1), \n",
        "          \"AVG. cost = {:.3f}\".format(total_cost/total_batch))\n",
        "print(\"최적화 완료!\")\n",
        "\n",
        "is_correct = tf.equal(tf.argmax(model, 1), tf.argmax(Y, 1))\n",
        "accuracy = tf.reduce_mean(tf.cast(is_correct, tf.float32))\n",
        "\n",
        "end = time.time() - start\n",
        "\n",
        "###########\n",
        "# 결과 확인\n",
        "###########\n",
        "print(\"걸린시간 : \", end)\n",
        "is_correct = tf.equal(tf.argmax(model, 1), tf.argmax(Y, 1))\n",
        "accuracy = tf.reduce_mean(tf.cast(is_correct, tf.float32))\n",
        "print(\"정확도 :\", sess.run(accuracy, \n",
        "                           feed_dict={X:mnist.test.images.reshape(\n",
        "                           -1, 28, 28, 1),\n",
        "                                     Y:mnist.test.labels,\n",
        "                                     is_training:False}))"
      ],
      "execution_count": 21,
      "outputs": [
        {
          "output_type": "error",
          "ename": "KeyboardInterrupt",
          "evalue": "ignored",
          "traceback": [
            "\u001b[0;31m---------------------------------------------------------------------------\u001b[0m",
            "\u001b[0;31mKeyboardInterrupt\u001b[0m                         Traceback (most recent call last)",
            "\u001b[0;32m<ipython-input-21-5ff4cbd99429>\u001b[0m in \u001b[0;36m<module>\u001b[0;34m()\u001b[0m\n\u001b[1;32m     18\u001b[0m                               feed_dict={X:batch_xs, \n\u001b[1;32m     19\u001b[0m                                          \u001b[0mY\u001b[0m\u001b[0;34m:\u001b[0m\u001b[0mbatch_ys\u001b[0m\u001b[0;34m,\u001b[0m\u001b[0;34m\u001b[0m\u001b[0;34m\u001b[0m\u001b[0m\n\u001b[0;32m---> 20\u001b[0;31m                                          is_training:0.7})\n\u001b[0m\u001b[1;32m     21\u001b[0m         \u001b[0mtotal_cost\u001b[0m \u001b[0;34m+=\u001b[0m \u001b[0mcost_val\u001b[0m\u001b[0;34m\u001b[0m\u001b[0;34m\u001b[0m\u001b[0m\n\u001b[1;32m     22\u001b[0m     print(\"Epoch: %04d\" % (epoch + 1), \n",
            "\u001b[0;32m/usr/local/lib/python3.6/dist-packages/tensorflow/python/client/session.py\u001b[0m in \u001b[0;36mrun\u001b[0;34m(self, fetches, feed_dict, options, run_metadata)\u001b[0m\n\u001b[1;32m    927\u001b[0m     \u001b[0;32mtry\u001b[0m\u001b[0;34m:\u001b[0m\u001b[0;34m\u001b[0m\u001b[0;34m\u001b[0m\u001b[0m\n\u001b[1;32m    928\u001b[0m       result = self._run(None, fetches, feed_dict, options_ptr,\n\u001b[0;32m--> 929\u001b[0;31m                          run_metadata_ptr)\n\u001b[0m\u001b[1;32m    930\u001b[0m       \u001b[0;32mif\u001b[0m \u001b[0mrun_metadata\u001b[0m\u001b[0;34m:\u001b[0m\u001b[0;34m\u001b[0m\u001b[0;34m\u001b[0m\u001b[0m\n\u001b[1;32m    931\u001b[0m         \u001b[0mproto_data\u001b[0m \u001b[0;34m=\u001b[0m \u001b[0mtf_session\u001b[0m\u001b[0;34m.\u001b[0m\u001b[0mTF_GetBuffer\u001b[0m\u001b[0;34m(\u001b[0m\u001b[0mrun_metadata_ptr\u001b[0m\u001b[0;34m)\u001b[0m\u001b[0;34m\u001b[0m\u001b[0;34m\u001b[0m\u001b[0m\n",
            "\u001b[0;32m/usr/local/lib/python3.6/dist-packages/tensorflow/python/client/session.py\u001b[0m in \u001b[0;36m_run\u001b[0;34m(self, handle, fetches, feed_dict, options, run_metadata)\u001b[0m\n\u001b[1;32m   1150\u001b[0m     \u001b[0;32mif\u001b[0m \u001b[0mfinal_fetches\u001b[0m \u001b[0;32mor\u001b[0m \u001b[0mfinal_targets\u001b[0m \u001b[0;32mor\u001b[0m \u001b[0;34m(\u001b[0m\u001b[0mhandle\u001b[0m \u001b[0;32mand\u001b[0m \u001b[0mfeed_dict_tensor\u001b[0m\u001b[0;34m)\u001b[0m\u001b[0;34m:\u001b[0m\u001b[0;34m\u001b[0m\u001b[0;34m\u001b[0m\u001b[0m\n\u001b[1;32m   1151\u001b[0m       results = self._do_run(handle, final_targets, final_fetches,\n\u001b[0;32m-> 1152\u001b[0;31m                              feed_dict_tensor, options, run_metadata)\n\u001b[0m\u001b[1;32m   1153\u001b[0m     \u001b[0;32melse\u001b[0m\u001b[0;34m:\u001b[0m\u001b[0;34m\u001b[0m\u001b[0;34m\u001b[0m\u001b[0m\n\u001b[1;32m   1154\u001b[0m       \u001b[0mresults\u001b[0m \u001b[0;34m=\u001b[0m \u001b[0;34m[\u001b[0m\u001b[0;34m]\u001b[0m\u001b[0;34m\u001b[0m\u001b[0;34m\u001b[0m\u001b[0m\n",
            "\u001b[0;32m/usr/local/lib/python3.6/dist-packages/tensorflow/python/client/session.py\u001b[0m in \u001b[0;36m_do_run\u001b[0;34m(self, handle, target_list, fetch_list, feed_dict, options, run_metadata)\u001b[0m\n\u001b[1;32m   1326\u001b[0m     \u001b[0;32mif\u001b[0m \u001b[0mhandle\u001b[0m \u001b[0;32mis\u001b[0m \u001b[0;32mNone\u001b[0m\u001b[0;34m:\u001b[0m\u001b[0;34m\u001b[0m\u001b[0;34m\u001b[0m\u001b[0m\n\u001b[1;32m   1327\u001b[0m       return self._do_call(_run_fn, feeds, fetches, targets, options,\n\u001b[0;32m-> 1328\u001b[0;31m                            run_metadata)\n\u001b[0m\u001b[1;32m   1329\u001b[0m     \u001b[0;32melse\u001b[0m\u001b[0;34m:\u001b[0m\u001b[0;34m\u001b[0m\u001b[0;34m\u001b[0m\u001b[0m\n\u001b[1;32m   1330\u001b[0m       \u001b[0;32mreturn\u001b[0m \u001b[0mself\u001b[0m\u001b[0;34m.\u001b[0m\u001b[0m_do_call\u001b[0m\u001b[0;34m(\u001b[0m\u001b[0m_prun_fn\u001b[0m\u001b[0;34m,\u001b[0m \u001b[0mhandle\u001b[0m\u001b[0;34m,\u001b[0m \u001b[0mfeeds\u001b[0m\u001b[0;34m,\u001b[0m \u001b[0mfetches\u001b[0m\u001b[0;34m)\u001b[0m\u001b[0;34m\u001b[0m\u001b[0;34m\u001b[0m\u001b[0m\n",
            "\u001b[0;32m/usr/local/lib/python3.6/dist-packages/tensorflow/python/client/session.py\u001b[0m in \u001b[0;36m_do_call\u001b[0;34m(self, fn, *args)\u001b[0m\n\u001b[1;32m   1332\u001b[0m   \u001b[0;32mdef\u001b[0m \u001b[0m_do_call\u001b[0m\u001b[0;34m(\u001b[0m\u001b[0mself\u001b[0m\u001b[0;34m,\u001b[0m \u001b[0mfn\u001b[0m\u001b[0;34m,\u001b[0m \u001b[0;34m*\u001b[0m\u001b[0margs\u001b[0m\u001b[0;34m)\u001b[0m\u001b[0;34m:\u001b[0m\u001b[0;34m\u001b[0m\u001b[0;34m\u001b[0m\u001b[0m\n\u001b[1;32m   1333\u001b[0m     \u001b[0;32mtry\u001b[0m\u001b[0;34m:\u001b[0m\u001b[0;34m\u001b[0m\u001b[0;34m\u001b[0m\u001b[0m\n\u001b[0;32m-> 1334\u001b[0;31m       \u001b[0;32mreturn\u001b[0m \u001b[0mfn\u001b[0m\u001b[0;34m(\u001b[0m\u001b[0;34m*\u001b[0m\u001b[0margs\u001b[0m\u001b[0;34m)\u001b[0m\u001b[0;34m\u001b[0m\u001b[0;34m\u001b[0m\u001b[0m\n\u001b[0m\u001b[1;32m   1335\u001b[0m     \u001b[0;32mexcept\u001b[0m \u001b[0merrors\u001b[0m\u001b[0;34m.\u001b[0m\u001b[0mOpError\u001b[0m \u001b[0;32mas\u001b[0m \u001b[0me\u001b[0m\u001b[0;34m:\u001b[0m\u001b[0;34m\u001b[0m\u001b[0;34m\u001b[0m\u001b[0m\n\u001b[1;32m   1336\u001b[0m       \u001b[0mmessage\u001b[0m \u001b[0;34m=\u001b[0m \u001b[0mcompat\u001b[0m\u001b[0;34m.\u001b[0m\u001b[0mas_text\u001b[0m\u001b[0;34m(\u001b[0m\u001b[0me\u001b[0m\u001b[0;34m.\u001b[0m\u001b[0mmessage\u001b[0m\u001b[0;34m)\u001b[0m\u001b[0;34m\u001b[0m\u001b[0;34m\u001b[0m\u001b[0m\n",
            "\u001b[0;32m/usr/local/lib/python3.6/dist-packages/tensorflow/python/client/session.py\u001b[0m in \u001b[0;36m_run_fn\u001b[0;34m(feed_dict, fetch_list, target_list, options, run_metadata)\u001b[0m\n\u001b[1;32m   1317\u001b[0m       \u001b[0mself\u001b[0m\u001b[0;34m.\u001b[0m\u001b[0m_extend_graph\u001b[0m\u001b[0;34m(\u001b[0m\u001b[0;34m)\u001b[0m\u001b[0;34m\u001b[0m\u001b[0;34m\u001b[0m\u001b[0m\n\u001b[1;32m   1318\u001b[0m       return self._call_tf_sessionrun(\n\u001b[0;32m-> 1319\u001b[0;31m           options, feed_dict, fetch_list, target_list, run_metadata)\n\u001b[0m\u001b[1;32m   1320\u001b[0m \u001b[0;34m\u001b[0m\u001b[0m\n\u001b[1;32m   1321\u001b[0m     \u001b[0;32mdef\u001b[0m \u001b[0m_prun_fn\u001b[0m\u001b[0;34m(\u001b[0m\u001b[0mhandle\u001b[0m\u001b[0;34m,\u001b[0m \u001b[0mfeed_dict\u001b[0m\u001b[0;34m,\u001b[0m \u001b[0mfetch_list\u001b[0m\u001b[0;34m)\u001b[0m\u001b[0;34m:\u001b[0m\u001b[0;34m\u001b[0m\u001b[0;34m\u001b[0m\u001b[0m\n",
            "\u001b[0;32m/usr/local/lib/python3.6/dist-packages/tensorflow/python/client/session.py\u001b[0m in \u001b[0;36m_call_tf_sessionrun\u001b[0;34m(self, options, feed_dict, fetch_list, target_list, run_metadata)\u001b[0m\n\u001b[1;32m   1405\u001b[0m     return tf_session.TF_SessionRun_wrapper(\n\u001b[1;32m   1406\u001b[0m         \u001b[0mself\u001b[0m\u001b[0;34m.\u001b[0m\u001b[0m_session\u001b[0m\u001b[0;34m,\u001b[0m \u001b[0moptions\u001b[0m\u001b[0;34m,\u001b[0m \u001b[0mfeed_dict\u001b[0m\u001b[0;34m,\u001b[0m \u001b[0mfetch_list\u001b[0m\u001b[0;34m,\u001b[0m \u001b[0mtarget_list\u001b[0m\u001b[0;34m,\u001b[0m\u001b[0;34m\u001b[0m\u001b[0;34m\u001b[0m\u001b[0m\n\u001b[0;32m-> 1407\u001b[0;31m         run_metadata)\n\u001b[0m\u001b[1;32m   1408\u001b[0m \u001b[0;34m\u001b[0m\u001b[0m\n\u001b[1;32m   1409\u001b[0m   \u001b[0;32mdef\u001b[0m \u001b[0m_call_tf_sessionprun\u001b[0m\u001b[0;34m(\u001b[0m\u001b[0mself\u001b[0m\u001b[0;34m,\u001b[0m \u001b[0mhandle\u001b[0m\u001b[0;34m,\u001b[0m \u001b[0mfeed_dict\u001b[0m\u001b[0;34m,\u001b[0m \u001b[0mfetch_list\u001b[0m\u001b[0;34m)\u001b[0m\u001b[0;34m:\u001b[0m\u001b[0;34m\u001b[0m\u001b[0;34m\u001b[0m\u001b[0m\n",
            "\u001b[0;31mKeyboardInterrupt\u001b[0m: "
          ]
        }
      ]
    },
    {
      "metadata": {
        "id": "naeSAp7GaASa",
        "colab_type": "code",
        "colab": {}
      },
      "cell_type": "code",
      "source": [
        ""
      ],
      "execution_count": 0,
      "outputs": []
    }
  ]
}