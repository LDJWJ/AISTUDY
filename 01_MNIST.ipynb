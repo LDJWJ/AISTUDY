{
 "cells": [
  {
   "cell_type": "markdown",
   "metadata": {},
   "source": [
    "## MNIST로 딥러닝 스타트"
   ]
  },
  {
   "cell_type": "markdown",
   "metadata": {},
   "source": [
    "* MNIST는 다음의 주소에서 다운로드 가능\n",
    "  * http://yann.lecun.com/exdb/mnist\n",
    "* keras의 이용도 가능"
   ]
  },
  {
   "cell_type": "markdown",
   "metadata": {},
   "source": [
    "<img src=\"img/MNIST01.png\">"
   ]
  },
  {
   "cell_type": "code",
   "execution_count": 4,
   "metadata": {},
   "outputs": [],
   "source": [
    "import tensorflow as tf\n",
    "#from keras.datasets import mnist\n",
    "#(x_train, y_train), (x_test, y_test) = mnist.load_data()"
   ]
  },
  {
   "cell_type": "code",
   "execution_count": 11,
   "metadata": {},
   "outputs": [
    {
     "name": "stdout",
     "output_type": "stream",
     "text": [
      "WARNING:tensorflow:From <ipython-input-11-4dcbd946c02b>:2: read_data_sets (from tensorflow.contrib.learn.python.learn.datasets.mnist) is deprecated and will be removed in a future version.\n",
      "Instructions for updating:\n",
      "Please use alternatives such as official/mnist/dataset.py from tensorflow/models.\n",
      "WARNING:tensorflow:From C:\\Users\\WITHJS\\Anaconda3\\lib\\site-packages\\tensorflow\\contrib\\learn\\python\\learn\\datasets\\mnist.py:260: maybe_download (from tensorflow.contrib.learn.python.learn.datasets.base) is deprecated and will be removed in a future version.\n",
      "Instructions for updating:\n",
      "Please write your own downloading logic.\n",
      "WARNING:tensorflow:From C:\\Users\\WITHJS\\Anaconda3\\lib\\site-packages\\tensorflow\\contrib\\learn\\python\\learn\\datasets\\base.py:252: _internal_retry.<locals>.wrap.<locals>.wrapped_fn (from tensorflow.contrib.learn.python.learn.datasets.base) is deprecated and will be removed in a future version.\n",
      "Instructions for updating:\n",
      "Please use urllib or similar directly.\n",
      "Successfully downloaded train-images-idx3-ubyte.gz 9912422 bytes.\n",
      "WARNING:tensorflow:From C:\\Users\\WITHJS\\Anaconda3\\lib\\site-packages\\tensorflow\\contrib\\learn\\python\\learn\\datasets\\mnist.py:262: extract_images (from tensorflow.contrib.learn.python.learn.datasets.mnist) is deprecated and will be removed in a future version.\n",
      "Instructions for updating:\n",
      "Please use tf.data to implement this functionality.\n",
      "Extracting ./mnist/data/train-images-idx3-ubyte.gz\n",
      "Successfully downloaded train-labels-idx1-ubyte.gz 28881 bytes.\n",
      "WARNING:tensorflow:From C:\\Users\\WITHJS\\Anaconda3\\lib\\site-packages\\tensorflow\\contrib\\learn\\python\\learn\\datasets\\mnist.py:267: extract_labels (from tensorflow.contrib.learn.python.learn.datasets.mnist) is deprecated and will be removed in a future version.\n",
      "Instructions for updating:\n",
      "Please use tf.data to implement this functionality.\n",
      "Extracting ./mnist/data/train-labels-idx1-ubyte.gz\n",
      "WARNING:tensorflow:From C:\\Users\\WITHJS\\Anaconda3\\lib\\site-packages\\tensorflow\\contrib\\learn\\python\\learn\\datasets\\mnist.py:110: dense_to_one_hot (from tensorflow.contrib.learn.python.learn.datasets.mnist) is deprecated and will be removed in a future version.\n",
      "Instructions for updating:\n",
      "Please use tf.one_hot on tensors.\n",
      "Successfully downloaded t10k-images-idx3-ubyte.gz 1648877 bytes.\n",
      "Extracting ./mnist/data/t10k-images-idx3-ubyte.gz\n",
      "Successfully downloaded t10k-labels-idx1-ubyte.gz 4542 bytes.\n",
      "Extracting ./mnist/data/t10k-labels-idx1-ubyte.gz\n",
      "WARNING:tensorflow:From C:\\Users\\WITHJS\\Anaconda3\\lib\\site-packages\\tensorflow\\contrib\\learn\\python\\learn\\datasets\\mnist.py:290: DataSet.__init__ (from tensorflow.contrib.learn.python.learn.datasets.mnist) is deprecated and will be removed in a future version.\n",
      "Instructions for updating:\n",
      "Please use alternatives such as official/mnist/dataset.py from tensorflow/models.\n"
     ]
    }
   ],
   "source": [
    "from tensorflow.examples.tutorials.mnist import input_data\n",
    "mnist = input_data.read_data_sets(\"./mnist/data/\", one_hot=True)"
   ]
  },
  {
   "cell_type": "code",
   "execution_count": 5,
   "metadata": {},
   "outputs": [
    {
     "data": {
      "text/plain": [
       "numpy.ndarray"
      ]
     },
     "execution_count": 5,
     "metadata": {},
     "output_type": "execute_result"
    }
   ],
   "source": [
    "type(x_train)"
   ]
  },
  {
   "cell_type": "markdown",
   "metadata": {},
   "source": [
    "## 01-02 신경망 모델 구성하기 \n",
    "  * MNIST의 손글씨는 28 X 28로 구성되어 있다.\n",
    "  * 784개의 특징으로 구성되어 있음.\n",
    "  * 레이블은 0~9까지의 10개의 분류"
   ]
  },
  {
   "cell_type": "code",
   "execution_count": 6,
   "metadata": {},
   "outputs": [],
   "source": [
    "X = tf.placeholder(tf.float32, [None, 784])\n",
    "Y = tf.placeholder(tf.float32, [None, 10])"
   ]
  },
  {
   "cell_type": "markdown",
   "metadata": {},
   "source": [
    "### 미니배치의 이해\n",
    " * 이미지를 하나씩 학습시키는 것보다 여러 개를 한꺼번에 학습시키는 쪽이 효과가 좋다.\n",
    " * 많은 메모리와 높은 컴퓨터 성능이 필요하므로 일반적으로 데이터를 적당한 크기로 잘라서 학습시킨다.\n",
    "  * **미니배치**라고 한다.\n",
    " * tf.float32, [None, 784] => None의 자리에는 한번에 학습시킬 이미지의 개수를 지정하는 값이 들어감., 즉 배치 크기를 지정하는 자리이다."
   ]
  },
  {
   "cell_type": "markdown",
   "metadata": {},
   "source": [
    "### 신경망의 구성\n",
    "```\n",
    " * 784(입력, 특징 개수) -> \n",
    "     256(첫번째 은닉층 뉴런) -> 256(두번째 은닉층 뉴런)\n",
    "                        -> 10(결과값 0~9 분류 개수 )\n",
    "```"
   ]
  },
  {
   "cell_type": "code",
   "execution_count": 36,
   "metadata": {},
   "outputs": [
    {
     "name": "stdout",
     "output_type": "stream",
     "text": [
      "<tf.Variable 'Variable_5:0' shape=(256, 10) dtype=float32_ref>\n",
      "Tensor(\"MatMul_5:0\", shape=(?, 10), dtype=float32)\n"
     ]
    }
   ],
   "source": [
    "W1 = tf.Variable(tf.random_normal([784, 256], stddev=0.01))\n",
    "L1 = tf.nn.relu(tf.matmul(X, W1))\n",
    "\n",
    "W2 = tf.Variable(tf.random_normal([256, 256], stddev=0.01))\n",
    "L2 = tf.nn.relu(tf.matmul(L1, W2))\n",
    "\n",
    "W3 = tf.Variable(tf.random_normal([256, 10], stddev=0.01))\n",
    "model = tf.matmul(L2, W3)\n",
    "\n",
    "print(W3)\n",
    "print(model)"
   ]
  },
  {
   "cell_type": "markdown",
   "metadata": {},
   "source": [
    "##\n",
    " * tf.random_normal([784, 256], stddev=0.01)  => 표준편차가 0.01인 정규 분포를 가지는 임의의 값으로 뉴런을 초기화\n",
    " * tf.matmul() 각 계층으로 들어오는 입력값에 가중치를 곱하고, tf.nn.relu함수를 이용하여 활성화 함수를 ReLU를 사용.\n",
    " * 마지막 계층인 model 텐서에 W3를 곱함으로 요소 10개짜리 배열이 출력된다.\n",
    " * 10개의 요소는 0부터 9까지의 숫자를 나타낸다.\n",
    " * 가장 큰 값을 가진 인덱스(결과 항목)이 예측 결과에 가까운 숫자이다.\n",
    " * 출력층은 보통 활성화 함수를 사용하지 않는다."
   ]
  },
  {
   "cell_type": "code",
   "execution_count": 14,
   "metadata": {},
   "outputs": [],
   "source": [
    "cost = tf.reduce_mean(tf.nn.softmax_cross_entropy_with_logits(\n",
    "                logits=model, labels=Y))\n",
    "optimizer = tf.train.AdamOptimizer(0.001).minimize(cost)"
   ]
  },
  {
   "cell_type": "markdown",
   "metadata": {},
   "source": [
    "### (QA) 어떤 버전으로 변경될까?"
   ]
  },
  {
   "cell_type": "markdown",
   "metadata": {},
   "source": [
    "### 신경망 모델 세션 시작"
   ]
  },
  {
   "cell_type": "code",
   "execution_count": 15,
   "metadata": {},
   "outputs": [],
   "source": [
    "init = tf.global_variables_initializer()\n",
    "sess = tf.Session()\n",
    "sess.run(init)"
   ]
  },
  {
   "cell_type": "markdown",
   "metadata": {},
   "source": [
    "### 배치 사이즈 지정\n",
    " * 미니배치의 크기 100개 설정.\n",
    " * 학습 데이터의 총 개수 train.num_examples 를 배치 크기로 나눈다.\n",
    " * 총 배치 크기가 몇개인지 확인)"
   ]
  },
  {
   "cell_type": "code",
   "execution_count": 17,
   "metadata": {},
   "outputs": [
    {
     "data": {
      "text/plain": [
       "550"
      ]
     },
     "execution_count": 17,
     "metadata": {},
     "output_type": "execute_result"
    }
   ],
   "source": [
    "batch_size = 100\n",
    "total_batch = int(mnist.train.num_examples / batch_size)\n",
    "total_batch"
   ]
  },
  {
   "cell_type": "markdown",
   "metadata": {},
   "source": [
    "* mnist.train.next_batch(batch_size)를 이용하여 학습할 데이터를 배치 크기만큼 가져온다\n",
    "* **입력값**인 이미지 데이터는 **batch_xs**에 **출력값**인 레이블 데이터는 **batch_ys**에 저장\n",
    "<br><br>\n",
    "*  _ , cost_val = sess.run([optimizer, cost],feed_dict =  {X: batch_xs, Y: batch_ys})\n",
    "* sess.run을 이용하여 최적화를 시키고 cost(손실)을 가져와서 저장한다.\n",
    "<br><br>\n",
    "* X: batch_xs, Y: batch_ys\n",
    "* 입력값 X와 예측을 평가할 실제 레이블 값 Y에 사용할 데이터를 넣어준다."
   ]
  },
  {
   "cell_type": "code",
   "execution_count": 32,
   "metadata": {},
   "outputs": [
    {
     "name": "stdout",
     "output_type": "stream",
     "text": [
      "Epoch :     1 평균 Cost =  0.005\n",
      "Epoch :     2 평균 Cost =  0.004\n",
      "Epoch :     3 평균 Cost =  0.007\n",
      "Epoch :     4 평균 Cost =  0.005\n",
      "Epoch :     5 평균 Cost =  0.002\n",
      "Epoch :     6 평균 Cost =  0.005\n",
      "Epoch :     7 평균 Cost =  0.006\n",
      "Epoch :     8 평균 Cost =  0.004\n",
      "Epoch :     9 평균 Cost =  0.006\n",
      "Epoch :    10 평균 Cost =  0.003\n",
      "Epoch :    11 평균 Cost =  0.003\n",
      "Epoch :    12 평균 Cost =  0.008\n",
      "Epoch :    13 평균 Cost =  0.003\n",
      "Epoch :    14 평균 Cost =  0.000\n",
      "Epoch :    15 평균 Cost =  0.000\n",
      "최적화 완료!\n"
     ]
    }
   ],
   "source": [
    "# MNIST 데이터 전체를 학습하는 일을 15번 반복함.\n",
    "# 학습 데이터 전체를 한 바퀴를 도는 일을 에포크(epoch)라 한다.\n",
    "for epoch in range(15):\n",
    "    total_cost = 0\n",
    "\n",
    "    for i in range(total_batch):\n",
    "        # 배치 사이즈만큼 데이터 가져오기 \n",
    "        batch_xs, batch_ys = mnist.train.next_batch(batch_size)\n",
    "        # 입력값 : batch_xs, 출력값 : batch_ys\n",
    "        # 최적화를 수행 후, 손실을 구한다.\n",
    "        _ , cost_val = sess.run([optimizer, cost],\n",
    "                                feed_dict =  {X: batch_xs, Y: batch_ys})\n",
    "\n",
    "        # 총 손실 계산\n",
    "        total_cost = total_cost + cost_val\n",
    "\n",
    "    print(\"Epoch : \", \"%4d\" %(epoch + 1), \n",
    "                '평균 Cost = ', \"{:.3f}\".format(total_cost/total_batch))\n",
    "    \n",
    "print(\"최적화 완료!\")"
   ]
  },
  {
   "cell_type": "markdown",
   "metadata": {},
   "source": [
    "### 정확도 확인"
   ]
  },
  {
   "cell_type": "code",
   "execution_count": 33,
   "metadata": {},
   "outputs": [
    {
     "data": {
      "text/plain": [
       "<tf.Tensor 'Equal_2:0' shape=(?,) dtype=bool>"
      ]
     },
     "execution_count": 33,
     "metadata": {},
     "output_type": "execute_result"
    }
   ],
   "source": [
    "is_correct = tf.equal(tf.argmax(model, 1), tf.argmax(Y, 1))\n",
    "is_correct"
   ]
  },
  {
   "cell_type": "code",
   "execution_count": 34,
   "metadata": {},
   "outputs": [],
   "source": [
    "accuracy = tf.reduce_mean(tf.cast(is_correct, tf.float32))"
   ]
  },
  {
   "cell_type": "markdown",
   "metadata": {},
   "source": [
    "## (QA) X, Y의 값은 어떻게 어디로 들어가는 것일까?"
   ]
  },
  {
   "cell_type": "code",
   "execution_count": 35,
   "metadata": {},
   "outputs": [
    {
     "name": "stdout",
     "output_type": "stream",
     "text": [
      "정확도 : 0.9817\n"
     ]
    }
   ],
   "source": [
    "\n",
    "print('정확도 :', sess.run(accuracy, \n",
    "                       feed_dict = {X:mnist.test.images,\n",
    "                                    Y:mnist.test.labels}))"
   ]
  },
  {
   "cell_type": "markdown",
   "metadata": {},
   "source": [
    "## 1-3 DropOut(드롭아웃)\n",
    " * 전체 신경망 중에 일부만을 사용하도록 하는 것. (어떤 원리로?)\n",
    " * 즉, 학습 단계마다 일부 뉴런을 제거(사용하지 않도록)함으로, 일부 특징이 특정 뉴런들에 고정되는 것을 막아 가중치의 균형을 잡도록 한다.(**과적합 방지**)"
   ]
  },
  {
   "cell_type": "markdown",
   "metadata": {},
   "source": [
    " * 학습시 일부 뉴런을 학습시키지 않기 때문에 신경망이 충분히 학습되기까지 시간이 오래 걸린다."
   ]
  },
  {
   "cell_type": "code",
   "execution_count": null,
   "metadata": {},
   "outputs": [],
   "source": []
  }
 ],
 "metadata": {
  "kernelspec": {
   "display_name": "Python 3",
   "language": "python",
   "name": "python3"
  },
  "language_info": {
   "codemirror_mode": {
    "name": "ipython",
    "version": 3
   },
   "file_extension": ".py",
   "mimetype": "text/x-python",
   "name": "python",
   "nbconvert_exporter": "python",
   "pygments_lexer": "ipython3",
   "version": "3.6.4"
  }
 },
 "nbformat": 4,
 "nbformat_minor": 2
}
