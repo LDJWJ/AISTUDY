{
 "cells": [
  {
   "cell_type": "markdown",
   "metadata": {
    "collapsed": true
   },
   "source": [
    "### 회귀 모델 만들어보기\n",
    "* 학습 내용\n",
    "  * 01. 회귀 모델에 대해 이해해 본다.\n",
    "  * 02. 그래디언트 디센트에 대해 이해해 본다."
   ]
  },
  {
   "cell_type": "markdown",
   "metadata": {},
   "source": [
    "#### colab에서 시작하기\n",
    "\n",
    "<a href=\"https://colab.research.google.com/github/LDJWJ/00_TOTO_MLDL_CLASS/blob/master/ch03.ipynb\" target=\"_parent\"><img src=\"https://colab.research.google.com/assets/colab-badge.svg\" alt=\"Open In Colab\"/></a>"
   ]
  },
  {
   "cell_type": "code",
   "execution_count": 1,
   "metadata": {},
   "outputs": [
    {
     "name": "stderr",
     "output_type": "stream",
     "text": [
      "C:\\Users\\front\\Anaconda3\\lib\\site-packages\\h5py\\__init__.py:36: FutureWarning: Conversion of the second argument of issubdtype from `float` to `np.floating` is deprecated. In future, it will be treated as `np.float64 == np.dtype(float).type`.\n",
      "  from ._conv import register_converters as _register_converters\n"
     ]
    }
   ],
   "source": [
    "import tensorflow as tf"
   ]
  },
  {
   "cell_type": "code",
   "execution_count": 2,
   "metadata": {},
   "outputs": [
    {
     "name": "stdout",
     "output_type": "stream",
     "text": [
      "1.15.0\n"
     ]
    }
   ],
   "source": [
    "print(tf.__version__)"
   ]
  },
  {
   "cell_type": "code",
   "execution_count": 3,
   "metadata": {},
   "outputs": [],
   "source": [
    "x_data=[1,2,3]\n",
    "y_data=[70,80,90]"
   ]
  },
  {
   "cell_type": "code",
   "execution_count": 4,
   "metadata": {},
   "outputs": [],
   "source": [
    "import matplotlib.pyplot as plt"
   ]
  },
  {
   "cell_type": "code",
   "execution_count": 5,
   "metadata": {},
   "outputs": [
    {
     "data": {
      "text/plain": [
       "[<matplotlib.lines.Line2D at 0x23b3fb09860>]"
      ]
     },
     "execution_count": 5,
     "metadata": {},
     "output_type": "execute_result"
    },
    {
     "data": {
      "image/png": "[encoded data removed]",
      "text/plain": [
       "<Figure size 432x288 with 1 Axes>"
      ]
     },
     "metadata": {},
     "output_type": "display_data"
    }
   ],
   "source": [
    "plt.plot(x_data, y_data)"
   ]
  },
  {
   "cell_type": "code",
   "execution_count": 6,
   "metadata": {},
   "outputs": [],
   "source": [
    "W = tf.Variable(tf.random_uniform([1], -1.0, 1.0))\n",
    "b = tf.Variable(tf.random_uniform([1], -1.0, 1.0))"
   ]
  },
  {
   "cell_type": "markdown",
   "metadata": {},
   "source": [
    "### 설명\n",
    "* W : 가중치(weight)\n",
    "* b : 편향(bias)"
   ]
  },
  {
   "cell_type": "code",
   "execution_count": 7,
   "metadata": {},
   "outputs": [],
   "source": [
    "## X, Y 플레이스 홀더로\n",
    "X = tf.placeholder(tf.float32, name='X')\n",
    "Y = tf.placeholder(tf.float32, name='Y')\n",
    "\n",
    "hypothesis =  W * X + b"
   ]
  },
  {
   "cell_type": "markdown",
   "metadata": {},
   "source": [
    "### 설명\n",
    "* 손실함수(loss function) : 손실값을 계산하는 함수 \n",
    "   * 손실값이란 실제값과 모델로 예측값 값이 얼마나 차이가 나는가를 나타내는 값.\n",
    "   * 손실값이 작을 수록 모델이 X와 Y를 잘 설명하고 있다.\n",
    "   * 손실을 전체 데이터에 대해 구한 경우, 비용(cost)라고 한다."
   ]
  },
  {
   "cell_type": "markdown",
   "metadata": {},
   "source": [
    "### 경사하강법\n",
    "  * 최적화 방법 중 가장 기본적인 알고리즘\n",
    "  * 그래프와 같이 함수의 기울기를 구하고, 기울기가 낮은 쪽으로 계속 이동시켜가며 최적의 값을 찾는다.\n",
    "  * 학습률은 학습을 얼마나 급하게 할 것인가?\n",
    "  * 학습의 진행과정에 영향을 주는 변수를 하이퍼파라미터(hyperparameter)"
   ]
  },
  {
   "cell_type": "code",
   "execution_count": 8,
   "metadata": {},
   "outputs": [],
   "source": [
    "### 비용함수(cost), 최적화 함수(optimizer), 비용을 최적화\n",
    "cost = tf.reduce_mean(tf.square(hypothesis - Y))\n",
    "\n",
    "\n",
    "optimizer = tf.train.GradientDescentOptimizer(learning_rate=0.1)\n",
    "train_op = optimizer.minimize(cost)"
   ]
  },
  {
   "cell_type": "markdown",
   "metadata": {},
   "source": [
    "### 학습하기"
   ]
  },
  {
   "cell_type": "code",
   "execution_count": 9,
   "metadata": {},
   "outputs": [
    {
     "name": "stdout",
     "output_type": "stream",
     "text": [
      "0 6859.1 [33.431004] [16.061916]\n",
      "1 374.5574 [29.137299] [15.477131]\n",
      "2 283.19833 [29.084969] [16.726786]\n",
      "3 268.86746 [28.581617] [17.747442]\n",
      "4 256.08554 [28.139797] [18.765306]\n",
      "5 243.9211 [27.7032] [19.756327]\n",
      "6 232.3347 [27.277683] [20.723782]\n",
      "7 221.29875 [26.862331] [21.667952]\n",
      "8 210.78682 [26.456976] [22.589428]\n",
      "9 200.77435 [26.06136] [23.488752]\n",
      "10 191.23743 [25.675255] [24.366457]\n",
      "11 182.15346 [25.298435] [25.223064]\n",
      "12 173.5011 [24.93067] [26.059078]\n",
      "13 165.25963 [24.571747] [26.874994]\n",
      "14 157.40965 [24.221453] [27.671297]\n",
      "15 149.93256 [23.879578] [28.448456]\n",
      "16 142.81065 [23.545923] [29.206934]\n",
      "17 136.02704 [23.220287] [29.947178]\n",
      "18 129.56561 [22.902483] [30.669628]\n",
      "19 123.41116 [22.592314] [31.37471]\n",
      "20 117.549034 [22.289604] [32.062843]\n",
      "21 111.96539 [21.99417] [32.734432]\n",
      "22 106.64695 [21.70584] [33.389877]\n",
      "23 101.581116 [21.424438] [34.029568]\n",
      "24 96.75598 [21.149801] [34.653877]\n",
      "25 92.15997 [20.88177] [35.26318]\n",
      "26 87.78235 [20.620178] [35.857834]\n",
      "27 83.612625 [20.364878] [36.438194]\n",
      "28 79.64099 [20.115713] [37.004604]\n",
      "29 75.857994 [19.87254] [37.5574]\n",
      "30 72.25465 [19.63521] [38.096905]\n",
      "31 68.82247 [19.403585] [38.62344]\n",
      "32 65.5534 [19.17753] [39.137318]\n",
      "33 62.439518 [18.95691] [39.638844]\n",
      "34 59.473602 [18.74159] [40.12831]\n",
      "35 56.648544 [18.531448] [40.606014]\n",
      "36 53.95773 [18.326357] [41.07223]\n",
      "37 51.394665 [18.126198] [41.52724]\n",
      "38 48.95343 [17.930851] [41.971313]\n",
      "39 46.6281 [17.740198] [42.40471]\n",
      "40 44.41325 [17.55413] [42.827686]\n",
      "41 42.303593 [17.372534] [43.240498]\n",
      "42 40.29411 [17.195305] [43.643387]\n",
      "43 38.38011 [17.022333] [44.036587]\n",
      "44 36.557037 [16.85352] [44.420334]\n",
      "45 34.820568 [16.688766] [44.79486]\n",
      "46 33.16654 [16.527973] [45.16038]\n",
      "47 31.591116 [16.371046] [45.517117]\n",
      "48 30.0905 [16.217892] [45.865276]\n",
      "49 28.661186 [16.068417] [46.205063]\n",
      "50 27.299751 [15.922537] [46.536682]\n",
      "51 26.00299 [15.780163] [46.860332]\n",
      "52 24.767845 [15.6412115] [47.1762]\n",
      "53 23.591354 [15.5056] [47.484474]\n",
      "54 22.47075 [15.37325] [47.78534]\n",
      "55 21.403381 [15.2440815] [48.07897]\n",
      "56 20.386705 [15.118016] [48.365543]\n",
      "57 19.418312 [14.994984] [48.64523]\n",
      "58 18.495934 [14.8749075] [48.91819]\n",
      "59 17.617342 [14.757718] [49.18459]\n",
      "60 16.780535 [14.643344] [49.444584]\n",
      "61 15.983438 [14.531722] [49.69833]\n",
      "62 15.224216 [14.422784] [49.945976]\n",
      "63 14.501042 [14.3164625] [50.187668]\n",
      "64 13.812241 [14.212697] [50.42355]\n",
      "65 13.156154 [14.111425] [50.65376]\n",
      "66 12.531228 [14.012591] [50.878437]\n",
      "67 11.935979 [13.916131] [51.097713]\n",
      "68 11.368999 [13.821989] [51.311718]\n",
      "69 10.828967 [13.730113] [51.52058]\n",
      "70 10.314588 [13.640442] [51.72442]\n",
      "71 9.824635 [13.552929] [51.92336]\n",
      "72 9.357954 [13.467518] [52.117516]\n",
      "73 8.913428 [13.384162] [52.307007]\n",
      "74 8.490036 [13.302809] [52.49194]\n",
      "75 8.086763 [13.2234125] [52.67243]\n",
      "76 7.702633 [13.145923] [52.848576]\n",
      "77 7.3367653 [13.070297] [53.020493]\n",
      "78 6.9882584 [12.99649] [53.188274]\n",
      "79 6.656319 [12.924457] [53.352024]\n",
      "80 6.340135 [12.854154] [53.511837]\n",
      "81 6.0389676 [12.7855425] [53.66781]\n",
      "82 5.7521095 [12.718579] [53.82003]\n",
      "83 5.4788795 [12.653227] [53.968594]\n",
      "84 5.2186284 [12.589446] [54.113586]\n",
      "85 4.970741 [12.527194] [54.25509]\n",
      "86 4.734633 [12.466444] [54.393192]\n",
      "87 4.509738 [12.407152] [54.527977]\n",
      "88 4.2955194 [12.349285] [54.65952]\n",
      "89 4.0914745 [12.29281] [54.787903]\n",
      "90 3.897133 [12.237693] [54.913197]\n",
      "91 3.7120163 [12.183902] [55.03548]\n",
      "92 3.53569 [12.131401] [55.154823]\n",
      "93 3.3677404 [12.080164] [55.271297]\n",
      "94 3.2077734 [12.030157] [55.38497]\n",
      "95 3.0553958 [11.981356] [55.495914]\n",
      "96 2.9102685 [11.933723] [55.604187]\n",
      "97 2.7720282 [11.88724] [55.70986]\n",
      "98 2.6403568 [11.841871] [55.812992]\n",
      "99 2.5149405 [11.797594] [55.913647]\n",
      "\n",
      "=== Test ===\n"
     ]
    }
   ],
   "source": [
    "sess = tf.Session()\n",
    "sess.run(tf.global_variables_initializer())\n",
    "    \n",
    "for step in range(100):\n",
    "    _, cost_val = sess.run([train_op, cost], feed_dict={X:x_data, \n",
    "                                                            Y:y_data})\n",
    "        \n",
    "    print(step, cost_val, sess.run(W), sess.run(b))\n",
    "\n",
    "print(\"\\n=== Test ===\")"
   ]
  },
  {
   "cell_type": "code",
   "execution_count": 10,
   "metadata": {},
   "outputs": [
    {
     "name": "stdout",
     "output_type": "stream",
     "text": [
      "hypothese = [11.797594] * X + [55.913647]\n"
     ]
    }
   ],
   "source": [
    "print(\"hypothese = {} * X + {}\".format(sess.run(W), sess.run(b) ) )\n",
    "sess.close()"
   ]
  }
 ],
 "metadata": {
  "kernelspec": {
   "display_name": "Python 3",
   "language": "python",
   "name": "python3"
  },
  "language_info": {
   "codemirror_mode": {
    "name": "ipython",
    "version": 3
   },
   "file_extension": ".py",
   "mimetype": "text/x-python",
   "name": "python",
   "nbconvert_exporter": "python",
   "pygments_lexer": "ipython3",
   "version": "3.6.5"
  }
 },
 "nbformat": 4,
 "nbformat_minor": 2
}
