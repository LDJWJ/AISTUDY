{
  "nbformat": 4,
  "nbformat_minor": 0,
  "metadata": {
    "kernelspec": {
      "display_name": "Python 3",
      "language": "python",
      "name": "python3"
    },
    "language_info": {
      "codemirror_mode": {
        "name": "ipython",
        "version": 3
      },
      "file_extension": ".py",
      "mimetype": "text/x-python",
      "name": "python",
      "nbconvert_exporter": "python",
      "pygments_lexer": "ipython3",
      "version": "3.6.5"
    },
    "colab": {
      "name": "DL04_01_AutoEncoder_Basic.ipynb",
      "provenance": []
    }
  },
  "cells": [
    {
      "cell_type": "markdown",
      "metadata": {
        "id": "MVdLV-M60tD4",
        "colab_type": "text"
      },
      "source": [
        "#### colab으로 시작하기\n",
        "<a href=\"https://colab.research.google.com/github/LDJWJ/00_TOTO_MLDL_CLASS/blob/master/DL04_01_AutoEncoder_Basic.ipynb\" target=\"_parent\"><img src=\"https://colab.research.google.com/assets/colab-badge.svg\" alt=\"Open In Colab\"/></a>"
      ]
    },
    {
      "cell_type": "markdown",
      "metadata": {
        "id": "wOOdtuAz0tEB",
        "colab_type": "text"
      },
      "source": [
        "## 04. 대표적 비지도 학습법 - Autoencoder"
      ]
    },
    {
      "cell_type": "markdown",
      "metadata": {
        "id": "hHDF9Owz0tEL",
        "colab_type": "text"
      },
      "source": [
        "## 학습 내용\n",
        "### 01. Autoencoder란?\n",
        "### 02. 간단한 예제를 보자.\n",
        "  * MNIST 데이터 셋을 활용하여 간단한 오토 인코더 신경망을 구성해 보기\n",
        "  \n",
        "### 03. 왜 사용되는가?"
      ]
    },
    {
      "cell_type": "markdown",
      "metadata": {
        "id": "vTZgXMjg0tEU",
        "colab_type": "text"
      },
      "source": [
        "### 01. Autoencoder란?\n",
        " * **Generative model learning**, **Dimensionality reduction**, **Representation learning**, **Unsupervised learning**\n",
        " * 머신러닝 학습 방법은 크게 지도학습과 비지도 학습으로 나눌 수 있다.\n",
        " * 비지도 학습 중 가장 널리 쓰이는 신경망으로 오토인코더(Autoencoder)가 있다.\n",
        " * **입력값과 출력값을 같게** 하는 신경망이다.\n",
        " * **가운데 계층의 노드 수가 입력값보다 적은 것**이 특징이다 - 노이즈 제거에 매우 효과적\n",
        " * 오토 인코더의 개념은 **데이터 생성 모델 학습**에 넓게 사용되고 있다."
      ]
    },
    {
      "cell_type": "markdown",
      "metadata": {
        "id": "RLOj_bwl0tEd",
        "colab_type": "text"
      },
      "source": [
        "### 가. 비지도 학습 중 가장 널리 쓰이는 신경망으로 오토 인코더(AutoEncoder)가 있다."
      ]
    },
    {
      "cell_type": "markdown",
      "metadata": {
        "id": "1fX7OwdA0tEm",
        "colab_type": "text"
      },
      "source": [
        "### 나. 오토 인코더는 입력값과 출력값을 같게 하는 신경망이다.\n",
        " * 입력층으로 들어온 데이터를 인코더를 통해 은닉층으로 내보낸다. **(입력층 -> 인코더 -> 은닉층)**\n",
        " * 은닉층의 데이터를 디코더를 통해 출력층으로 내보낸다.  **(은닉층 -> 디코더 -> 출력층)**\n",
        " * 만들어진 출력값을 입력값과 비슷해지도록 만드는 가중치를 찾아내는 것이다."
      ]
    },
    {
      "cell_type": "markdown",
      "metadata": {
        "id": "DpvUDEzG0tEs",
        "colab_type": "text"
      },
      "source": [
        "### 다. 가운데 계층의 노드 수가 입력값보다 적은 것이 특징이다.\n",
        " * 결과적으로 **입력 데이터를 압축하는 효과**를 얻는다. 이 과정이 **노이즈 제거**에 많이 효과적이다."
      ]
    },
    {
      "cell_type": "markdown",
      "metadata": {
        "id": "uLAVzXcV0tEz",
        "colab_type": "text"
      },
      "source": [
        "### 라. Autoencoder의 종류\n",
        "* 변이형 오토 인코더(Variational Autoencoder) - Variational AE(VAE), Conditional VAE(CVAE), Adversarial AE(AAE)\n",
        "* 그외, 잡음제거 오토 인코더(Denoising Autoencoder) Contracitve AE(CAE) 등의 다양한 방식의 오토 인코더가 있다."
      ]
    },
    {
      "cell_type": "markdown",
      "metadata": {
        "id": "9lkEAlRM0tE4",
        "colab_type": "text"
      },
      "source": [
        "### 마. 학습된 인코더에서의 각 역할\n",
        "* 인코더는 차원 축소의 역할을 수행 --> **Manifold learning**\n",
        "* 디코더는 생성 모델의 역할을 수행 --> **Generative model learning**"
      ]
    },
    {
      "cell_type": "markdown",
      "metadata": {
        "id": "vyxyG48g0tE8",
        "colab_type": "text"
      },
      "source": [
        "### 메모 :\n",
        " *  (01) 입력층으로 들어온 데이터를 인코더를 통해 은닉층으로 내보낸다.\n",
        " *  (02) 은닉층의 데이터를 디코더를 통해 출력층으로 내보낸다.\n",
        " *  (03) 만들어진 출력값과 입력값이 같아지도록 만드는 가중치를 찾아낸다."
      ]
    },
    {
      "cell_type": "markdown",
      "metadata": {
        "id": "1Ljt0w6d0tFB",
        "colab_type": "text"
      },
      "source": [
        "### 02. 간단한 예제를 통한 확인"
      ]
    },
    {
      "cell_type": "code",
      "metadata": {
        "id": "be6_RyjB0tFI",
        "colab_type": "code",
        "colab": {
          "base_uri": "https://localhost:8080/",
          "height": 64
        },
        "outputId": "780937e5-bd9e-441c-b6a7-be1b34886d5a"
      },
      "source": [
        "import tensorflow as tf\n",
        "import numpy as np\n",
        "import matplotlib as ml\n",
        "import matplotlib.pyplot as plt"
      ],
      "execution_count": 1,
      "outputs": [
        {
          "output_type": "display_data",
          "data": {
            "text/html": [
              "<p style=\"color: red;\">\n",
              "The default version of TensorFlow in Colab will soon switch to TensorFlow 2.x.<br>\n",
              "We recommend you <a href=\"https://www.tensorflow.org/guide/migrate\" target=\"_blank\">upgrade</a> now \n",
              "or ensure your notebook will continue to use TensorFlow 1.x via the <code>%tensorflow_version 1.x</code> magic:\n",
              "<a href=\"https://colab.research.google.com/notebooks/tensorflow_version.ipynb\" target=\"_blank\">more info</a>.</p>\n"
            ],
            "text/plain": [
              "<IPython.core.display.HTML object>"
            ]
          },
          "metadata": {
            "tags": []
          }
        }
      ]
    },
    {
      "cell_type": "code",
      "metadata": {
        "id": "Tc2z36Go0tFZ",
        "colab_type": "code",
        "colab": {
          "base_uri": "https://localhost:8080/",
          "height": 70
        },
        "outputId": "102bc9f3-5f1e-431b-f60e-c5ff8e5b3c4e"
      },
      "source": [
        "print(\"tf 버전 :\" , tf.__version__)\n",
        "print(\"numpy 버전 :\" ,np.__version__)\n",
        "print(\"matplotlib 버전 :\" , ml.__version__)"
      ],
      "execution_count": 2,
      "outputs": [
        {
          "output_type": "stream",
          "text": [
            "tf 버전 : 1.15.0\n",
            "numpy 버전 : 1.18.2\n",
            "matplotlib 버전 : 3.2.0\n"
          ],
          "name": "stdout"
        }
      ]
    },
    {
      "cell_type": "markdown",
      "metadata": {
        "id": "fDFghv790tFq",
        "colab_type": "text"
      },
      "source": [
        "### 데이터 불러오기"
      ]
    },
    {
      "cell_type": "code",
      "metadata": {
        "id": "aLmEjLWJ0tFu",
        "colab_type": "code",
        "colab": {
          "base_uri": "https://localhost:8080/",
          "height": 159
        },
        "outputId": "cc54b2eb-15ac-4d72-ee8a-e54ea270d672"
      },
      "source": [
        "from tensorflow.examples.tutorials.mnist import input_data\n",
        "mnist = input_data.read_data_sets(\"./mnist/data/\", one_hot=True)\n",
        "\n",
        "print(mnist.train.images.shape)\n",
        "print(mnist.train.labels.shape)\n",
        "\n",
        "print(mnist.test.images.shape)\n",
        "print(mnist.test.labels.shape)"
      ],
      "execution_count": 5,
      "outputs": [
        {
          "output_type": "stream",
          "text": [
            "Extracting ./mnist/data/train-images-idx3-ubyte.gz\n",
            "Extracting ./mnist/data/train-labels-idx1-ubyte.gz\n",
            "Extracting ./mnist/data/t10k-images-idx3-ubyte.gz\n",
            "Extracting ./mnist/data/t10k-labels-idx1-ubyte.gz\n",
            "(55000, 784)\n",
            "(55000, 10)\n",
            "(10000, 784)\n",
            "(10000, 10)\n"
          ],
          "name": "stdout"
        }
      ]
    },
    {
      "cell_type": "markdown",
      "metadata": {
        "id": "DoQ5_J3o0tGB",
        "colab_type": "text"
      },
      "source": [
        "### 신경망 기본 설정"
      ]
    },
    {
      "cell_type": "code",
      "metadata": {
        "id": "h0Vb8kAd0tGL",
        "colab_type": "code",
        "colab": {}
      },
      "source": [
        "learning_rate = 0.01    # 학습율 0.01\n",
        "training_epoch = 20     # 전체 데이터 훈련 횟수 20회 \n",
        "batch_size = 100        # 배치 사이즈 100\n",
        "n_hidden = 256          # 은닉층의 개수 256\n",
        "n_input = 28 * 28       # 784개 (입력층) "
      ],
      "execution_count": 0,
      "outputs": []
    },
    {
      "cell_type": "markdown",
      "metadata": {
        "id": "s82Dru-n0tGh",
        "colab_type": "text"
      },
      "source": [
        "### 인코더 만들기 \n",
        " * (1) 맨처음은 n_hidden개의 뉴런을 만든다. \n",
        "    * 가중치와 편향 변수를 원하는 뉴런의 개수만큼 설정한다.\n",
        " * (2) 변수들을 입력값과 곱하고 더한 후, 활성화 함수 sigmoid 함수를 적용한다.\n",
        "    * n_input 값보다 n_hidden 값이 더 작다."
      ]
    },
    {
      "cell_type": "code",
      "metadata": {
        "id": "buTAHXtt0tGn",
        "colab_type": "code",
        "colab": {}
      },
      "source": [
        "X = tf.placeholder(tf.float32, [None, n_input]) # X 플레이스 홀더, 비지도학습 Y가 없음."
      ],
      "execution_count": 0,
      "outputs": []
    },
    {
      "cell_type": "markdown",
      "metadata": {
        "id": "JpL9OdfM0tG0",
        "colab_type": "text"
      },
      "source": [
        "### 인코더와 디코더를 만들기(은닉층)\n",
        "* n_hidden개의 뉴런을 가진 은닉층 만들기\n",
        "* 가중치(W_encode), 편향변수(b_encode)를 뉴런 개수 만큼 설정\n",
        "* 활성화 함수 적용(sigmoid)"
      ]
    },
    {
      "cell_type": "code",
      "metadata": {
        "id": "rB70C1Vd0tG8",
        "colab_type": "code",
        "colab": {
          "base_uri": "https://localhost:8080/",
          "height": 35
        },
        "outputId": "d2df734f-8fe5-4cbc-9004-8167fd0efd72"
      },
      "source": [
        "W_encode = tf.Variable(tf.random_normal([n_input, n_hidden]))\n",
        "b_encode = tf.Variable(tf.random_normal([n_hidden]))\n",
        "encoder = tf.nn.sigmoid(tf.add(tf.matmul(X, W_encode), b_encode))\n",
        "encoder"
      ],
      "execution_count": 12,
      "outputs": [
        {
          "output_type": "execute_result",
          "data": {
            "text/plain": [
              "<tf.Tensor 'Sigmoid_4:0' shape=(?, 256) dtype=float32>"
            ]
          },
          "metadata": {
            "tags": []
          },
          "execution_count": 12
        }
      ]
    },
    {
      "cell_type": "markdown",
      "metadata": {
        "id": "IEh8dhaL0tHL",
        "colab_type": "text"
      },
      "source": [
        "### 디코더 만들기\n",
        " * 은닉층의 크기(입력)로 출력값을 입력층과 동일하게 만듬."
      ]
    },
    {
      "cell_type": "code",
      "metadata": {
        "id": "LRf2lnni0tHP",
        "colab_type": "code",
        "colab": {
          "base_uri": "https://localhost:8080/",
          "height": 35
        },
        "outputId": "a29e262e-6415-4ee2-8646-420d7127c796"
      },
      "source": [
        "W_decode = tf.Variable(tf.random_normal([n_hidden, n_input]))\n",
        "b_decode = tf.Variable(tf.random_normal([n_input]))\n",
        "decoder = tf.nn.sigmoid(tf.add(tf.matmul(encoder, W_decode), b_decode))  # 활성화 함수 적용\n",
        "decoder"
      ],
      "execution_count": 11,
      "outputs": [
        {
          "output_type": "execute_result",
          "data": {
            "text/plain": [
              "<tf.Tensor 'Sigmoid_3:0' shape=(?, 784) dtype=float32>"
            ]
          },
          "metadata": {
            "tags": []
          },
          "execution_count": 11
        }
      ]
    },
    {
      "cell_type": "markdown",
      "metadata": {
        "id": "8ZhfKryB0tHl",
        "colab_type": "text"
      },
      "source": [
        "### 손실함수, 최적화 알고리즘 적용시키기\n",
        "* 입력값을 X를 평가하기 위한 실측값으로 사용한다.\n",
        "* 디코더가 내보낸 결과값의 차이를 손실값으로 설정한다.\n",
        "* 손실함수(MSE-Mean Squared Error 적용)\n",
        "* RMSPropOptimizer 함수를 이용하여 최적화 알고리즘 적용"
      ]
    },
    {
      "cell_type": "code",
      "metadata": {
        "id": "n0JMO6iv0tHt",
        "colab_type": "code",
        "colab": {
          "base_uri": "https://localhost:8080/",
          "height": 35
        },
        "outputId": "b7e98127-524a-4de0-b901-4a84a79cb9e1"
      },
      "source": [
        "cost = tf.reduce_mean(tf.pow(X- decoder, 2))\n",
        "optimizer = tf.train.RMSPropOptimizer(learning_rate).minimize(cost)\n",
        "optimizer"
      ],
      "execution_count": 14,
      "outputs": [
        {
          "output_type": "execute_result",
          "data": {
            "text/plain": [
              "<tf.Operation 'RMSProp_1' type=NoOp>"
            ]
          },
          "metadata": {
            "tags": []
          },
          "execution_count": 14
        }
      ]
    },
    {
      "cell_type": "markdown",
      "metadata": {
        "id": "LYpwe1pi0tH_",
        "colab_type": "text"
      },
      "source": [
        "### 그래프 실행 - 학습을 진행"
      ]
    },
    {
      "cell_type": "code",
      "metadata": {
        "id": "18KDF4rA0tIC",
        "colab_type": "code",
        "colab": {
          "base_uri": "https://localhost:8080/",
          "height": 426
        },
        "outputId": "b8f83680-673c-4234-d6a5-985280be65d7"
      },
      "source": [
        "%%time\n",
        "\n",
        "init = tf.global_variables_initializer()  # 그래프 초기화 \n",
        "sess = tf.Session()                       # 세션 연결\n",
        "sess.run(init)                            # 세션 초기화\n",
        "\n",
        "total_batch = int(mnist.train.num_examples/batch_size) # 전체 배치에 따른 수행횟수\n",
        "\n",
        "for epoch in range(training_epoch):  # 전체 데이터 학습 수행횟수\n",
        "    total_cost = 0\n",
        "    \n",
        "    for i in range(total_batch):     # 배치 사이즈에 따른 학습 수행.(W값 업데이트)\n",
        "        batch_xs, batch_ys = mnist.train.next_batch(batch_size)\n",
        "        _, cost_val = sess.run([optimizer, cost], \n",
        "                              feed_dict={X:batch_xs})\n",
        "        total_cost += cost_val\n",
        "        \n",
        "    print('Epoch:', '%04d' % (epoch + 1), \n",
        "         'Avg. cost=', '{:.4f}'.format(total_cost / total_batch))\n",
        "    \n",
        "print('최적화 완료!')"
      ],
      "execution_count": 15,
      "outputs": [
        {
          "output_type": "stream",
          "text": [
            "Epoch: 0001 Avg. cost= 0.2029\n",
            "Epoch: 0002 Avg. cost= 0.0592\n",
            "Epoch: 0003 Avg. cost= 0.0479\n",
            "Epoch: 0004 Avg. cost= 0.0432\n",
            "Epoch: 0005 Avg. cost= 0.0391\n",
            "Epoch: 0006 Avg. cost= 0.0373\n",
            "Epoch: 0007 Avg. cost= 0.0363\n",
            "Epoch: 0008 Avg. cost= 0.0356\n",
            "Epoch: 0009 Avg. cost= 0.0350\n",
            "Epoch: 0010 Avg. cost= 0.0345\n",
            "Epoch: 0011 Avg. cost= 0.0338\n",
            "Epoch: 0012 Avg. cost= 0.0331\n",
            "Epoch: 0013 Avg. cost= 0.0314\n",
            "Epoch: 0014 Avg. cost= 0.0309\n",
            "Epoch: 0015 Avg. cost= 0.0307\n",
            "Epoch: 0016 Avg. cost= 0.0306\n",
            "Epoch: 0017 Avg. cost= 0.0304\n",
            "Epoch: 0018 Avg. cost= 0.0303\n",
            "Epoch: 0019 Avg. cost= 0.0302\n",
            "Epoch: 0020 Avg. cost= 0.0299\n",
            "최적화 완료!\n",
            "CPU times: user 2min 18s, sys: 8.79 s, total: 2min 26s\n",
            "Wall time: 1min 21s\n"
          ],
          "name": "stdout"
        }
      ]
    },
    {
      "cell_type": "markdown",
      "metadata": {
        "id": "2p9bzF_k0tIU",
        "colab_type": "text"
      },
      "source": [
        "### 학습된 모델을 이용. 테스트 데이터 셋을 활용하여 출력 이미지 생성\n",
        "* 10개의 테스트 데이터를 가지고 학습한 신경망을 이용하여 출력값 생성해 보기"
      ]
    },
    {
      "cell_type": "code",
      "metadata": {
        "id": "soQQgmzl0tIX",
        "colab_type": "code",
        "colab": {
          "base_uri": "https://localhost:8080/",
          "height": 35
        },
        "outputId": "73fb8238-0f5f-435d-b5bf-896559e4b710"
      },
      "source": [
        "mnist.test.images[0].shape"
      ],
      "execution_count": 16,
      "outputs": [
        {
          "output_type": "execute_result",
          "data": {
            "text/plain": [
              "(784,)"
            ]
          },
          "metadata": {
            "tags": []
          },
          "execution_count": 16
        }
      ]
    },
    {
      "cell_type": "code",
      "metadata": {
        "id": "7DFJixs20tJL",
        "colab_type": "code",
        "colab": {}
      },
      "source": [
        "sample_size = 10\n",
        "samples = sess.run(decoder, \n",
        "                  feed_dict = {X:mnist.test.images[:sample_size]})"
      ],
      "execution_count": 0,
      "outputs": []
    },
    {
      "cell_type": "markdown",
      "metadata": {
        "id": "JHj9U1le0tJg",
        "colab_type": "text"
      },
      "source": [
        "## 입력데이터와 생성한 데이터 확인\n",
        " * 위쪽이 원본 데이터, 아래쪽이 신경망이 생성한 이미지"
      ]
    },
    {
      "cell_type": "code",
      "metadata": {
        "id": "uUL7OVhj0tJm",
        "colab_type": "code",
        "colab": {
          "base_uri": "https://localhost:8080/",
          "height": 137
        },
        "outputId": "742dbb7a-bd30-4069-ca00-1c863f91d2d1"
      },
      "source": [
        "fig, ax = plt.subplots(2, sample_size, figsize=(sample_size, 2))\n",
        "\n",
        "for i in range(sample_size):\n",
        "    ax[0][i].set_axis_off()\n",
        "    ax[1][i].set_axis_off()\n",
        "    ax[0][i].imshow(np.reshape(mnist.test.images[i], (28,28)))\n",
        "    ax[1][i].imshow(np.reshape(samples[i], (28,28)))\n",
        "    \n",
        "plt.show()"
      ],
      "execution_count": 18,
      "outputs": [
        {
          "output_type": "display_data",
          "data": {
            "image/png": "[encoded data removed]",
            "text/plain": [
              "<Figure size 720x144 with 20 Axes>"
            ]
          },
          "metadata": {
            "tags": []
          }
        }
      ]
    },
    {
      "cell_type": "markdown",
      "metadata": {
        "id": "mohLclqq0tKZ",
        "colab_type": "text"
      },
      "source": [
        "### 실습해 보기\n",
        "* 01 자신이 원하는 것을 하나 또는 두개를 변경한 이후에 오토인코더 신경망을 학습시켜보고, 이에 대한 결과를 확인해 보자.\n",
        "  * (사전 조건) epoch의 수는 20으로 동일하게 한다.\n",
        "  * cost를 확인 후, 전과 비교하여 이를 토대로 이야기를 해 보자."
      ]
    },
    {
      "cell_type": "code",
      "metadata": {
        "id": "3D4qktnj0tKd",
        "colab_type": "code",
        "colab": {}
      },
      "source": [
        ""
      ],
      "execution_count": 0,
      "outputs": []
    }
  ]
}