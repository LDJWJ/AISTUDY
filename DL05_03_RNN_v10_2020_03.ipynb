{
 "cells": [
  {
   "cell_type": "markdown",
   "metadata": {},
   "source": [
    "#### colab로 시작하기\n",
    "\n",
    "<a href=\"https://colab.research.google.com/github/LDJWJ/AISTUDY/blob/master/DL05_03_RNN_v10\" target=\"_parent\"><img src=\"https://colab.research.google.com/assets/colab-badge.svg\" alt=\"Open In Colab\"/></a>"
   ]
  },
  {
   "cell_type": "markdown",
   "metadata": {},
   "source": [
    "### Sequence to Sequence\n",
    "  * 영어 단어를 한국어 단어로 변역하는 프로그램 만들어보기"
   ]
  },
  {
   "cell_type": "markdown",
   "metadata": {},
   "source": [
    "* Seq2Seq는 구글의 기계번역에 사용되는 신경망 모델\n",
    "* **입력**의 신경망의 **인코더**와 **출력**을 위한 신경망 **디코더**로 구성"
   ]
  },
  {
   "cell_type": "code",
   "execution_count": 1,
   "metadata": {},
   "outputs": [
    {
     "name": "stderr",
     "output_type": "stream",
     "text": [
      "C:\\Users\\front\\Anaconda3\\lib\\site-packages\\h5py\\__init__.py:36: FutureWarning: Conversion of the second argument of issubdtype from `float` to `np.floating` is deprecated. In future, it will be treated as `np.float64 == np.dtype(float).type`.\n",
      "  from ._conv import register_converters as _register_converters\n"
     ]
    }
   ],
   "source": [
    "import tensorflow as tf\n",
    "import numpy as np"
   ]
  },
  {
   "cell_type": "code",
   "execution_count": 2,
   "metadata": {},
   "outputs": [
    {
     "name": "stdout",
     "output_type": "stream",
     "text": [
      "{'S': 0, 'E': 1, 'P': 2, 'a': 3, 'b': 4, 'c': 5, 'd': 6, 'e': 7, 'f': 8, 'g': 9, 'h': 10, 'i': 11, 'j': 12, 'k': 13, 'l': 14, 'm': 15, 'n': 16, 'o': 17, 'p': 18, 'q': 19, 'r': 20, 's': 21, 't': 22, 'u': 23, 'v': 24, 'w': 25, 'x': 26, 'y': 27, 'z': 28, '나': 29, '무': 30, '놀': 31, '이': 32, '소': 33, '녀': 34, '사': 35, '랑': 36, '음': 37, '식': 38, '아': 39, '기': 40, '카': 41, '드': 42}\n"
     ]
    }
   ],
   "source": [
    "char_arr = [c for c in 'SEPabcdefghijklmnopqrstuvwxyz나무놀이소녀사랑음식아기카드']\n",
    "num_dic = {n:i for i, n in enumerate(char_arr)} # 글자:숫자를 하나의 데이터 셋\n",
    "print(num_dic)\n",
    "dic_len = len(num_dic)    # 총 길이"
   ]
  },
  {
   "cell_type": "code",
   "execution_count": 3,
   "metadata": {},
   "outputs": [],
   "source": [
    "seq_data = [['tree', '나무'], ['game', '놀이'], ['girl', '소녀'], \n",
    "            ['love', '사랑'], ['food', '음식'], ['baby', '아기'], \n",
    "            ['card', '카드'] ]"
   ]
  },
  {
   "cell_type": "markdown",
   "metadata": {},
   "source": [
    "### 데이터 준비\n",
    " * 인코더의 입력값 : 입력단어 한글자씩 떼어 배열로 만들기 \n",
    " * 디코더의 입력값 : 출력단어의 글자들을 배열로 만들고, 시작을 나타내는 'S'을 붙임\n",
    " * 디코더의 출력값 : 디코더의 셀의 출력값을 만들고, 출력을 나타내는 'E'을 마지막에 붙임"
   ]
  },
  {
   "cell_type": "code",
   "execution_count": 4,
   "metadata": {},
   "outputs": [],
   "source": [
    "def make_batch(seq_data):\n",
    "    input_batch = []\n",
    "    output_batch = []\n",
    "    target_batch = []\n",
    "\n",
    "    for seq in seq_data:\n",
    "        # 인코더 셀의 입력값. 입력단어의 글자들을 한글자씩 떼어 배열로 만든다.\n",
    "        # seq_data의 영단어를 한글자씩(index 리스트)\n",
    "        input = [num_dic[n] for n in seq[0]]\n",
    "        # 디코더 셀의 입력값. 시작을 나타내는 S 심볼을 맨 앞에 붙여준다.\n",
    "        # 한글의 단어에 앞'S'을 붙이고 한글자씩(index 얻기)\n",
    "        output = [num_dic[n] for n in ('S' + seq[1])]\n",
    "        # 학습을 위해 비교할 디코더 셀의 출력값. 끝나는 것을 알려주기 위해 마지막에 E 를 붙인다.\n",
    "        # 한글의 단어에 맨뒤 'E'을 붙이고 한글자씩(index얻기)\n",
    "        target = [num_dic[n] for n in (seq[1] + 'E')]\n",
    "\n",
    "        input_batch.append(np.eye(dic_len)[input]) # 원핫(인코더 입력)\n",
    "        output_batch.append(np.eye(dic_len)[output]) # 원핫(디코더 입력)\n",
    "        \n",
    "        # 출력값만 one-hot 인코딩이 아님 (sparse_softmax_cross_entropy_with_logits 사용)\n",
    "        # 나E(20,1), 무E(30,1) - 디코더 출력\n",
    "        target_batch.append(target)\n",
    "\n",
    "    return input_batch, output_batch, target_batch"
   ]
  },
  {
   "cell_type": "code",
   "execution_count": 5,
   "metadata": {},
   "outputs": [
    {
     "data": {
      "text/plain": [
       "([array([[0., 0., 0., 0., 0., 0., 0., 0., 0., 0., 0., 0., 0., 0., 0., 0.,\n",
       "          0., 0., 0., 0., 0., 0., 1., 0., 0., 0., 0., 0., 0., 0., 0., 0.,\n",
       "          0., 0., 0., 0., 0., 0., 0., 0., 0., 0., 0.]]),\n",
       "  array([[0., 0., 0., 0., 0., 0., 0., 0., 0., 0., 0., 0., 0., 0., 0., 0.,\n",
       "          0., 0., 0., 0., 0., 0., 0., 0., 0., 0., 0., 0., 0., 1., 0., 0.,\n",
       "          0., 0., 0., 0., 0., 0., 0., 0., 0., 0., 0.]])],\n",
       " [array([[1., 0., 0., 0., 0., 0., 0., 0., 0., 0., 0., 0., 0., 0., 0., 0.,\n",
       "          0., 0., 0., 0., 0., 0., 0., 0., 0., 0., 0., 0., 0., 0., 0., 0.,\n",
       "          0., 0., 0., 0., 0., 0., 0., 0., 0., 0., 0.],\n",
       "         [0., 0., 0., 0., 0., 0., 0., 0., 0., 0., 0., 0., 0., 0., 0., 0.,\n",
       "          0., 0., 0., 0., 1., 0., 0., 0., 0., 0., 0., 0., 0., 0., 0., 0.,\n",
       "          0., 0., 0., 0., 0., 0., 0., 0., 0., 0., 0.]]),\n",
       "  array([[1., 0., 0., 0., 0., 0., 0., 0., 0., 0., 0., 0., 0., 0., 0., 0.,\n",
       "          0., 0., 0., 0., 0., 0., 0., 0., 0., 0., 0., 0., 0., 0., 0., 0.,\n",
       "          0., 0., 0., 0., 0., 0., 0., 0., 0., 0., 0.],\n",
       "         [0., 0., 0., 0., 0., 0., 0., 0., 0., 0., 0., 0., 0., 0., 0., 0.,\n",
       "          0., 0., 0., 0., 0., 0., 0., 0., 0., 0., 0., 0., 0., 0., 1., 0.,\n",
       "          0., 0., 0., 0., 0., 0., 0., 0., 0., 0., 0.]])],\n",
       " [[20, 1], [30, 1]])"
      ]
     },
     "execution_count": 5,
     "metadata": {},
     "output_type": "execute_result"
    }
   ],
   "source": [
    "make_batch(['tree', '나무'])"
   ]
  },
  {
   "cell_type": "markdown",
   "metadata": {},
   "source": [
    "### 하이퍼 파라미터 설정\n",
    " * 학습률\n",
    " * 은닉층 노드수\n",
    " * 총 에폭수\n",
    " * 타깃 클래스, 입력 노드"
   ]
  },
  {
   "cell_type": "code",
   "execution_count": 6,
   "metadata": {},
   "outputs": [],
   "source": [
    "learning_rate = 0.01\n",
    "n_hidden = 128\n",
    "total_epoch = 100\n",
    " \n",
    "n_class = n_input = dic_len"
   ]
  },
  {
   "cell_type": "markdown",
   "metadata": {},
   "source": [
    "### 인코더의 입력값, 디코더의 입력값 \n",
    " * [batch_size, time steps, input_size] -> [데이터개수, 작업 스텝(인코더), 입력 크기]\n",
    "\n",
    "### 디코더의 출력값\n",
    " * [batch_size, time steps] -> [배치 데이터개수, 작업 스텝(디코더)]\n",
    " \n",
    "### 배치크기와 작업스텝은 입력때마다 다를 수 있다. (None으로 처리)"
   ]
  },
  {
   "cell_type": "code",
   "execution_count": 7,
   "metadata": {},
   "outputs": [],
   "source": [
    "enc_input = tf.placeholder(tf.float32, [None, None, n_input])\n",
    "dec_input = tf.placeholder(tf.float32, [None, None, n_input])\n",
    "targets = tf.placeholder(tf.int64, [None, None])"
   ]
  },
  {
   "cell_type": "markdown",
   "metadata": {},
   "source": [
    "* 주의 : 같은 배치 데이터는 글자수(단계)는 같아야 함.\n",
    "* dynamic_rnn의 옵션 sequence_length를 사용하면 길이가 다른 단어들도 한번에 입력이 가능함.\n",
    "* 단, 길이가 다르더라도 짧은 단어는 가장 긴단어에 맞춰서 글자를 채워야 하므로 의미 없는 값인 'P'를 이용하여 부족한 글자수를 채움."
   ]
  },
  {
   "cell_type": "markdown",
   "metadata": {},
   "source": [
    "### 체크 : 두번 실행시 아래와 같은 에러 발생할 수 있음. (재실행)\n",
    " * Variable encode/rnn/basic_rnn_cell/kernel already exists, disallowed."
   ]
  },
  {
   "cell_type": "markdown",
   "metadata": {},
   "source": [
    "### 중요\n",
    " * decode를 설계할 때, 초기 상태를 인코더의 출력(enc_states)로 넣어야 함.\n",
    "   * dynamic_rnn(.., initial_state=enc_states ..) 로 가능"
   ]
  },
  {
   "cell_type": "code",
   "execution_count": 8,
   "metadata": {},
   "outputs": [
    {
     "name": "stdout",
     "output_type": "stream",
     "text": [
      "WARNING:tensorflow:From <ipython-input-8-0ab444eeef55>:3: BasicRNNCell.__init__ (from tensorflow.python.ops.rnn_cell_impl) is deprecated and will be removed in a future version.\n",
      "Instructions for updating:\n",
      "This class is equivalent as tf.keras.layers.SimpleRNNCell, and will be replaced by that in Tensorflow 2.0.\n",
      "WARNING:tensorflow:From <ipython-input-8-0ab444eeef55>:9: dynamic_rnn (from tensorflow.python.ops.rnn) is deprecated and will be removed in a future version.\n",
      "Instructions for updating:\n",
      "Please use `keras.layers.RNN(cell)`, which is equivalent to this API\n",
      "WARNING:tensorflow:From C:\\Users\\front\\Anaconda3\\lib\\site-packages\\tensorflow_core\\python\\ops\\rnn_cell_impl.py:456: Layer.add_variable (from tensorflow.python.keras.engine.base_layer) is deprecated and will be removed in a future version.\n",
      "Instructions for updating:\n",
      "Please use `layer.add_weight` method instead.\n",
      "WARNING:tensorflow:From C:\\Users\\front\\Anaconda3\\lib\\site-packages\\tensorflow_core\\python\\ops\\rnn_cell_impl.py:460: calling Zeros.__init__ (from tensorflow.python.ops.init_ops) with dtype is deprecated and will be removed in a future version.\n",
      "Instructions for updating:\n",
      "Call initializer instance with the dtype argument instead of passing it to the constructor\n"
     ]
    }
   ],
   "source": [
    "# 인코더 셀을 구성한다.\n",
    "with tf.variable_scope('encode'):\n",
    "    enc_cell = tf.nn.rnn_cell.BasicRNNCell(n_hidden)   # 기본 셀 적용\n",
    "    enc_cell = tf.nn.rnn_cell.DropoutWrapper(enc_cell, \n",
    "                                    output_keep_prob = 0.5)  # Dropout 적용\n",
    "    \n",
    "    outputs, enc_states = tf.nn.dynamic_rnn(enc_cell, \n",
    "                                            enc_input, \n",
    "                                            dtype=tf.float32)\n",
    "\n",
    "# 디코더 셀을 구성한다.\n",
    "with tf.variable_scope('decode'):\n",
    "    dec_cell = tf.nn.rnn_cell.BasicRNNCell(n_hidden)  # 기본 셀 적용\n",
    "    dec_cell = tf.nn.rnn_cell.DropoutWrapper(dec_cell, \n",
    "                                             output_keep_prob=0.5)   # Dropout 적용\n",
    "    \n",
    "    # Seq2Seq 모델은 인코더 셀의 최종 상태값을\n",
    "    # 디코더 셀의 초기 상태값으로 넣어주는 것이 핵심.\n",
    "    outputs, dec_states = tf.nn.dynamic_rnn(dec_cell, \n",
    "                                            dec_input, \n",
    "                                            initial_state=enc_states,  # *인코더의 출력(enc_state)을 넣어야\n",
    "                                            dtype=tf.float32)"
   ]
  },
  {
   "cell_type": "code",
   "execution_count": 11,
   "metadata": {},
   "outputs": [
    {
     "name": "stdout",
     "output_type": "stream",
     "text": [
      "WARNING:tensorflow:From <ipython-input-11-037ae5bb3af0>:1: dense (from tensorflow.python.layers.core) is deprecated and will be removed in a future version.\n",
      "Instructions for updating:\n",
      "Use keras.layers.Dense instead.\n",
      "WARNING:tensorflow:From C:\\Users\\front\\Anaconda3\\lib\\site-packages\\tensorflow_core\\python\\layers\\core.py:187: Layer.apply (from tensorflow.python.keras.engine.base_layer) is deprecated and will be removed in a future version.\n",
      "Instructions for updating:\n",
      "Please use `layer.__call__` method instead.\n"
     ]
    }
   ],
   "source": [
    "model = tf.layers.dense(outputs, n_class, activation=None)\n",
    "\n",
    "cost = tf.reduce_mean( \n",
    "           tf.nn.sparse_softmax_cross_entropy_with_logits(\n",
    "              logits=model, labels=targets))\n",
    "\n",
    "optimizer = tf.train.AdamOptimizer(learning_rate).minimize(cost)"
   ]
  },
  {
   "cell_type": "markdown",
   "metadata": {},
   "source": [
    "### 학습 시키기 "
   ]
  },
  {
   "cell_type": "code",
   "execution_count": 12,
   "metadata": {},
   "outputs": [
    {
     "name": "stdout",
     "output_type": "stream",
     "text": [
      "Epoch:  1 cost = 3.779522180557251\n",
      "Epoch:  2 cost = 2.905961275100708\n",
      "Epoch:  3 cost = 1.7530995607376099\n",
      "Epoch:  4 cost = 1.1898877620697021\n",
      "Epoch:  5 cost = 0.7002539038658142\n",
      "Epoch:  6 cost = 0.24918495118618011\n",
      "Epoch:  7 cost = 0.25469326972961426\n",
      "Epoch:  8 cost = 0.10096266120672226\n",
      "Epoch:  9 cost = 0.08792263269424438\n",
      "Epoch:  10 cost = 0.035645339637994766\n",
      "Epoch:  11 cost = 0.07216156274080276\n",
      "Epoch:  12 cost = 0.021181698888540268\n",
      "Epoch:  13 cost = 0.03957994654774666\n",
      "Epoch:  14 cost = 0.010124028660356998\n",
      "Epoch:  15 cost = 0.010288801975548267\n",
      "Epoch:  16 cost = 0.012970870360732079\n",
      "Epoch:  17 cost = 0.003536701900884509\n",
      "Epoch:  18 cost = 0.004682973027229309\n",
      "Epoch:  19 cost = 0.00412184651941061\n",
      "Epoch:  20 cost = 0.0031117626931518316\n",
      "Epoch:  21 cost = 0.0037098596803843975\n",
      "Epoch:  22 cost = 0.002357000019401312\n",
      "Epoch:  23 cost = 0.0016109187854453921\n",
      "Epoch:  24 cost = 0.0016084116650745273\n",
      "Epoch:  25 cost = 0.0012046569027006626\n",
      "Epoch:  26 cost = 0.0019429491367191076\n",
      "Epoch:  27 cost = 0.0008289217948913574\n",
      "Epoch:  28 cost = 0.0022857424337416887\n",
      "Epoch:  29 cost = 0.0026440073270350695\n",
      "Epoch:  30 cost = 0.0018792925402522087\n",
      "Epoch:  31 cost = 0.000604901579208672\n",
      "Epoch:  32 cost = 0.0015265375841408968\n",
      "Epoch:  33 cost = 0.00159802520647645\n",
      "Epoch:  34 cost = 0.0031402455642819405\n",
      "Epoch:  35 cost = 0.002281137276440859\n",
      "Epoch:  36 cost = 0.0006019914289936423\n",
      "Epoch:  37 cost = 0.0002643006155267358\n",
      "Epoch:  38 cost = 0.002019547624513507\n",
      "Epoch:  39 cost = 0.002098111668601632\n",
      "Epoch:  40 cost = 0.001171414740383625\n",
      "Epoch:  41 cost = 0.0004858852771576494\n",
      "Epoch:  42 cost = 0.0016940331552177668\n",
      "Epoch:  43 cost = 0.0022828292567282915\n",
      "Epoch:  44 cost = 0.00043147176620550454\n",
      "Epoch:  45 cost = 0.0023914470802992582\n",
      "Epoch:  46 cost = 0.0004388419329188764\n",
      "Epoch:  47 cost = 0.00037203339161351323\n",
      "Epoch:  48 cost = 0.00023316388251259923\n",
      "Epoch:  49 cost = 0.0005161990993656218\n",
      "Epoch:  50 cost = 0.0006717527285218239\n",
      "Epoch:  51 cost = 0.000544391106814146\n",
      "Epoch:  52 cost = 0.00040202043601311743\n",
      "Epoch:  53 cost = 0.00011897568037966266\n",
      "Epoch:  54 cost = 0.00027835756191052496\n",
      "Epoch:  55 cost = 0.00025924103101715446\n",
      "Epoch:  56 cost = 0.0002234499843325466\n",
      "Epoch:  57 cost = 0.00020692383986897767\n",
      "Epoch:  58 cost = 0.00023068569134920835\n",
      "Epoch:  59 cost = 0.0002315341553185135\n",
      "Epoch:  60 cost = 0.002529614605009556\n",
      "Epoch:  61 cost = 0.00019842169422190636\n",
      "Epoch:  62 cost = 0.0007458781474269927\n",
      "Epoch:  63 cost = 0.00024264119565486908\n",
      "Epoch:  64 cost = 0.00030359887750819325\n",
      "Epoch:  65 cost = 0.001567412749864161\n",
      "Epoch:  66 cost = 0.00021585196373052895\n",
      "Epoch:  67 cost = 0.00023959072132129222\n",
      "Epoch:  68 cost = 0.00046354567166417837\n",
      "Epoch:  69 cost = 0.000263884081505239\n",
      "Epoch:  70 cost = 0.0004816318687517196\n",
      "Epoch:  71 cost = 0.00036431869375519454\n",
      "Epoch:  72 cost = 0.00036782483221031725\n",
      "Epoch:  73 cost = 0.0005586973857134581\n",
      "Epoch:  74 cost = 0.00023548795434180647\n",
      "Epoch:  75 cost = 0.00017601775471121073\n",
      "Epoch:  76 cost = 0.0004548822180368006\n",
      "Epoch:  77 cost = 0.0001573375629959628\n",
      "Epoch:  78 cost = 0.00011984368757111952\n",
      "Epoch:  79 cost = 0.00020938264788128436\n",
      "Epoch:  80 cost = 0.00024012259382288903\n",
      "Epoch:  81 cost = 0.0001241823920281604\n",
      "Epoch:  82 cost = 0.00024549022782593966\n",
      "Epoch:  83 cost = 0.00021584336354862899\n",
      "Epoch:  84 cost = 9.232706361217424e-05\n",
      "Epoch:  85 cost = 0.00024909363128244877\n",
      "Epoch:  86 cost = 0.0003662286326289177\n",
      "Epoch:  87 cost = 0.0001293114764848724\n",
      "Epoch:  88 cost = 0.00046531567932106555\n",
      "Epoch:  89 cost = 0.00025178384385071695\n",
      "Epoch:  90 cost = 0.000362950173439458\n",
      "Epoch:  91 cost = 0.0005071584600955248\n",
      "Epoch:  92 cost = 0.00019701619748957455\n",
      "Epoch:  93 cost = 0.0006509921513497829\n",
      "Epoch:  94 cost = 0.0004529562429524958\n",
      "Epoch:  95 cost = 0.0010777548886835575\n",
      "Epoch:  96 cost = 0.00015822517161723226\n",
      "Epoch:  97 cost = 0.0001581397809786722\n",
      "Epoch:  98 cost = 0.0006126333610154688\n",
      "Epoch:  99 cost = 0.00012276085908524692\n",
      "Epoch:  100 cost = 0.00017527941963635385\n",
      "최적화 완료!\n"
     ]
    }
   ],
   "source": [
    "sess = tf.Session()\n",
    "sess.run(tf.global_variables_initializer())\n",
    "\n",
    "input_batch, output_batch, target_batch = make_batch(seq_data)\n",
    "\n",
    "for epoch in range(total_epoch):\n",
    "    _, loss = sess.run([optimizer, cost], \n",
    "                       feed_dict={enc_input:input_batch, \n",
    "                                  dec_input:output_batch,\n",
    "                                  targets:target_batch} )\n",
    "    \n",
    "    print('Epoch:  {}'.format(epoch + 1),\n",
    "          'cost = {}'.format(loss))\n",
    "\n",
    "print(\"최적화 완료!\")"
   ]
  },
  {
   "cell_type": "code",
   "execution_count": 13,
   "metadata": {},
   "outputs": [],
   "source": [
    "#########\n",
    "# 번역 테스트\n",
    "######\n",
    "# 단어를 입력받아 번역 단어를 예측하고 디코딩하는 함수\n",
    "def translate(word):\n",
    "    # 이 모델은 입력값과 출력값 데이터로 [영어단어, 한글단어] 사용하지만,\n",
    "    # 예측시에는 한글단어를 알지 못하므로, 디코더의 입출력값을 의미 없는 값인 P 값으로 채운다.\n",
    "    # ['word', 'PPPP']\n",
    "    seq_data = [word, 'P' * len(word)]\n",
    "\n",
    "    input_batch, output_batch, target_batch = make_batch([seq_data])\n",
    "\n",
    "    # 결과가 [batch size, time step, input] 으로 나오기 때문에,\n",
    "    # 2번째 차원인 input 차원을 argmax 로 취해 가장 확률이 높은 글자를 예측 값으로 만든다.\n",
    "    prediction = tf.argmax(model, 2)\n",
    "\n",
    "    result = sess.run(prediction,\n",
    "                      feed_dict={enc_input: input_batch,\n",
    "                                 dec_input: output_batch,\n",
    "                                 targets: target_batch})\n",
    "\n",
    "    # 결과 값인 숫자의 인덱스에 해당하는 글자를 가져와 글자 배열을 만든다.\n",
    "    decoded = [char_arr[i] for i in result[0]]\n",
    "\n",
    "    # 출력의 끝을 의미하는 'E' 이후의 글자들을 제거하고 문자열로 만든다.\n",
    "    end = decoded.index('E')\n",
    "    translated = ''.join(decoded[:end])\n",
    "\n",
    "    return translated\n"
   ]
  },
  {
   "cell_type": "code",
   "execution_count": 14,
   "metadata": {},
   "outputs": [
    {
     "name": "stdout",
     "output_type": "stream",
     "text": [
      "\n",
      "=== 번역 테스트 ===\n",
      "tree -> 나무\n",
      "food -> 음식\n",
      "love -> 사랑\n",
      "loev -> 사랑\n",
      "carf -> 카드\n"
     ]
    }
   ],
   "source": [
    "print('\\n=== 번역 테스트 ===')\n",
    "\n",
    "print('tree ->', translate('tree'))\n",
    "print('food ->', translate('food'))\n",
    "print('love ->', translate('love'))\n",
    "print('loev ->', translate('loev'))\n",
    "print('carf ->', translate('carf'))"
   ]
  }
 ],
 "metadata": {
  "kernelspec": {
   "display_name": "Python 3",
   "language": "python",
   "name": "python3"
  },
  "language_info": {
   "codemirror_mode": {
    "name": "ipython",
    "version": 3
   },
   "file_extension": ".py",
   "mimetype": "text/x-python",
   "name": "python",
   "nbconvert_exporter": "python",
   "pygments_lexer": "ipython3",
   "version": "3.6.5"
  }
 },
 "nbformat": 4,
 "nbformat_minor": 2
}
